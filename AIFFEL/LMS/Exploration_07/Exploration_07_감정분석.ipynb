{
 "cells": [
  {
   "cell_type": "markdown",
   "id": "contemporary-pearl",
   "metadata": {},
   "source": [
    "## Exploration_07 영화리뷰 텍스트 감성분석하기\n",
    "### Step 1. 데이터 준비"
   ]
  },
  {
   "cell_type": "code",
   "execution_count": 467,
   "id": "packed-franklin",
   "metadata": {
    "scrolled": true
   },
   "outputs": [
    {
     "data": {
      "text/html": [
       "<div>\n",
       "<style scoped>\n",
       "    .dataframe tbody tr th:only-of-type {\n",
       "        vertical-align: middle;\n",
       "    }\n",
       "\n",
       "    .dataframe tbody tr th {\n",
       "        vertical-align: top;\n",
       "    }\n",
       "\n",
       "    .dataframe thead th {\n",
       "        text-align: right;\n",
       "    }\n",
       "</style>\n",
       "<table border=\"1\" class=\"dataframe\">\n",
       "  <thead>\n",
       "    <tr style=\"text-align: right;\">\n",
       "      <th></th>\n",
       "      <th>id</th>\n",
       "      <th>document</th>\n",
       "      <th>label</th>\n",
       "    </tr>\n",
       "  </thead>\n",
       "  <tbody>\n",
       "    <tr>\n",
       "      <th>149995</th>\n",
       "      <td>6222902</td>\n",
       "      <td>인간이 문제지.. 소는 뭔죄인가..</td>\n",
       "      <td>0</td>\n",
       "    </tr>\n",
       "    <tr>\n",
       "      <th>149996</th>\n",
       "      <td>8549745</td>\n",
       "      <td>평점이 너무 낮아서...</td>\n",
       "      <td>1</td>\n",
       "    </tr>\n",
       "    <tr>\n",
       "      <th>149997</th>\n",
       "      <td>9311800</td>\n",
       "      <td>이게 뭐요? 한국인은 거들먹거리고 필리핀 혼혈은 착하다?</td>\n",
       "      <td>0</td>\n",
       "    </tr>\n",
       "    <tr>\n",
       "      <th>149998</th>\n",
       "      <td>2376369</td>\n",
       "      <td>청춘 영화의 최고봉.방황과 우울했던 날들의 자화상</td>\n",
       "      <td>1</td>\n",
       "    </tr>\n",
       "    <tr>\n",
       "      <th>149999</th>\n",
       "      <td>9619869</td>\n",
       "      <td>한국 영화 최초로 수간하는 내용이 담긴 영화</td>\n",
       "      <td>0</td>\n",
       "    </tr>\n",
       "  </tbody>\n",
       "</table>\n",
       "</div>"
      ],
      "text/plain": [
       "             id                         document  label\n",
       "149995  6222902              인간이 문제지.. 소는 뭔죄인가..      0\n",
       "149996  8549745                    평점이 너무 낮아서...      1\n",
       "149997  9311800  이게 뭐요? 한국인은 거들먹거리고 필리핀 혼혈은 착하다?      0\n",
       "149998  2376369      청춘 영화의 최고봉.방황과 우울했던 날들의 자화상      1\n",
       "149999  9619869         한국 영화 최초로 수간하는 내용이 담긴 영화      0"
      ]
     },
     "execution_count": 467,
     "metadata": {},
     "output_type": "execute_result"
    }
   ],
   "source": [
    "import pandas as pd\n",
    "import urllib.request\n",
    "%matplotlib inline\n",
    "import matplotlib.pyplot as plt\n",
    "import re\n",
    "from konlpy.tag import Okt\n",
    "from tensorflow import keras\n",
    "from tensorflow.keras.preprocessing.text import Tokenizer\n",
    "import numpy as np\n",
    "from tensorflow.keras.preprocessing.sequence import pad_sequences\n",
    "from collections import Counter\n",
    "\n",
    "# 데이터를 읽어봅시다. \n",
    "train_data = pd.read_table('~/aiffel/sentiment_classification/data/ratings_train.txt')\n",
    "test_data = pd.read_table('~/aiffel/sentiment_classification/data/ratings_test.txt')\n",
    "\n",
    "train_data.tail()"
   ]
  },
  {
   "cell_type": "code",
   "execution_count": 468,
   "id": "indian-coaching",
   "metadata": {},
   "outputs": [],
   "source": [
    "from konlpy.tag import Mecab\n",
    "tokenizer = Mecab()\n",
    "stopwords = ['의','가','이','은','들','는','좀','잘','걍','과','도','를','으로','자','에','와','한','하다']\n",
    "\n",
    "def load_data(train_data, test_data, num_words=10000):\n",
    "    train_data.drop_duplicates(subset=['document'], inplace=True)\n",
    "    train_data = train_data.dropna(how = 'any') \n",
    "    test_data.drop_duplicates(subset=['document'], inplace=True)\n",
    "    test_data = test_data.dropna(how = 'any') \n",
    "    \n",
    "    X_train = []\n",
    "    for sentence in train_data['document']:\n",
    "        temp_X = tokenizer.morphs(sentence) # 토큰화\n",
    "        temp_X = [word for word in temp_X if not word in stopwords] # 불용어 제거\n",
    "        X_train.append(temp_X)\n",
    "\n",
    "    X_test = []\n",
    "    for sentence in test_data['document']:\n",
    "        temp_X = tokenizer.morphs(sentence) # 토큰화\n",
    "        temp_X = [word for word in temp_X if not word in stopwords] # 불용어 제거\n",
    "        X_test.append(temp_X)\n",
    "    \n",
    "    words = np.concatenate(X_train).tolist()\n",
    "    counter = Counter(words)\n",
    "    counter = counter.most_common(num_words-4)\n",
    "    vocab = ['', '', '', ''] + [key for key, _ in counter]\n",
    "    word_to_index = {word:index for index, word in enumerate(vocab)}\n",
    "    word_to_index['<PAD>'] = 0\n",
    "    word_to_index['<BOS>'] = 1\n",
    "    word_to_index['<UNK>'] = 2    \n",
    "        \n",
    "    def wordlist_to_indexlist(wordlist):\n",
    "        return [word_to_index[word] if word in word_to_index else word_to_index[''] for word in wordlist]\n",
    "        \n",
    "    X_train = list(map(wordlist_to_indexlist, X_train))\n",
    "    X_test = list(map(wordlist_to_indexlist, X_test))\n",
    "        \n",
    "    return X_train, np.array(list(train_data['label'])), X_test, np.array(list(test_data['label'])), word_to_index\n",
    "    \n",
    "X_train, y_train, X_test, y_test, word_to_index = load_data(train_data, test_data) "
   ]
  },
  {
   "cell_type": "code",
   "execution_count": 469,
   "id": "precise-vertical",
   "metadata": {},
   "outputs": [],
   "source": [
    "# 비어있는 key 0, 1, 2를 각각의 값으로 채워준다.\n",
    "index_to_word = {index:word for word, index in word_to_index.items()}\n",
    "index_to_word[0] = '<PAD>'\n",
    "index_to_word[1] = '<BOS>'\n",
    "index_to_word[2] = '<UNK>'"
   ]
  },
  {
   "cell_type": "code",
   "execution_count": 470,
   "id": "hawaiian-local",
   "metadata": {},
   "outputs": [],
   "source": [
    "# 문장 1개를 활용할 딕셔너리와 함께 주면, 단어 인덱스 리스트 벡터로 변환해 주는 함수입니다. \n",
    "# 단, 모든 문장은 <BOS>로 시작하는 것으로 합니다. \n",
    "def get_encoded_sentence(sentence, word_to_index):\n",
    "    return [word_to_index['<BOS>']]+[word_to_index[word] if word in word_to_index else word_to_index['<UNK>'] for word in sentence.split()]\n",
    "\n",
    "# 여러 개의 문장 리스트를 한꺼번에 단어 인덱스 리스트 벡터로 encode해 주는 함수입니다. \n",
    "def get_encoded_sentences(sentences, word_to_index):\n",
    "    return [get_encoded_sentence(sentence, word_to_index) for sentence in sentences]\n",
    "\n",
    "# 숫자 벡터로 encode된 문장을 원래대로 decode하는 함수입니다. \n",
    "def get_decoded_sentence(encoded_sentence, index_to_word):\n",
    "    return ' '.join(index_to_word[index] if index in index_to_word else '<UNK>' for index in encoded_sentence[1:])  #[1:]를 통해 <BOS>를 제외\n",
    "\n",
    "# 여러 개의 숫자 벡터로 encode된 문장을 한꺼번에 원래대로 decode하는 함수입니다. \n",
    "def get_decoded_sentences(encoded_sentences, index_to_word):\n",
    "    return [get_decoded_sentence(encoded_sentence, index_to_word) for encoded_sentence in encoded_sentences]"
   ]
  },
  {
   "cell_type": "markdown",
   "id": "liquid-france",
   "metadata": {},
   "source": [
    "#### data shape 및 함수 작동 확인"
   ]
  },
  {
   "cell_type": "code",
   "execution_count": 471,
   "id": "opposed-thread",
   "metadata": {},
   "outputs": [
    {
     "data": {
      "text/plain": [
       "(146183, 3)"
      ]
     },
     "execution_count": 471,
     "metadata": {},
     "output_type": "execute_result"
    }
   ],
   "source": [
    "train_data.shape"
   ]
  },
  {
   "cell_type": "code",
   "execution_count": 472,
   "id": "described-malawi",
   "metadata": {},
   "outputs": [
    {
     "data": {
      "text/plain": [
       "(49158, 3)"
      ]
     },
     "execution_count": 472,
     "metadata": {},
     "output_type": "execute_result"
    }
   ],
   "source": [
    "test_data.shape"
   ]
  },
  {
   "cell_type": "code",
   "execution_count": 473,
   "id": "played-enemy",
   "metadata": {},
   "outputs": [
    {
     "data": {
      "text/plain": [
       "[32, 74, 919, 4, 4, 39, 228, 20, 33, 748]"
      ]
     },
     "execution_count": 473,
     "metadata": {},
     "output_type": "execute_result"
    }
   ],
   "source": [
    "X_train[0]"
   ]
  },
  {
   "cell_type": "code",
   "execution_count": 474,
   "id": "legislative-porter",
   "metadata": {},
   "outputs": [
    {
     "data": {
      "text/plain": [
       "[1028, 4, 11, 519, 549, 687, 5, 120, 4, 70, 1639, 52, 925, 1006, 15, 44, 391]"
      ]
     },
     "execution_count": 474,
     "metadata": {},
     "output_type": "execute_result"
    }
   ],
   "source": [
    "X_train[1]"
   ]
  },
  {
   "cell_type": "code",
   "execution_count": 475,
   "id": "productive-distance",
   "metadata": {},
   "outputs": [
    {
     "data": {
      "text/plain": [
       "'익살 스런 연기 돋보였 던 영화 ! 스파이더맨 에서 늙 어 보이 기 만 했 던   너무나 이뻐 보였 다'"
      ]
     },
     "execution_count": 475,
     "metadata": {},
     "output_type": "execute_result"
    }
   ],
   "source": [
    "get_decoded_sentence(X_train[4], index_to_word)"
   ]
  },
  {
   "cell_type": "code",
   "execution_count": 476,
   "id": "recognized-implement",
   "metadata": {},
   "outputs": [
    {
     "data": {
      "text/plain": [
       "'야 평점 . ... 나쁘 진 않 지만 10 점 짜리 더더욱 아니 잖아'"
      ]
     },
     "execution_count": 476,
     "metadata": {},
     "output_type": "execute_result"
    }
   ],
   "source": [
    "get_decoded_sentence(X_test[2], index_to_word)"
   ]
  },
  {
   "cell_type": "markdown",
   "id": "unlike-affiliation",
   "metadata": {},
   "source": [
    "### Step 3. 모델구성을 위한 데이터 분석 및 가공\n",
    "#### 적절한 최대 문장 길이 지정"
   ]
  },
  {
   "cell_type": "code",
   "execution_count": 477,
   "id": "hired-command",
   "metadata": {},
   "outputs": [
    {
     "name": "stdout",
     "output_type": "stream",
     "text": [
      "문장길이 평균 :  15.96940191154864\n",
      "문장길이 최대 :  116\n",
      "문장길이 표준편차 :  12.843571191092\n",
      "pad_sequences maxlen :  41\n",
      "전체 문장의 0.9342988343341575%가 maxlen 설정값 이내에 포함됩니다. \n"
     ]
    }
   ],
   "source": [
    "# PAD 추가를 위해 max length를 정할 때 사용\n",
    "\n",
    "total_data_text = list(X_train) + list(X_test)\n",
    "# 텍스트데이터 문장길이의 리스트를 생성한 후\n",
    "num_tokens = [len(tokens) for tokens in total_data_text]\n",
    "num_tokens = np.array(num_tokens)\n",
    "# 문장길이의 평균값, 최대값, 표준편차를 계산해 본다. \n",
    "print('문장길이 평균 : ', np.mean(num_tokens))\n",
    "print('문장길이 최대 : ', np.max(num_tokens))\n",
    "print('문장길이 표준편차 : ', np.std(num_tokens))\n",
    "\n",
    "# 예를들어, 최대 길이를 (평균 + 2*표준편차)로 한다면,  \n",
    "max_tokens = np.mean(num_tokens) + 2 * np.std(num_tokens)\n",
    "maxlen = int(max_tokens)\n",
    "print('pad_sequences maxlen : ', maxlen)\n",
    "print('전체 문장의 {}%가 maxlen 설정값 이내에 포함됩니다. '.format(np.sum(num_tokens < max_tokens) / len(num_tokens)))"
   ]
  },
  {
   "cell_type": "code",
   "execution_count": 478,
   "id": "spread-translation",
   "metadata": {},
   "outputs": [
    {
     "name": "stdout",
     "output_type": "stream",
     "text": [
      "문장길이 최대 재확인: 116\n"
     ]
    }
   ],
   "source": [
    "# 문장 최대 길이 검색\n",
    "sen_len = []\n",
    "max_len = 0\n",
    "for i in range(len(X_train)):\n",
    "    sen_len.append(len(X_train[i]))\n",
    "    if len(X_train[i]) > max_len:\n",
    "        max_len = len(X_train[i])\n",
    "\n",
    "print(f'문장길이 최대 재확인: {max_len}')"
   ]
  },
  {
   "cell_type": "markdown",
   "id": "excessive-design",
   "metadata": {},
   "source": [
    "#### 패딩 추가"
   ]
  },
  {
   "cell_type": "code",
   "execution_count": 479,
   "id": "incomplete-meaning",
   "metadata": {},
   "outputs": [
    {
     "name": "stdout",
     "output_type": "stream",
     "text": [
      "(146182, 41)\n"
     ]
    }
   ],
   "source": [
    "X_train = keras.preprocessing.sequence.pad_sequences(X_train,\n",
    "                                                        value=word_to_index[\"<PAD>\"],\n",
    "                                                        padding='pre', # 'pre' 가 'post' 보다 계산상 좋다고함\n",
    "                                                        maxlen=maxlen)\n",
    "\n",
    "X_test = keras.preprocessing.sequence.pad_sequences(X_test,\n",
    "                                                       value=word_to_index[\"<PAD>\"],\n",
    "                                                       padding='pre', # 'pre' 가 'post' 보다 계산상 좋다고함\n",
    "                                                       maxlen=maxlen)\n",
    "\n",
    "print(X_train.shape)"
   ]
  },
  {
   "cell_type": "code",
   "execution_count": 480,
   "id": "respective-belize",
   "metadata": {
    "scrolled": true
   },
   "outputs": [
    {
     "name": "stdout",
     "output_type": "stream",
     "text": [
      "tf.Tensor(\n",
      "[[[ 0.0009033  -0.00227249  0.03501468  0.02782368]\n",
      "  [ 0.0009033  -0.00227249  0.03501468  0.02782368]\n",
      "  [ 0.0009033  -0.00227249  0.03501468  0.02782368]\n",
      "  ...\n",
      "  [-0.01356485  0.00429877 -0.02051493  0.02943074]\n",
      "  [ 0.00593574 -0.02901868  0.03775239  0.01399142]\n",
      "  [ 0.04682073 -0.02501825  0.00457961 -0.00614367]]\n",
      "\n",
      " [[ 0.0009033  -0.00227249  0.03501468  0.02782368]\n",
      "  [ 0.0009033  -0.00227249  0.03501468  0.02782368]\n",
      "  [ 0.0009033  -0.00227249  0.03501468  0.02782368]\n",
      "  ...\n",
      "  [ 0.04104718  0.00505706 -0.00472488  0.04498117]\n",
      "  [ 0.03419307  0.03119436 -0.00881859 -0.02929885]\n",
      "  [-0.03965174 -0.03420528  0.01091882  0.01970886]]\n",
      "\n",
      " [[ 0.0009033  -0.00227249  0.03501468  0.02782368]\n",
      "  [ 0.0009033  -0.00227249  0.03501468  0.02782368]\n",
      "  [ 0.0009033  -0.00227249  0.03501468  0.02782368]\n",
      "  ...\n",
      "  [ 0.01807387  0.04592204  0.01503642  0.02590367]\n",
      "  [-0.03185922 -0.03901904 -0.03580869  0.02568949]\n",
      "  [ 0.03674388  0.03488635  0.01478097 -0.01845074]]\n",
      "\n",
      " ...\n",
      "\n",
      " [[ 0.0009033  -0.00227249  0.03501468  0.02782368]\n",
      "  [ 0.0009033  -0.00227249  0.03501468  0.02782368]\n",
      "  [ 0.0009033  -0.00227249  0.03501468  0.02782368]\n",
      "  ...\n",
      "  [-0.03157328 -0.03724562 -0.00744922 -0.02373335]\n",
      "  [-0.03818256 -0.00173802  0.04089784  0.03972569]\n",
      "  [ 0.00178711 -0.02957511 -0.02235806  0.04375805]]\n",
      "\n",
      " [[ 0.0009033  -0.00227249  0.03501468  0.02782368]\n",
      "  [ 0.0009033  -0.00227249  0.03501468  0.02782368]\n",
      "  [ 0.0009033  -0.00227249  0.03501468  0.02782368]\n",
      "  ...\n",
      "  [-0.00717614 -0.04029009  0.02015476  0.00812035]\n",
      "  [-0.01362585 -0.00620196 -0.00070785 -0.02310141]\n",
      "  [-0.03613081 -0.00305539 -0.01512935 -0.00785307]]\n",
      "\n",
      " [[ 0.0009033  -0.00227249  0.03501468  0.02782368]\n",
      "  [ 0.0009033  -0.00227249  0.03501468  0.02782368]\n",
      "  [ 0.0009033  -0.00227249  0.03501468  0.02782368]\n",
      "  ...\n",
      "  [-0.00492525  0.00766255 -0.0450874  -0.00015622]\n",
      "  [-0.03984468  0.03342118  0.0468703  -0.02669742]\n",
      "  [-0.0368484  -0.03043534 -0.02821502  0.04387467]]], shape=(146182, 41, 4), dtype=float32)\n"
     ]
    }
   ],
   "source": [
    "import numpy as np\n",
    "import tensorflow as tf\n",
    "\n",
    "vocab_size = len(word_to_index)  # 총 단어의 개수\n",
    "word_vector_dim = 4    # 각 단어가 가지는 dimension\n",
    "\n",
    "embedding = tf.keras.layers.Embedding(input_dim=vocab_size, output_dim=word_vector_dim, mask_zero=True)\n",
    "\n",
    "# keras.preprocessing.sequence.pad_sequences를 통해 word vector를 모두 일정 길이로 맞춰주어야 \n",
    "# embedding 레이어의 input이 될 수 있음에 주의해 주세요. \n",
    "raw_inputs = np.array(X_train)\n",
    "raw_inputs = keras.preprocessing.sequence.pad_sequences(raw_inputs,\n",
    "                                                       value=word_to_index['<PAD>'],\n",
    "                                                       padding='pre',\n",
    "                                                       maxlen=maxlen) # 최대 문장길이\n",
    "output = embedding(raw_inputs)\n",
    "print(output)"
   ]
  },
  {
   "cell_type": "markdown",
   "id": "complex-planning",
   "metadata": {},
   "source": [
    "### Step 4. 모델 구성 및 validation set 구성\n",
    "#### 각 train, test 데이터의 길이 확인 및 타입 확인"
   ]
  },
  {
   "cell_type": "code",
   "execution_count": 481,
   "id": "tight-stress",
   "metadata": {
    "scrolled": true
   },
   "outputs": [
    {
     "name": "stdout",
     "output_type": "stream",
     "text": [
      "146182\n",
      "146182\n",
      "49157\n",
      "49157\n"
     ]
    }
   ],
   "source": [
    "print(len(X_train))\n",
    "print(len(y_train))\n",
    "print(len(X_test))\n",
    "print(len(y_test))"
   ]
  },
  {
   "cell_type": "code",
   "execution_count": 482,
   "id": "exotic-entry",
   "metadata": {},
   "outputs": [
    {
     "data": {
      "text/plain": [
       "43855"
      ]
     },
     "execution_count": 482,
     "metadata": {},
     "output_type": "execute_result"
    }
   ],
   "source": [
    "round(len(X_train)*0.3)"
   ]
  },
  {
   "cell_type": "code",
   "execution_count": 483,
   "id": "intermediate-version",
   "metadata": {},
   "outputs": [
    {
     "name": "stdout",
     "output_type": "stream",
     "text": [
      "124255\n",
      "124255\n",
      "21927\n",
      "21927\n",
      "49157\n",
      "49157\n"
     ]
    }
   ],
   "source": [
    "# Validation 을 위한 데이터 분리 ( train : val = 8 .5: 1.5)\n",
    "\n",
    "# validation set 15% 분리\n",
    "x_val = X_train[:round(len(X_train)*0.15)]\n",
    "y_val = y_train[:round(len(X_train)*0.15)]\n",
    "\n",
    "# validation set을 제외한 나머지 대략 85%\n",
    "partial_x_train = X_train[round(len(X_train)*0.15):]  \n",
    "partial_y_train = y_train[round(len(X_train)*0.15):]\n",
    "\n",
    "# 변수들 크기 확인\n",
    "print(len(partial_x_train))\n",
    "print(len(partial_y_train))\n",
    "print(len(x_val))\n",
    "print(len(y_val))\n",
    "print(len(X_test))\n",
    "print(len(y_test))"
   ]
  },
  {
   "cell_type": "code",
   "execution_count": 484,
   "id": "nutritional-bloom",
   "metadata": {},
   "outputs": [
    {
     "name": "stdout",
     "output_type": "stream",
     "text": [
      "<class 'numpy.ndarray'>\n",
      "<class 'numpy.ndarray'>\n",
      "<class 'numpy.ndarray'>\n",
      "<class 'numpy.ndarray'>\n",
      "<class 'numpy.ndarray'>\n",
      "<class 'numpy.ndarray'>\n"
     ]
    }
   ],
   "source": [
    "# 변수들 type 확인\n",
    "\n",
    "print(type(x_val))\n",
    "print(type(y_val))\n",
    "print(type(X_train))\n",
    "print(type(y_train))\n",
    "print(type(partial_x_train))\n",
    "print(type(partial_y_train))"
   ]
  },
  {
   "cell_type": "markdown",
   "id": "attractive-maine",
   "metadata": {},
   "source": [
    "### Step 5. 모델 학습 시작 (embedding) & Step 6. 시각화\n",
    "#### RNN model 학습"
   ]
  },
  {
   "cell_type": "code",
   "execution_count": 485,
   "id": "legislative-flight",
   "metadata": {
    "scrolled": false
   },
   "outputs": [
    {
     "name": "stdout",
     "output_type": "stream",
     "text": [
      "Model: \"sequential_47\"\n",
      "_________________________________________________________________\n",
      "Layer (type)                 Output Shape              Param #   \n",
      "=================================================================\n",
      "embedding_55 (Embedding)     (None, None, 16)          160000    \n",
      "_________________________________________________________________\n",
      "lstm_16 (LSTM)               (None, 8)                 800       \n",
      "_________________________________________________________________\n",
      "dense_90 (Dense)             (None, 8)                 72        \n",
      "_________________________________________________________________\n",
      "dense_91 (Dense)             (None, 1)                 9         \n",
      "=================================================================\n",
      "Total params: 160,881\n",
      "Trainable params: 160,881\n",
      "Non-trainable params: 0\n",
      "_________________________________________________________________\n"
     ]
    }
   ],
   "source": [
    "# RNN\n",
    "\n",
    "vocab_size = len(word_to_index)  # 어휘 사전의 크기입니다(10개의 단어)\n",
    "word_vector_dim = 16  # 단어 하나를 표현하는 임베딩 벡터의 차원수입니다. \n",
    "\n",
    "model = keras.Sequential()\n",
    "model.add(keras.layers.Embedding(vocab_size, word_vector_dim, input_shape=(None,)))\n",
    "model.add(keras.layers.LSTM(8))   # 가장 널리 쓰이는 RNN인 LSTM 레이어를 사용. 이때 LSTM state 벡터의 차원수는 8.\n",
    "model.add(keras.layers.Dense(8, activation='relu'))\n",
    "model.add(keras.layers.Dense(1, activation='sigmoid'))  # 최종 출력은 긍정/부정을 나타내는 1dim 입니다.\n",
    "\n",
    "model.summary()"
   ]
  },
  {
   "cell_type": "code",
   "execution_count": 486,
   "id": "nutritional-pursuit",
   "metadata": {
    "scrolled": true
   },
   "outputs": [
    {
     "name": "stdout",
     "output_type": "stream",
     "text": [
      "Epoch 1/20\n",
      "243/243 [==============================] - 4s 12ms/step - loss: 0.6039 - accuracy: 0.6810 - val_loss: 0.3639 - val_accuracy: 0.8468\n",
      "Epoch 2/20\n",
      "243/243 [==============================] - 2s 10ms/step - loss: 0.3449 - accuracy: 0.8561 - val_loss: 0.3455 - val_accuracy: 0.8500\n",
      "Epoch 3/20\n",
      "243/243 [==============================] - 2s 10ms/step - loss: 0.3169 - accuracy: 0.8696 - val_loss: 0.3470 - val_accuracy: 0.8507\n",
      "Epoch 4/20\n",
      "243/243 [==============================] - 2s 10ms/step - loss: 0.3005 - accuracy: 0.8761 - val_loss: 0.3458 - val_accuracy: 0.8506\n",
      "Epoch 5/20\n",
      "243/243 [==============================] - 2s 10ms/step - loss: 0.2954 - accuracy: 0.8787 - val_loss: 0.3453 - val_accuracy: 0.8492\n",
      "Epoch 6/20\n",
      "243/243 [==============================] - 2s 10ms/step - loss: 0.2851 - accuracy: 0.8831 - val_loss: 0.3491 - val_accuracy: 0.8504\n",
      "Epoch 7/20\n",
      "243/243 [==============================] - 2s 10ms/step - loss: 0.2731 - accuracy: 0.8893 - val_loss: 0.3494 - val_accuracy: 0.8532\n",
      "Epoch 8/20\n",
      "243/243 [==============================] - 2s 10ms/step - loss: 0.2610 - accuracy: 0.8941 - val_loss: 0.3490 - val_accuracy: 0.8523\n",
      "Epoch 9/20\n",
      "243/243 [==============================] - 2s 10ms/step - loss: 0.2496 - accuracy: 0.9004 - val_loss: 0.3533 - val_accuracy: 0.8497\n",
      "Epoch 10/20\n",
      "243/243 [==============================] - 3s 10ms/step - loss: 0.2384 - accuracy: 0.9047 - val_loss: 0.3647 - val_accuracy: 0.8510\n",
      "Epoch 11/20\n",
      "243/243 [==============================] - 2s 10ms/step - loss: 0.2295 - accuracy: 0.9096 - val_loss: 0.3686 - val_accuracy: 0.8519\n",
      "Epoch 12/20\n",
      "243/243 [==============================] - 3s 10ms/step - loss: 0.2192 - accuracy: 0.9138 - val_loss: 0.3795 - val_accuracy: 0.8496\n",
      "Epoch 13/20\n",
      "243/243 [==============================] - 3s 11ms/step - loss: 0.2116 - accuracy: 0.9170 - val_loss: 0.3896 - val_accuracy: 0.8474\n",
      "Epoch 14/20\n",
      "243/243 [==============================] - 3s 11ms/step - loss: 0.2002 - accuracy: 0.9223 - val_loss: 0.4106 - val_accuracy: 0.8472\n",
      "Epoch 15/20\n",
      "243/243 [==============================] - 3s 11ms/step - loss: 0.1927 - accuracy: 0.9266 - val_loss: 0.4163 - val_accuracy: 0.8461\n",
      "Epoch 16/20\n",
      "243/243 [==============================] - 3s 11ms/step - loss: 0.1841 - accuracy: 0.9286 - val_loss: 0.4355 - val_accuracy: 0.8459\n",
      "Epoch 17/20\n",
      "243/243 [==============================] - 3s 10ms/step - loss: 0.1789 - accuracy: 0.9312 - val_loss: 0.4482 - val_accuracy: 0.8454\n",
      "Epoch 18/20\n",
      "243/243 [==============================] - 3s 10ms/step - loss: 0.1749 - accuracy: 0.9337 - val_loss: 0.4515 - val_accuracy: 0.8421\n",
      "Epoch 19/20\n",
      "243/243 [==============================] - 2s 10ms/step - loss: 0.1705 - accuracy: 0.9359 - val_loss: 0.4823 - val_accuracy: 0.8434\n",
      "Epoch 20/20\n",
      "243/243 [==============================] - 3s 11ms/step - loss: 0.1616 - accuracy: 0.9400 - val_loss: 0.5023 - val_accuracy: 0.8424\n"
     ]
    }
   ],
   "source": [
    "model.compile(optimizer='adam',\n",
    "              loss='binary_crossentropy',\n",
    "              metrics=['accuracy'])\n",
    "              \n",
    "epochs=20\n",
    "\n",
    "history = model.fit(partial_x_train,\n",
    "                    partial_y_train,\n",
    "                    epochs=epochs,\n",
    "                    batch_size=512,\n",
    "                    validation_data=(x_val, y_val),\n",
    "                    verbose=1)"
   ]
  },
  {
   "cell_type": "code",
   "execution_count": 487,
   "id": "duplicate-kelly",
   "metadata": {},
   "outputs": [
    {
     "name": "stdout",
     "output_type": "stream",
     "text": [
      "1537/1537 [==============================] - 6s 4ms/step - loss: 0.5053 - accuracy: 0.8376\n",
      "[0.5052735805511475, 0.837561309337616]\n"
     ]
    }
   ],
   "source": [
    "# 결과확인\n",
    "rnn_results = model.evaluate(X_test,  y_test, verbose=1)\n",
    "\n",
    "print(rnn_results)"
   ]
  },
  {
   "cell_type": "markdown",
   "id": "nearby-spare",
   "metadata": {},
   "source": [
    "#### RNN model 시각화\n",
    "* 각 train, validation data에 대한 loss, accuracy의 변화를 그래프상의 실선과 점선으로 비교"
   ]
  },
  {
   "cell_type": "code",
   "execution_count": 488,
   "id": "certain-reservoir",
   "metadata": {
    "scrolled": false
   },
   "outputs": [
    {
     "name": "stdout",
     "output_type": "stream",
     "text": [
      "dict_keys(['loss', 'accuracy', 'val_loss', 'val_accuracy'])\n"
     ]
    },
    {
     "data": {
      "image/png": "[encoded data removed]",
      "text/plain": [
       "<Figure size 1008x432 with 2 Axes>"
      ]
     },
     "metadata": {
      "needs_background": "light"
     },
     "output_type": "display_data"
    }
   ],
   "source": [
    "import matplotlib.pyplot as plt\n",
    "\n",
    "history_dict = history.history\n",
    "print(history_dict.keys()) # epoch에 따른 그래프를 그려볼 수 있는 항목들\n",
    "\n",
    "acc = history_dict['accuracy']\n",
    "val_acc = history_dict['val_accuracy']\n",
    "loss = history_dict['loss']\n",
    "val_loss = history_dict['val_loss']\n",
    "\n",
    "epochs = range(1, len(acc) + 1)\n",
    "\n",
    "# \"bo\"는 \"파란색 점\"입니다\n",
    "f, ax = plt.subplots(1, 2, figsize=(14, 6))\n",
    "ax[0].plot(epochs, loss, 'bo', label='Training loss')\n",
    "# b는 \"파란 실선\"입니다\n",
    "ax[0].plot(epochs, val_loss, 'b', label='Validation loss')\n",
    "ax[0].set_title('Training and validation loss')\n",
    "ax[0].set_xlabel('Epochs')\n",
    "ax[0].set_ylabel('Loss')\n",
    "ax[0].legend()\n",
    "\n",
    "ax[1].plot(epochs, acc, 'ro', label='Training acc', )\n",
    "ax[1].plot(epochs, val_acc, 'r', label='Validation acc')\n",
    "ax[1].set_title('Training and validation accuracy')\n",
    "ax[1].set_xlabel('Epochs')\n",
    "ax[1].set_ylabel('Accuracy')\n",
    "ax[1].legend()\n",
    "\n",
    "plt.show()"
   ]
  },
  {
   "cell_type": "markdown",
   "id": "future-glenn",
   "metadata": {},
   "source": [
    "* overfitting 이 과하게 발생하는 걸 볼 수 있다. \n",
    "* 따라서 어느정도 이를 방지 하기 위해 dropout()을 추가 해 주고 다시 실행 해 보았다."
   ]
  },
  {
   "cell_type": "code",
   "execution_count": 489,
   "id": "subsequent-monday",
   "metadata": {},
   "outputs": [
    {
     "name": "stdout",
     "output_type": "stream",
     "text": [
      "Model: \"sequential_48\"\n",
      "_________________________________________________________________\n",
      "Layer (type)                 Output Shape              Param #   \n",
      "=================================================================\n",
      "embedding_56 (Embedding)     (None, None, 8)           80000     \n",
      "_________________________________________________________________\n",
      "dropout_36 (Dropout)         (None, None, 8)           0         \n",
      "_________________________________________________________________\n",
      "lstm_17 (LSTM)               (None, 8)                 544       \n",
      "_________________________________________________________________\n",
      "dense_92 (Dense)             (None, 8)                 72        \n",
      "_________________________________________________________________\n",
      "dropout_37 (Dropout)         (None, 8)                 0         \n",
      "_________________________________________________________________\n",
      "dense_93 (Dense)             (None, 1)                 9         \n",
      "=================================================================\n",
      "Total params: 80,625\n",
      "Trainable params: 80,625\n",
      "Non-trainable params: 0\n",
      "_________________________________________________________________\n"
     ]
    }
   ],
   "source": [
    "# RNN + dropout\n",
    "\n",
    "vocab_size = len(word_to_index)  # 어휘 사전의 크기입니다(10개의 단어)\n",
    "word_vector_dim = 8  # 단어 하나를 표현하는 임베딩 벡터의 차원수입니다. \n",
    "\n",
    "model = keras.Sequential()\n",
    "model.add(keras.layers.Embedding(vocab_size, word_vector_dim, input_shape=(None,)))\n",
    "model.add(keras.layers.Dropout(0.5)) # 드롭아웃 추가. 비율은 50%\n",
    "model.add(keras.layers.LSTM(8))   # 이때 LSTM state 벡터의 차원수는 8로 하였습니다. (변경 가능)\n",
    "model.add(keras.layers.Dense(8, activation='relu'))\n",
    "model.add(keras.layers.Dropout(0.5)) # 드롭아웃 추가. 비율은 50%\n",
    "model.add(keras.layers.Dense(1, activation='sigmoid'))  # 최종 출력은 긍정/부정을 나타내는 1dim 입니다.\n",
    "\n",
    "model.summary()"
   ]
  },
  {
   "cell_type": "code",
   "execution_count": 490,
   "id": "pending-register",
   "metadata": {},
   "outputs": [
    {
     "name": "stdout",
     "output_type": "stream",
     "text": [
      "Epoch 1/20\n",
      "243/243 [==============================] - 5s 12ms/step - loss: 0.6408 - accuracy: 0.6278 - val_loss: 0.3912 - val_accuracy: 0.8386\n",
      "Epoch 2/20\n",
      "243/243 [==============================] - 2s 10ms/step - loss: 0.4401 - accuracy: 0.7957 - val_loss: 0.3588 - val_accuracy: 0.8474\n",
      "Epoch 3/20\n",
      "243/243 [==============================] - 2s 10ms/step - loss: 0.4129 - accuracy: 0.8231 - val_loss: 0.3483 - val_accuracy: 0.8491\n",
      "Epoch 4/20\n",
      "243/243 [==============================] - 3s 10ms/step - loss: 0.3927 - accuracy: 0.8276 - val_loss: 0.3459 - val_accuracy: 0.8506\n",
      "Epoch 5/20\n",
      "243/243 [==============================] - 3s 11ms/step - loss: 0.3816 - accuracy: 0.8363 - val_loss: 0.3445 - val_accuracy: 0.8519\n",
      "Epoch 6/20\n",
      "243/243 [==============================] - 3s 11ms/step - loss: 0.3776 - accuracy: 0.8370 - val_loss: 0.3445 - val_accuracy: 0.8522\n",
      "Epoch 7/20\n",
      "243/243 [==============================] - 3s 11ms/step - loss: 0.3739 - accuracy: 0.8397 - val_loss: 0.3471 - val_accuracy: 0.8508\n",
      "Epoch 8/20\n",
      "243/243 [==============================] - 3s 10ms/step - loss: 0.3699 - accuracy: 0.8409 - val_loss: 0.3443 - val_accuracy: 0.8527\n",
      "Epoch 9/20\n",
      "243/243 [==============================] - 2s 10ms/step - loss: 0.3690 - accuracy: 0.8419 - val_loss: 0.3436 - val_accuracy: 0.8512\n",
      "Epoch 10/20\n",
      "243/243 [==============================] - 2s 10ms/step - loss: 0.3638 - accuracy: 0.8426 - val_loss: 0.3438 - val_accuracy: 0.8518\n",
      "Epoch 11/20\n",
      "243/243 [==============================] - 2s 10ms/step - loss: 0.3636 - accuracy: 0.8421 - val_loss: 0.3441 - val_accuracy: 0.8495\n",
      "Epoch 12/20\n",
      "243/243 [==============================] - 2s 10ms/step - loss: 0.3641 - accuracy: 0.8402 - val_loss: 0.3447 - val_accuracy: 0.8492\n",
      "Epoch 13/20\n",
      "243/243 [==============================] - 2s 10ms/step - loss: 0.3575 - accuracy: 0.8431 - val_loss: 0.3435 - val_accuracy: 0.8509\n",
      "Epoch 14/20\n",
      "243/243 [==============================] - 2s 10ms/step - loss: 0.3561 - accuracy: 0.8448 - val_loss: 0.3457 - val_accuracy: 0.8494\n",
      "Epoch 15/20\n",
      "243/243 [==============================] - 2s 10ms/step - loss: 0.3560 - accuracy: 0.8436 - val_loss: 0.3462 - val_accuracy: 0.8497\n",
      "Epoch 16/20\n",
      "243/243 [==============================] - 2s 10ms/step - loss: 0.3534 - accuracy: 0.8434 - val_loss: 0.3505 - val_accuracy: 0.8490\n",
      "Epoch 17/20\n",
      "243/243 [==============================] - 2s 10ms/step - loss: 0.3498 - accuracy: 0.8445 - val_loss: 0.3498 - val_accuracy: 0.8506\n",
      "Epoch 18/20\n",
      "243/243 [==============================] - 2s 10ms/step - loss: 0.3471 - accuracy: 0.8452 - val_loss: 0.3478 - val_accuracy: 0.8502\n",
      "Epoch 19/20\n",
      "243/243 [==============================] - 2s 10ms/step - loss: 0.3438 - accuracy: 0.8487 - val_loss: 0.3474 - val_accuracy: 0.8507\n",
      "Epoch 20/20\n",
      "243/243 [==============================] - 2s 10ms/step - loss: 0.3473 - accuracy: 0.8457 - val_loss: 0.3504 - val_accuracy: 0.8514\n"
     ]
    }
   ],
   "source": [
    "model.compile(optimizer='adam',\n",
    "              loss='binary_crossentropy',\n",
    "              metrics=['accuracy'])\n",
    "              \n",
    "epochs=20\n",
    "\n",
    "history = model.fit(partial_x_train,\n",
    "                    partial_y_train,\n",
    "                    epochs=epochs,\n",
    "                    batch_size=512,\n",
    "                    validation_data=(x_val, y_val),\n",
    "                    verbose=1)"
   ]
  },
  {
   "cell_type": "code",
   "execution_count": 491,
   "id": "champion-office",
   "metadata": {},
   "outputs": [
    {
     "name": "stdout",
     "output_type": "stream",
     "text": [
      "1537/1537 [==============================] - 5s 3ms/step - loss: 0.3595 - accuracy: 0.8469\n",
      "[0.35951656103134155, 0.8468783497810364]\n"
     ]
    }
   ],
   "source": [
    "# 결과확인\n",
    "rnn_results = model.evaluate(X_test,  y_test, verbose=1)\n",
    "\n",
    "print(rnn_results)"
   ]
  },
  {
   "cell_type": "code",
   "execution_count": 492,
   "id": "legitimate-rating",
   "metadata": {
    "scrolled": false
   },
   "outputs": [
    {
     "name": "stdout",
     "output_type": "stream",
     "text": [
      "dict_keys(['loss', 'accuracy', 'val_loss', 'val_accuracy'])\n"
     ]
    },
    {
     "data": {
      "image/png": "[encoded data removed]",
      "text/plain": [
       "<Figure size 1008x432 with 2 Axes>"
      ]
     },
     "metadata": {
      "needs_background": "light"
     },
     "output_type": "display_data"
    }
   ],
   "source": [
    "import matplotlib.pyplot as plt\n",
    "\n",
    "history_dict = history.history\n",
    "print(history_dict.keys()) # epoch에 따른 그래프를 그려볼 수 있는 항목들\n",
    "\n",
    "acc = history_dict['accuracy']\n",
    "val_acc = history_dict['val_accuracy']\n",
    "loss = history_dict['loss']\n",
    "val_loss = history_dict['val_loss']\n",
    "\n",
    "epochs = range(1, len(acc) + 1)\n",
    "\n",
    "# \"bo\"는 \"파란색 점\"입니다\n",
    "f, ax = plt.subplots(1, 2, figsize=(14, 6))\n",
    "ax[0].plot(epochs, loss, 'bo', label='Training loss')\n",
    "# b는 \"파란 실선\"입니다\n",
    "ax[0].plot(epochs, val_loss, 'b', label='Validation loss')\n",
    "ax[0].set_title('Training and validation loss')\n",
    "ax[0].set_xlabel('Epochs')\n",
    "ax[0].set_ylabel('Loss')\n",
    "ax[0].legend()\n",
    "\n",
    "ax[1].plot(epochs, acc, 'ro', label='Training acc', )\n",
    "ax[1].plot(epochs, val_acc, 'r', label='Validation acc')\n",
    "ax[1].set_title('Training and validation accuracy')\n",
    "ax[1].set_xlabel('Epochs')\n",
    "ax[1].set_ylabel('Accuracy')\n",
    "ax[1].legend()\n",
    "\n",
    "plt.show()"
   ]
  },
  {
   "cell_type": "markdown",
   "id": "behind-grove",
   "metadata": {},
   "source": [
    "* 그래프를 통해 overfitting 문제가 어느정도 해소된 것을 볼 수 있다."
   ]
  },
  {
   "cell_type": "markdown",
   "id": "august-consolidation",
   "metadata": {},
   "source": [
    "#### CNN model 학습"
   ]
  },
  {
   "cell_type": "code",
   "execution_count": 493,
   "id": "weird-recovery",
   "metadata": {
    "scrolled": false
   },
   "outputs": [
    {
     "name": "stdout",
     "output_type": "stream",
     "text": [
      "Model: \"sequential_49\"\n",
      "_________________________________________________________________\n",
      "Layer (type)                 Output Shape              Param #   \n",
      "=================================================================\n",
      "embedding_57 (Embedding)     (None, None, 8)           80000     \n",
      "_________________________________________________________________\n",
      "dropout_38 (Dropout)         (None, None, 8)           0         \n",
      "_________________________________________________________________\n",
      "conv1d_39 (Conv1D)           (None, None, 16)          912       \n",
      "_________________________________________________________________\n",
      "max_pooling1d_20 (MaxPooling (None, None, 16)          0         \n",
      "_________________________________________________________________\n",
      "conv1d_40 (Conv1D)           (None, None, 16)          1808      \n",
      "_________________________________________________________________\n",
      "global_max_pooling1d_29 (Glo (None, 16)                0         \n",
      "_________________________________________________________________\n",
      "dense_94 (Dense)             (None, 8)                 136       \n",
      "_________________________________________________________________\n",
      "dropout_39 (Dropout)         (None, 8)                 0         \n",
      "_________________________________________________________________\n",
      "dense_95 (Dense)             (None, 1)                 9         \n",
      "=================================================================\n",
      "Total params: 82,865\n",
      "Trainable params: 82,865\n",
      "Non-trainable params: 0\n",
      "_________________________________________________________________\n"
     ]
    }
   ],
   "source": [
    "# CNN + Dropout()\n",
    "model = keras.Sequential()\n",
    "model.add(keras.layers.Embedding(vocab_size, word_vector_dim, input_shape=(None,)))\n",
    "model.add(keras.layers.Dropout(0.5)) # 드롭아웃 추가. 비율은 50%\n",
    "model.add(keras.layers.Conv1D(16, 7, activation='relu'))\n",
    "model.add(keras.layers.MaxPooling1D(5))\n",
    "model.add(keras.layers.Conv1D(16, 7, activation='relu'))\n",
    "model.add(keras.layers.GlobalMaxPooling1D())\n",
    "model.add(keras.layers.Dense(8, activation='relu'))\n",
    "model.add(keras.layers.Dropout(0.5)) # 드롭아웃 추가. 비율은 50%\n",
    "model.add(keras.layers.Dense(1, activation='sigmoid'))  # 최종 출력은 긍정/부정을 나타내는 1dim 입니다.\n",
    "\n",
    "model.summary()"
   ]
  },
  {
   "cell_type": "code",
   "execution_count": 494,
   "id": "demographic-scale",
   "metadata": {
    "scrolled": true
   },
   "outputs": [
    {
     "name": "stdout",
     "output_type": "stream",
     "text": [
      "Epoch 1/10\n",
      "243/243 [==============================] - 2s 7ms/step - loss: 0.6699 - accuracy: 0.5573 - val_loss: 0.4231 - val_accuracy: 0.8289\n",
      "Epoch 2/10\n",
      "243/243 [==============================] - 2s 7ms/step - loss: 0.4690 - accuracy: 0.7841 - val_loss: 0.3742 - val_accuracy: 0.8443\n",
      "Epoch 3/10\n",
      "243/243 [==============================] - 2s 7ms/step - loss: 0.4401 - accuracy: 0.8002 - val_loss: 0.3592 - val_accuracy: 0.8472\n",
      "Epoch 4/10\n",
      "243/243 [==============================] - 2s 7ms/step - loss: 0.4304 - accuracy: 0.8017 - val_loss: 0.3524 - val_accuracy: 0.8495\n",
      "Epoch 5/10\n",
      "243/243 [==============================] - 2s 7ms/step - loss: 0.4193 - accuracy: 0.8101 - val_loss: 0.3526 - val_accuracy: 0.8488\n",
      "Epoch 6/10\n",
      "243/243 [==============================] - 2s 7ms/step - loss: 0.4136 - accuracy: 0.8091 - val_loss: 0.3483 - val_accuracy: 0.8499\n",
      "Epoch 7/10\n",
      "243/243 [==============================] - 2s 7ms/step - loss: 0.4079 - accuracy: 0.8149 - val_loss: 0.3507 - val_accuracy: 0.8470\n",
      "Epoch 8/10\n",
      "243/243 [==============================] - 2s 7ms/step - loss: 0.4052 - accuracy: 0.8141 - val_loss: 0.3438 - val_accuracy: 0.8510\n",
      "Epoch 9/10\n",
      "243/243 [==============================] - 2s 7ms/step - loss: 0.4000 - accuracy: 0.8193 - val_loss: 0.3441 - val_accuracy: 0.8530\n",
      "Epoch 10/10\n",
      "243/243 [==============================] - 2s 7ms/step - loss: 0.3987 - accuracy: 0.8181 - val_loss: 0.3424 - val_accuracy: 0.8515\n"
     ]
    }
   ],
   "source": [
    "model.compile(optimizer='adam',\n",
    "              loss='binary_crossentropy',\n",
    "              metrics=['accuracy'])\n",
    "              \n",
    "epochs=10  # RNN 에서 테스트한 epochs 결과에서 조금 더 변경 (epochs 20 -> 10)\n",
    "\n",
    "history = model.fit(partial_x_train,\n",
    "                    partial_y_train,\n",
    "                    epochs=epochs,\n",
    "                    batch_size=512,\n",
    "                    validation_data=(x_val, y_val),\n",
    "                    verbose=1)"
   ]
  },
  {
   "cell_type": "code",
   "execution_count": 495,
   "id": "accompanied-isolation",
   "metadata": {},
   "outputs": [
    {
     "name": "stdout",
     "output_type": "stream",
     "text": [
      "1537/1537 [==============================] - 3s 2ms/step - loss: 0.3488 - accuracy: 0.8459\n",
      "[0.34876367449760437, 0.8459426164627075]\n"
     ]
    }
   ],
   "source": [
    "# 결과확인\n",
    "cnn_results = model.evaluate(X_test,  y_test, verbose=1)\n",
    "\n",
    "print(cnn_results)"
   ]
  },
  {
   "cell_type": "markdown",
   "id": "numerical-satin",
   "metadata": {},
   "source": [
    " #### CNN model 시각화"
   ]
  },
  {
   "cell_type": "code",
   "execution_count": 496,
   "id": "innovative-seafood",
   "metadata": {
    "scrolled": false
   },
   "outputs": [
    {
     "name": "stdout",
     "output_type": "stream",
     "text": [
      "dict_keys(['loss', 'accuracy', 'val_loss', 'val_accuracy'])\n"
     ]
    },
    {
     "data": {
      "image/png": "[encoded data removed]",
      "text/plain": [
       "<Figure size 1008x432 with 2 Axes>"
      ]
     },
     "metadata": {
      "needs_background": "light"
     },
     "output_type": "display_data"
    }
   ],
   "source": [
    "history_dict = history.history\n",
    "print(history_dict.keys()) # epoch에 따른 그래프를 그려볼 수 있는 항목들\n",
    "\n",
    "acc = history_dict['accuracy']\n",
    "val_acc = history_dict['val_accuracy']\n",
    "loss = history_dict['loss']\n",
    "val_loss = history_dict['val_loss']\n",
    "\n",
    "epochs = range(1, len(acc) + 1)\n",
    "\n",
    "# \"bo\"는 \"파란색 점\"입니다\n",
    "f, ax = plt.subplots(1, 2, figsize=(14, 6))\n",
    "ax[0].plot(epochs, loss, 'bo', label='Training loss')\n",
    "# b는 \"파란 실선\"입니다\n",
    "ax[0].plot(epochs, val_loss, 'b', label='Validation loss')\n",
    "ax[0].set_title('Training and validation loss')\n",
    "ax[0].set_xlabel('Epochs')\n",
    "ax[0].set_ylabel('Loss')\n",
    "ax[0].legend()\n",
    "\n",
    "ax[1].plot(epochs, acc, 'ro', label='Training acc', )\n",
    "ax[1].plot(epochs, val_acc, 'r', label='Validation acc')\n",
    "ax[1].set_title('Training and validation accuracy')\n",
    "ax[1].set_xlabel('Epochs')\n",
    "ax[1].set_ylabel('Accuracy')\n",
    "ax[1].legend()\n",
    "\n",
    "plt.show()"
   ]
  },
  {
   "cell_type": "markdown",
   "id": "private-valuable",
   "metadata": {},
   "source": [
    "* 다양한 테스트를 위해 epochs 를 20 -> 10 으로 변경하여 실행 해 보았다.\n",
    "* 결과 점차적으로 수렴하고 있는것을 볼 수 있으며 epochs 20정도에서 RNN과 상당히 유사한 결과를 보일 것으로 예상 된다."
   ]
  },
  {
   "cell_type": "markdown",
   "id": "lucky-maria",
   "metadata": {},
   "source": [
    "#### GMP model 학습"
   ]
  },
  {
   "cell_type": "code",
   "execution_count": 497,
   "id": "sensitive-fetish",
   "metadata": {},
   "outputs": [
    {
     "name": "stdout",
     "output_type": "stream",
     "text": [
      "Model: \"sequential_50\"\n",
      "_________________________________________________________________\n",
      "Layer (type)                 Output Shape              Param #   \n",
      "=================================================================\n",
      "embedding_58 (Embedding)     (None, None, 8)           80000     \n",
      "_________________________________________________________________\n",
      "global_max_pooling1d_30 (Glo (None, 8)                 0         \n",
      "_________________________________________________________________\n",
      "dense_96 (Dense)             (None, 8)                 72        \n",
      "_________________________________________________________________\n",
      "dropout_40 (Dropout)         (None, 8)                 0         \n",
      "_________________________________________________________________\n",
      "dense_97 (Dense)             (None, 1)                 9         \n",
      "=================================================================\n",
      "Total params: 80,081\n",
      "Trainable params: 80,081\n",
      "Non-trainable params: 0\n",
      "_________________________________________________________________\n"
     ]
    }
   ],
   "source": [
    "# GlobalMaxPooling1D\n",
    "model = keras.Sequential()\n",
    "model.add(keras.layers.Embedding(vocab_size, word_vector_dim, input_shape=(None,)))\n",
    "#model.add(keras.layers.Dropout(0.5)) # 드롭아웃 추가. 비율은 50%\n",
    "model.add(keras.layers.GlobalMaxPooling1D())\n",
    "model.add(keras.layers.Dense(8, activation='relu'))\n",
    "model.add(keras.layers.Dropout(0.5)) # 드롭아웃 추가. 비율은 50%\n",
    "model.add(keras.layers.Dense(1, activation='sigmoid'))  # 최종 출력은 긍정/부정을 나타내는 1dim 입니다.\n",
    "\n",
    "model.summary()"
   ]
  },
  {
   "cell_type": "code",
   "execution_count": 498,
   "id": "vulnerable-asthma",
   "metadata": {
    "scrolled": true
   },
   "outputs": [
    {
     "name": "stdout",
     "output_type": "stream",
     "text": [
      "Epoch 1/10\n",
      "243/243 [==============================] - 2s 5ms/step - loss: 0.6819 - accuracy: 0.5554 - val_loss: 0.5772 - val_accuracy: 0.7862\n",
      "Epoch 2/10\n",
      "243/243 [==============================] - 1s 4ms/step - loss: 0.5567 - accuracy: 0.7289 - val_loss: 0.4219 - val_accuracy: 0.8237\n",
      "Epoch 3/10\n",
      "243/243 [==============================] - 1s 4ms/step - loss: 0.4488 - accuracy: 0.8166 - val_loss: 0.3839 - val_accuracy: 0.8341\n",
      "Epoch 4/10\n",
      "243/243 [==============================] - 1s 4ms/step - loss: 0.4074 - accuracy: 0.8378 - val_loss: 0.3709 - val_accuracy: 0.8378\n",
      "Epoch 5/10\n",
      "243/243 [==============================] - 1s 4ms/step - loss: 0.3856 - accuracy: 0.8521 - val_loss: 0.3665 - val_accuracy: 0.8399\n",
      "Epoch 6/10\n",
      "243/243 [==============================] - 1s 4ms/step - loss: 0.3652 - accuracy: 0.8618 - val_loss: 0.3650 - val_accuracy: 0.8424\n",
      "Epoch 7/10\n",
      "243/243 [==============================] - 1s 4ms/step - loss: 0.3522 - accuracy: 0.8679 - val_loss: 0.3657 - val_accuracy: 0.8412\n",
      "Epoch 8/10\n",
      "243/243 [==============================] - 1s 4ms/step - loss: 0.3427 - accuracy: 0.8715 - val_loss: 0.3677 - val_accuracy: 0.8427\n",
      "Epoch 9/10\n",
      "243/243 [==============================] - 1s 4ms/step - loss: 0.3295 - accuracy: 0.8798 - val_loss: 0.3713 - val_accuracy: 0.8410\n",
      "Epoch 10/10\n",
      "243/243 [==============================] - 1s 4ms/step - loss: 0.3220 - accuracy: 0.8826 - val_loss: 0.3774 - val_accuracy: 0.8402\n"
     ]
    }
   ],
   "source": [
    "model.compile(optimizer='adam',\n",
    "              loss='binary_crossentropy',\n",
    "              metrics=['accuracy'])\n",
    "              \n",
    "epochs=10\n",
    "\n",
    "history = model.fit(partial_x_train,\n",
    "                    partial_y_train,\n",
    "                    epochs=epochs,\n",
    "                    batch_size=512,\n",
    "                    validation_data=(x_val, y_val),\n",
    "                    verbose=1)"
   ]
  },
  {
   "cell_type": "code",
   "execution_count": 499,
   "id": "vietnamese-vanilla",
   "metadata": {
    "scrolled": true
   },
   "outputs": [
    {
     "name": "stdout",
     "output_type": "stream",
     "text": [
      "1537/1537 [==============================] - 2s 1ms/step - loss: 0.3862 - accuracy: 0.8370\n",
      "[0.38620635867118835, 0.8369510173797607]\n"
     ]
    }
   ],
   "source": [
    "# 결과확인\n",
    "gmp_results = model.evaluate(X_test,  y_test, verbose=1)\n",
    "\n",
    "print(gmp_results)"
   ]
  },
  {
   "cell_type": "markdown",
   "id": "dangerous-limit",
   "metadata": {},
   "source": [
    "#### GMP model 시각화"
   ]
  },
  {
   "cell_type": "code",
   "execution_count": 500,
   "id": "ambient-graphic",
   "metadata": {},
   "outputs": [
    {
     "name": "stdout",
     "output_type": "stream",
     "text": [
      "dict_keys(['loss', 'accuracy', 'val_loss', 'val_accuracy'])\n"
     ]
    },
    {
     "data": {
      "image/png": "[encoded data removed]",
      "text/plain": [
       "<Figure size 1008x432 with 2 Axes>"
      ]
     },
     "metadata": {
      "needs_background": "light"
     },
     "output_type": "display_data"
    }
   ],
   "source": [
    "history_dict = history.history\n",
    "print(history_dict.keys()) # epoch에 따른 그래프를 그려볼 수 있는 항목들\n",
    "\n",
    "acc = history_dict['accuracy']\n",
    "val_acc = history_dict['val_accuracy']\n",
    "loss = history_dict['loss']\n",
    "val_loss = history_dict['val_loss']\n",
    "\n",
    "epochs = range(1, len(acc) + 1)\n",
    "\n",
    "# \"bo\"는 \"파란색 점\"입니다\n",
    "f, ax = plt.subplots(1, 2, figsize=(14, 6))\n",
    "ax[0].plot(epochs, loss, 'bo', label='Training loss')\n",
    "# b는 \"파란 실선\"입니다\n",
    "ax[0].plot(epochs, val_loss, 'b', label='Validation loss')\n",
    "ax[0].set_title('Training and validation loss')\n",
    "ax[0].set_xlabel('Epochs')\n",
    "ax[0].set_ylabel('Loss')\n",
    "ax[0].legend()\n",
    "\n",
    "ax[1].plot(epochs, acc, 'ro', label='Training acc', )\n",
    "ax[1].plot(epochs, val_acc, 'r', label='Validation acc')\n",
    "ax[1].set_title('Training and validation accuracy')\n",
    "ax[1].set_xlabel('Epochs')\n",
    "ax[1].set_ylabel('Accuracy')\n",
    "ax[1].legend()\n",
    "\n",
    "plt.show()"
   ]
  },
  {
   "cell_type": "markdown",
   "id": "young-block",
   "metadata": {},
   "source": [
    "* GMP의 경우에는 RNN, CNN과는 다르게 epochs 4~5 정도에서 그래프가 교차한 뒤에 다시 두 데이터간의 gap이 커지는 것을 볼 수 있다.\n",
    "* 따라서 epochs를 5~6 정도로 수정 하거나 아니면 dropout 외의 regularization 방식을 사용해 볼 필요가 있어 보인다."
   ]
  },
  {
   "cell_type": "markdown",
   "id": "mediterranean-straight",
   "metadata": {},
   "source": [
    "#### Test에 대한 3가지 모델에 대한 loss, accuracy 비교"
   ]
  },
  {
   "cell_type": "code",
   "execution_count": 501,
   "id": "sunrise-finland",
   "metadata": {},
   "outputs": [
    {
     "data": {
      "text/html": [
       "<div>\n",
       "<style scoped>\n",
       "    .dataframe tbody tr th:only-of-type {\n",
       "        vertical-align: middle;\n",
       "    }\n",
       "\n",
       "    .dataframe tbody tr th {\n",
       "        vertical-align: top;\n",
       "    }\n",
       "\n",
       "    .dataframe thead th {\n",
       "        text-align: right;\n",
       "    }\n",
       "</style>\n",
       "<table border=\"1\" class=\"dataframe\">\n",
       "  <thead>\n",
       "    <tr style=\"text-align: right;\">\n",
       "      <th></th>\n",
       "      <th>loss</th>\n",
       "      <th>accuracy</th>\n",
       "    </tr>\n",
       "  </thead>\n",
       "  <tbody>\n",
       "    <tr>\n",
       "      <th>RNN</th>\n",
       "      <td>0.359517</td>\n",
       "      <td>0.846878</td>\n",
       "    </tr>\n",
       "    <tr>\n",
       "      <th>CNN</th>\n",
       "      <td>0.348764</td>\n",
       "      <td>0.845943</td>\n",
       "    </tr>\n",
       "    <tr>\n",
       "      <th>GMP</th>\n",
       "      <td>0.386206</td>\n",
       "      <td>0.836951</td>\n",
       "    </tr>\n",
       "  </tbody>\n",
       "</table>\n",
       "</div>"
      ],
      "text/plain": [
       "         loss  accuracy\n",
       "RNN  0.359517  0.846878\n",
       "CNN  0.348764  0.845943\n",
       "GMP  0.386206  0.836951"
      ]
     },
     "execution_count": 501,
     "metadata": {},
     "output_type": "execute_result"
    }
   ],
   "source": [
    "results_df = pd.DataFrame(index=['RNN', 'CNN', 'GMP'], columns=['loss', 'accuracy'])\n",
    "results_df.loc['RNN'] = rnn_results\n",
    "results_df.loc['CNN'] = cnn_results\n",
    "results_df.loc['GMP'] = gmp_results\n",
    "results_df"
   ]
  },
  {
   "cell_type": "markdown",
   "id": "atlantic-spring",
   "metadata": {},
   "source": [
    "* 최종적으로 RNN과 CNN의 결과가 상당히 유사하게 나타난 것을 볼 수 있다."
   ]
  },
  {
   "cell_type": "markdown",
   "id": "worse-timer",
   "metadata": {},
   "source": [
    "### Step 7. Word2vec 활용"
   ]
  },
  {
   "cell_type": "markdown",
   "id": "organized-reducing",
   "metadata": {},
   "source": [
    "#### weights 설정"
   ]
  },
  {
   "cell_type": "code",
   "execution_count": 502,
   "id": "extra-preservation",
   "metadata": {},
   "outputs": [
    {
     "name": "stdout",
     "output_type": "stream",
     "text": [
      "(10000, 8)\n"
     ]
    }
   ],
   "source": [
    "embedding_layer = model.layers[0]\n",
    "weights = embedding_layer.get_weights()[0]\n",
    "print(weights.shape)    # shape: (vocab_size, embedding_dim)"
   ]
  },
  {
   "cell_type": "markdown",
   "id": "dependent-dividend",
   "metadata": {},
   "source": [
    "#### 단어 와 해당 단어의 embedding 값을 파일로 저장"
   ]
  },
  {
   "cell_type": "code",
   "execution_count": 503,
   "id": "intelligent-payday",
   "metadata": {},
   "outputs": [],
   "source": [
    "import os\n",
    "\n",
    "# 학습한 Embedding 파라미터를 파일에 써서 저장합니다. \n",
    "word2vec_file_path = os.getenv('HOME')+'/aiffel/sentiment_classification/data/word2vec_kr.txt'\n",
    "f = open(word2vec_file_path, 'w')\n",
    "f.write('{} {}\\n'.format(vocab_size-4, word_vector_dim))  # 몇개의 벡터를 얼마 사이즈로 기재할지 타이틀을 씁니다.\n",
    "\n",
    "# 단어 개수(에서 특수문자 4개는 제외하고)만큼의 워드 벡터를 파일에 기록합니다. \n",
    "vectors = model.get_weights()[0]\n",
    "for i in range(4,vocab_size):\n",
    "    f.write('{} {}\\n'.format(index_to_word[i], ' '.join(map(str, list(vectors[i, :])))))\n",
    "f.close()"
   ]
  },
  {
   "cell_type": "markdown",
   "id": "worth-monroe",
   "metadata": {},
   "source": [
    "#### Embedding 불러오기"
   ]
  },
  {
   "cell_type": "code",
   "execution_count": 504,
   "id": "passive-trustee",
   "metadata": {},
   "outputs": [
    {
     "data": {
      "text/plain": [
       "array([-0.17780899, -0.10253113, -0.10615069,  0.14656729, -0.0883318 ,\n",
       "       -0.1054718 , -0.11040214, -0.13656938], dtype=float32)"
      ]
     },
     "execution_count": 504,
     "metadata": {},
     "output_type": "execute_result"
    }
   ],
   "source": [
    "from gensim.models.keyedvectors import Word2VecKeyedVectors\n",
    "\n",
    "word_vectors = Word2VecKeyedVectors.load_word2vec_format(word2vec_file_path, binary=False)\n",
    "vector = word_vectors['가족']\n",
    "vector"
   ]
  },
  {
   "cell_type": "code",
   "execution_count": 505,
   "id": "current-theorem",
   "metadata": {},
   "outputs": [
    {
     "data": {
      "text/plain": [
       "[('아무튼', 0.9873428344726562),\n",
       " ('로코', 0.9825653433799744),\n",
       " ('문학', 0.9811904430389404),\n",
       " ('파도', 0.9810431599617004),\n",
       " ('독특', 0.9799637198448181),\n",
       " ('빛', 0.9784860610961914),\n",
       " ('집니다', 0.9777168035507202),\n",
       " ('적나라', 0.9761486649513245),\n",
       " ('이어지', 0.9720963835716248),\n",
       " ('다른가', 0.9701558351516724)]"
      ]
     },
     "execution_count": 505,
     "metadata": {},
     "output_type": "execute_result"
    }
   ],
   "source": [
    "word_vectors.similar_by_word(\"가족\")"
   ]
  },
  {
   "cell_type": "markdown",
   "id": "demonstrated-tract",
   "metadata": {},
   "source": [
    "* 결과를 확인해 보면 '가족'과는 전혀 관련이 없어보이는 단어들이 출력되는 것을 알 수 있다. 즉, 현재 데이터로는 제대로 된 학습이 되지 않았다고 보여진다.\n",
    "* 비교를 위해 이번에는 pre-trained 된 모델을 가져와 다시 시도해 보았다."
   ]
  },
  {
   "cell_type": "markdown",
   "id": "turkish-david",
   "metadata": {},
   "source": [
    "#### Pre-trained model과 word2vec을 이용한 재 학습\n",
    "**'자체학습'을 사용한 결과와 '사전학습'을 사용한 결과간의 차이 비교**"
   ]
  },
  {
   "cell_type": "code",
   "execution_count": 506,
   "id": "fourth-emphasis",
   "metadata": {},
   "outputs": [],
   "source": [
    "import gensim\n",
    "#from gensim.models import KeyedVectors\n",
    "word2vec_path = os.getenv('HOME')+'/aiffel/sentiment_classification/data/ko.bin' # ko.bin : pre-trained data\n",
    "word2vec = gensim.models.Word2Vec.load(word2vec_path)"
   ]
  },
  {
   "cell_type": "code",
   "execution_count": 507,
   "id": "distinguished-reasoning",
   "metadata": {
    "scrolled": true
   },
   "outputs": [
    {
     "name": "stderr",
     "output_type": "stream",
     "text": [
      "/opt/conda/lib/python3.7/site-packages/ipykernel_launcher.py:1: DeprecationWarning: Call to deprecated `similar_by_word` (Method will be removed in 4.0.0, use self.wv.similar_by_word() instead).\n",
      "  \"\"\"Entry point for launching an IPython kernel.\n"
     ]
    },
    {
     "data": {
      "text/plain": [
       "[('친지', 0.6574771404266357),\n",
       " ('유족', 0.6132265329360962),\n",
       " ('부부', 0.5933582782745361),\n",
       " ('부모님', 0.5929263234138489),\n",
       " ('부모', 0.5834078192710876),\n",
       " ('식구', 0.5739837288856506),\n",
       " ('친족', 0.5737326741218567),\n",
       " ('노인', 0.5734318494796753),\n",
       " ('자녀', 0.5686265230178833),\n",
       " ('부유층', 0.5621210336685181)]"
      ]
     },
     "execution_count": 507,
     "metadata": {},
     "output_type": "execute_result"
    }
   ],
   "source": [
    "word2vec.similar_by_word(\"가족\")"
   ]
  },
  {
   "cell_type": "markdown",
   "id": "worth-lawsuit",
   "metadata": {},
   "source": [
    "* 앞선 결과와는 다르게 이번에는 '가족'이라는 단어와 상당히 유사성이 있는 단어들이 출력 된 것을 볼 수 있다.\n",
    "* 즉, 제대로 학습이 이뤄진 것이라 생각된다."
   ]
  },
  {
   "cell_type": "code",
   "execution_count": 508,
   "id": "white-elements",
   "metadata": {
    "scrolled": true
   },
   "outputs": [
    {
     "name": "stderr",
     "output_type": "stream",
     "text": [
      "/opt/conda/lib/python3.7/site-packages/ipykernel_launcher.py:2: DeprecationWarning: Call to deprecated `__getitem__` (Method will be removed in 4.0.0, use self.wv.__getitem__() instead).\n",
      "  \n"
     ]
    },
    {
     "data": {
      "text/plain": [
       "200"
      ]
     },
     "execution_count": 508,
     "metadata": {},
     "output_type": "execute_result"
    }
   ],
   "source": [
    "# dimension 설정을 위한 길이 확인\n",
    "len(word2vec['가족'])"
   ]
  },
  {
   "cell_type": "code",
   "execution_count": 509,
   "id": "caroline-cemetery",
   "metadata": {},
   "outputs": [
    {
     "name": "stderr",
     "output_type": "stream",
     "text": [
      "/opt/conda/lib/python3.7/site-packages/ipykernel_launcher.py:8: DeprecationWarning: Call to deprecated `__contains__` (Method will be removed in 4.0.0, use self.wv.__contains__() instead).\n",
      "  \n",
      "/opt/conda/lib/python3.7/site-packages/ipykernel_launcher.py:9: DeprecationWarning: Call to deprecated `__getitem__` (Method will be removed in 4.0.0, use self.wv.__getitem__() instead).\n",
      "  if __name__ == '__main__':\n"
     ]
    }
   ],
   "source": [
    "vocab_size = 10000   # 어휘 사전의 크기 설정\n",
    "word_vector_dim = 200  # 위에서 확인한 dimension의 길이 입력\n",
    "\n",
    "embedding_matrix = np.random.rand(vocab_size, word_vector_dim)\n",
    "\n",
    "# embedding_matrix에 Word2Vec 워드 벡터를 단어 하나씩마다 차례차례 카피한다.\n",
    "for i in range(4,vocab_size):\n",
    "    if index_to_word[i] in word2vec:\n",
    "        embedding_matrix[i] = word2vec[index_to_word[i]]"
   ]
  },
  {
   "cell_type": "markdown",
   "id": "distant-samba",
   "metadata": {},
   "source": [
    "### word2vec + CNN model 사용"
   ]
  },
  {
   "cell_type": "code",
   "execution_count": 511,
   "id": "christian-doubt",
   "metadata": {
    "scrolled": true
   },
   "outputs": [
    {
     "name": "stdout",
     "output_type": "stream",
     "text": [
      "Model: \"sequential_52\"\n",
      "_________________________________________________________________\n",
      "Layer (type)                 Output Shape              Param #   \n",
      "=================================================================\n",
      "embedding_60 (Embedding)     (None, 41, 200)           2000000   \n",
      "_________________________________________________________________\n",
      "conv1d_41 (Conv1D)           (None, 35, 16)            22416     \n",
      "_________________________________________________________________\n",
      "dropout_41 (Dropout)         (None, 35, 16)            0         \n",
      "_________________________________________________________________\n",
      "max_pooling1d_21 (MaxPooling (None, 7, 16)             0         \n",
      "_________________________________________________________________\n",
      "conv1d_42 (Conv1D)           (None, 1, 16)             1808      \n",
      "_________________________________________________________________\n",
      "global_max_pooling1d_31 (Glo (None, 16)                0         \n",
      "_________________________________________________________________\n",
      "dense_98 (Dense)             (None, 8)                 136       \n",
      "_________________________________________________________________\n",
      "dropout_42 (Dropout)         (None, 8)                 0         \n",
      "_________________________________________________________________\n",
      "dense_99 (Dense)             (None, 1)                 9         \n",
      "=================================================================\n",
      "Total params: 2,024,369\n",
      "Trainable params: 2,024,369\n",
      "Non-trainable params: 0\n",
      "_________________________________________________________________\n"
     ]
    }
   ],
   "source": [
    "# word2vec + CNN model\n",
    "from tensorflow.keras.initializers import Constant\n",
    "\n",
    "vocab_size = 10000   # 어휘 사전의 크기입니다(10,000개의 단어)\n",
    "word_vector_dim = 200 # 위에서 확인한 dimension의  길이 입력\n",
    "\n",
    "# 모델 구성\n",
    "model = keras.Sequential()\n",
    "model.add(keras.layers.Embedding(vocab_size, \n",
    "                                 word_vector_dim, \n",
    "                                 embeddings_initializer=Constant(embedding_matrix),  # 카피한 임베딩을 여기서 활용\n",
    "                                 input_length=maxlen, \n",
    "                                 trainable=True))   # trainable을 True로 주면 Fine-tuning\n",
    "model.add(keras.layers.Conv1D(16, 7, activation='relu'))\n",
    "model.add(keras.layers.Dropout(0.5)) # 드롭아웃 추가. 비율은 50%\n",
    "model.add(keras.layers.MaxPooling1D(5))\n",
    "model.add(keras.layers.Conv1D(16, 7, activation='relu'))\n",
    "model.add(keras.layers.GlobalMaxPooling1D())\n",
    "model.add(keras.layers.Dense(8, activation='relu'))\n",
    "model.add(keras.layers.Dropout(0.5)) # 드롭아웃 추가. 비율은 50%\n",
    "model.add(keras.layers.Dense(1, activation='sigmoid')) \n",
    "\n",
    "model.summary()"
   ]
  },
  {
   "cell_type": "markdown",
   "id": "supreme-persian",
   "metadata": {},
   "source": [
    "* word2vec 과 CNN을 사용하여 학습을 진행한다"
   ]
  },
  {
   "cell_type": "code",
   "execution_count": 512,
   "id": "southwest-spanking",
   "metadata": {
    "scrolled": true
   },
   "outputs": [
    {
     "name": "stdout",
     "output_type": "stream",
     "text": [
      "Epoch 1/11\n",
      "243/243 [==============================] - 8s 30ms/step - loss: 0.7023 - accuracy: 0.5062 - val_loss: 0.6805 - val_accuracy: 0.6266\n",
      "Epoch 2/11\n",
      "243/243 [==============================] - 7s 27ms/step - loss: 0.6310 - accuracy: 0.6236 - val_loss: 0.5056 - val_accuracy: 0.8029\n",
      "Epoch 3/11\n",
      "243/243 [==============================] - 6s 25ms/step - loss: 0.5057 - accuracy: 0.7271 - val_loss: 0.4526 - val_accuracy: 0.8313\n",
      "Epoch 4/11\n",
      "243/243 [==============================] - 6s 25ms/step - loss: 0.4640 - accuracy: 0.7498 - val_loss: 0.4215 - val_accuracy: 0.8421\n",
      "Epoch 5/11\n",
      "243/243 [==============================] - 6s 25ms/step - loss: 0.4467 - accuracy: 0.7604 - val_loss: 0.4106 - val_accuracy: 0.8467\n",
      "Epoch 6/11\n",
      "243/243 [==============================] - 6s 25ms/step - loss: 0.4335 - accuracy: 0.7747 - val_loss: 0.3875 - val_accuracy: 0.8481\n",
      "Epoch 7/11\n",
      "243/243 [==============================] - 6s 25ms/step - loss: 0.4047 - accuracy: 0.8160 - val_loss: 0.3744 - val_accuracy: 0.8504\n",
      "Epoch 8/11\n",
      "243/243 [==============================] - 6s 25ms/step - loss: 0.3944 - accuracy: 0.8200 - val_loss: 0.3686 - val_accuracy: 0.8486\n",
      "Epoch 9/11\n",
      "243/243 [==============================] - 6s 25ms/step - loss: 0.3881 - accuracy: 0.8232 - val_loss: 0.3570 - val_accuracy: 0.8525\n",
      "Epoch 10/11\n",
      "243/243 [==============================] - 6s 25ms/step - loss: 0.3777 - accuracy: 0.8273 - val_loss: 0.3587 - val_accuracy: 0.8527\n",
      "Epoch 11/11\n",
      "243/243 [==============================] - 6s 25ms/step - loss: 0.3756 - accuracy: 0.8281 - val_loss: 0.3516 - val_accuracy: 0.8561\n"
     ]
    }
   ],
   "source": [
    "# 학습의 진행\n",
    "model.compile(optimizer='adam',\n",
    "              loss='binary_crossentropy',\n",
    "              metrics=['accuracy'])\n",
    "              \n",
    "epochs=11\n",
    "\n",
    "history = model.fit(partial_x_train,\n",
    "                    partial_y_train,\n",
    "                    epochs=epochs,\n",
    "                    batch_size=512,\n",
    "                    validation_data=(x_val, y_val),\n",
    "                    verbose=1)"
   ]
  },
  {
   "cell_type": "code",
   "execution_count": 513,
   "id": "heated-directory",
   "metadata": {
    "scrolled": true
   },
   "outputs": [
    {
     "name": "stdout",
     "output_type": "stream",
     "text": [
      "1537/1537 - 3s - loss: 0.3561 - accuracy: 0.8515\n",
      "[0.3560979664325714, 0.8514758944511414]\n"
     ]
    }
   ],
   "source": [
    "# 테스트셋을 통한 모델 평가\n",
    "results = model.evaluate(X_test,  y_test, verbose=2)\n",
    "\n",
    "print(results)"
   ]
  },
  {
   "cell_type": "markdown",
   "id": "outer-happiness",
   "metadata": {},
   "source": [
    "* epochs 수치를 11로 변경하여 실행하였을 때 목표 수치인 85%를 조금 넘기는 결과를 얻을 수 있었다.\n",
    "* overfitting을 방지하기 위해 dropout()을 함께 사용하였다."
   ]
  },
  {
   "cell_type": "markdown",
   "id": "corrected-award",
   "metadata": {},
   "source": [
    "#### word2vec 시각화"
   ]
  },
  {
   "cell_type": "code",
   "execution_count": 514,
   "id": "false-timing",
   "metadata": {},
   "outputs": [
    {
     "name": "stdout",
     "output_type": "stream",
     "text": [
      "dict_keys(['loss', 'accuracy', 'val_loss', 'val_accuracy'])\n"
     ]
    },
    {
     "data": {
      "image/png": "[encoded data removed]",
      "text/plain": [
       "<Figure size 1008x432 with 2 Axes>"
      ]
     },
     "metadata": {
      "needs_background": "light"
     },
     "output_type": "display_data"
    }
   ],
   "source": [
    "history_dict = history.history\n",
    "print(history_dict.keys()) # epoch에 따른 그래프를 그려볼 수 있는 항목들\n",
    "\n",
    "acc = history_dict['accuracy']\n",
    "val_acc = history_dict['val_accuracy']\n",
    "loss = history_dict['loss']\n",
    "val_loss = history_dict['val_loss']\n",
    "\n",
    "epochs = range(1, len(acc) + 1)\n",
    "\n",
    "# \"bo\"는 \"파란색 점\"입니다\n",
    "f, ax = plt.subplots(1, 2, figsize=(14, 6))\n",
    "ax[0].plot(epochs, loss, 'bo', label='Training loss')\n",
    "# b는 \"파란 실선\"입니다\n",
    "ax[0].plot(epochs, val_loss, 'b', label='Validation loss')\n",
    "ax[0].set_title('Training and validation loss')\n",
    "ax[0].set_xlabel('Epochs')\n",
    "ax[0].set_ylabel('Loss')\n",
    "ax[0].legend()\n",
    "\n",
    "ax[1].plot(epochs, acc, 'ro', label='Training acc', )\n",
    "ax[1].plot(epochs, val_acc, 'r', label='Validation acc')\n",
    "ax[1].set_title('Training and validation accuracy')\n",
    "ax[1].set_xlabel('Epochs')\n",
    "ax[1].set_ylabel('Accuracy')\n",
    "ax[1].legend()\n",
    "\n",
    "plt.show()"
   ]
  },
  {
   "cell_type": "markdown",
   "id": "foster-kingston",
   "metadata": {},
   "source": [
    "* 그래프로 확인해본결과 validation data가 training data에 점차적으로 수렴해 가는 것을 볼 수 있다.\n",
    "* epochs 를 좀 더 조절 한다면 15 정도까지가 적당 할 것이라 예상되며 그 이상은 다시 두 데이터간의 이격이 발생할 수 있어 추천하지 않는다."
   ]
  },
  {
   "cell_type": "markdown",
   "id": "bizarre-emission",
   "metadata": {},
   "source": [
    "### 회고\n",
    "* '자체학습'을 시킨 결과와 '선행학습'이 된 결과를 가지고 유사 단어를 찾아 봤을 때 결과가 극과극으로 나오는 것이 신기했었다. '자체학습'에서도 어느정도는 유사한 결과가 나오지 않을까 했지만 전혀 그렇지 않았다.\n",
    "* 따라서 이런 언어학습에 있어서는 역시나 방대한 양의 데이터를 이용해 학습을 시키는 것이 중요하다는 것을 다시한번 알 수 있게 되었다.\n",
    "* RNN, CNN, GMP 모델간에는 그렇게 큰 차이를 느끼지 못했다. 특히 RNN과 CNN이 꽤나 유사하게 작동하는 것 처럼 보였다. 자연어 처리에서는 당연히 RNN을 대부분 쓰지 않을까 했지만 상황에 따라 CNN을 사용하는 것 또한 나쁘지 않아 보인다.\n",
    "* 위의 테스트 결과를 보더라도 word2vec으로 embedding 한 결과에 CNN을 사용해도 목표치인 85%를 달성할 수 있었기에 무조건 RNN을 사용해야 하는 것은 아닌 것 같다.\n",
    "* 그리고 overfitting을 좀 해결 해 보고자 dropout()을 추가 해 주었고 이 또한 목표치의 accuracy를 얻는데 도움이 되었다. 혹시 dropout()이 제대로 작동하지 않으면 그 다음으로 L2-regularization을 사용해 볼까 했었는데 다행이 목표치를 넘겼고, 다음에 이와 유사한 상황이 생기면 그 때는 dropout과 L2를 모두 사용하여 테스트 해볼 생각이다."
   ]
  }
 ],
 "metadata": {
  "kernelspec": {
   "display_name": "Python 3",
   "language": "python",
   "name": "python3"
  },
  "language_info": {
   "codemirror_mode": {
    "name": "ipython",
    "version": 3
   },
   "file_extension": ".py",
   "mimetype": "text/x-python",
   "name": "python",
   "nbconvert_exporter": "python",
   "pygments_lexer": "ipython3",
   "version": "3.7.9"
  }
 },
 "nbformat": 4,
 "nbformat_minor": 5
}
