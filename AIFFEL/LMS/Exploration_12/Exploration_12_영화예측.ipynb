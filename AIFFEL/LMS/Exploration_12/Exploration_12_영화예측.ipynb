{
 "cells": [
  {
   "cell_type": "markdown",
   "id": "filled-emerald",
   "metadata": {},
   "source": [
    "## Exploration_12_영화예측\n",
    "\n",
    "1. 데이터준비\n",
    "2. 데이터 전처리\n",
    "3. Modeling\n",
    "4. Model training\n",
    "5. 회고"
   ]
  },
  {
   "cell_type": "markdown",
   "id": "prospective-combination",
   "metadata": {},
   "source": [
    "### 1. 데이터 준비"
   ]
  },
  {
   "cell_type": "code",
   "execution_count": 7,
   "id": "conscious-oxygen",
   "metadata": {},
   "outputs": [],
   "source": [
    "import datetime as dt\n",
    "from pathlib import Path\n",
    "import os\n",
    "\n",
    "from tqdm import tqdm\n",
    "import numpy as np\n",
    "import pandas as pd\n",
    "import warnings\n",
    "warnings.filterwarnings('ignore')"
   ]
  },
  {
   "cell_type": "code",
   "execution_count": 8,
   "id": "effective-hampton",
   "metadata": {},
   "outputs": [
    {
     "data": {
      "text/html": [
       "<div>\n",
       "<style scoped>\n",
       "    .dataframe tbody tr th:only-of-type {\n",
       "        vertical-align: middle;\n",
       "    }\n",
       "\n",
       "    .dataframe tbody tr th {\n",
       "        vertical-align: top;\n",
       "    }\n",
       "\n",
       "    .dataframe thead th {\n",
       "        text-align: right;\n",
       "    }\n",
       "</style>\n",
       "<table border=\"1\" class=\"dataframe\">\n",
       "  <thead>\n",
       "    <tr style=\"text-align: right;\">\n",
       "      <th></th>\n",
       "      <th>UserId</th>\n",
       "      <th>ItemId</th>\n",
       "      <th>Rating</th>\n",
       "      <th>Time</th>\n",
       "    </tr>\n",
       "  </thead>\n",
       "  <tbody>\n",
       "    <tr>\n",
       "      <th>31</th>\n",
       "      <td>1</td>\n",
       "      <td>3186</td>\n",
       "      <td>4</td>\n",
       "      <td>978300019</td>\n",
       "    </tr>\n",
       "    <tr>\n",
       "      <th>22</th>\n",
       "      <td>1</td>\n",
       "      <td>1270</td>\n",
       "      <td>5</td>\n",
       "      <td>978300055</td>\n",
       "    </tr>\n",
       "    <tr>\n",
       "      <th>27</th>\n",
       "      <td>1</td>\n",
       "      <td>1721</td>\n",
       "      <td>4</td>\n",
       "      <td>978300055</td>\n",
       "    </tr>\n",
       "    <tr>\n",
       "      <th>37</th>\n",
       "      <td>1</td>\n",
       "      <td>1022</td>\n",
       "      <td>5</td>\n",
       "      <td>978300055</td>\n",
       "    </tr>\n",
       "    <tr>\n",
       "      <th>24</th>\n",
       "      <td>1</td>\n",
       "      <td>2340</td>\n",
       "      <td>3</td>\n",
       "      <td>978300103</td>\n",
       "    </tr>\n",
       "    <tr>\n",
       "      <th>...</th>\n",
       "      <td>...</td>\n",
       "      <td>...</td>\n",
       "      <td>...</td>\n",
       "      <td>...</td>\n",
       "    </tr>\n",
       "    <tr>\n",
       "      <th>1000019</th>\n",
       "      <td>6040</td>\n",
       "      <td>2917</td>\n",
       "      <td>4</td>\n",
       "      <td>997454429</td>\n",
       "    </tr>\n",
       "    <tr>\n",
       "      <th>999988</th>\n",
       "      <td>6040</td>\n",
       "      <td>1921</td>\n",
       "      <td>4</td>\n",
       "      <td>997454464</td>\n",
       "    </tr>\n",
       "    <tr>\n",
       "      <th>1000172</th>\n",
       "      <td>6040</td>\n",
       "      <td>1784</td>\n",
       "      <td>3</td>\n",
       "      <td>997454464</td>\n",
       "    </tr>\n",
       "    <tr>\n",
       "      <th>1000167</th>\n",
       "      <td>6040</td>\n",
       "      <td>161</td>\n",
       "      <td>3</td>\n",
       "      <td>997454486</td>\n",
       "    </tr>\n",
       "    <tr>\n",
       "      <th>1000042</th>\n",
       "      <td>6040</td>\n",
       "      <td>1221</td>\n",
       "      <td>4</td>\n",
       "      <td>998315055</td>\n",
       "    </tr>\n",
       "  </tbody>\n",
       "</table>\n",
       "<p>1000209 rows × 4 columns</p>\n",
       "</div>"
      ],
      "text/plain": [
       "         UserId  ItemId  Rating       Time\n",
       "31            1    3186       4  978300019\n",
       "22            1    1270       5  978300055\n",
       "27            1    1721       4  978300055\n",
       "37            1    1022       5  978300055\n",
       "24            1    2340       3  978300103\n",
       "...         ...     ...     ...        ...\n",
       "1000019    6040    2917       4  997454429\n",
       "999988     6040    1921       4  997454464\n",
       "1000172    6040    1784       3  997454464\n",
       "1000167    6040     161       3  997454486\n",
       "1000042    6040    1221       4  998315055\n",
       "\n",
       "[1000209 rows x 4 columns]"
      ]
     },
     "execution_count": 8,
     "metadata": {},
     "output_type": "execute_result"
    }
   ],
   "source": [
    "data_path = Path(os.getenv('HOME')+'/aiffel/yoochoose/data/') \n",
    "train_path = data_path / 'ratings.dat'\n",
    "\n",
    "def load_data(data_path: Path, nrows=None):\n",
    "    data = pd.read_csv(data_path, sep='::', header=None, usecols=[0, 1, 2, 3], dtype={0: np.int32, 1: np.int32, 2: np.int32}, nrows=nrows)\n",
    "    data.columns = ['UserId', 'ItemId', 'Rating', 'Time']\n",
    "    return data\n",
    "\n",
    "data = load_data(train_path, None)\n",
    "data.sort_values(['UserId', 'Time'], inplace=True)  # data를 id와 시간 순서로 정렬해줍니다.\n",
    "data"
   ]
  },
  {
   "cell_type": "markdown",
   "id": "civic-establishment",
   "metadata": {},
   "source": [
    "### 2. 데이터 전처리\n",
    "#### User 별 평가 수 확인"
   ]
  },
  {
   "cell_type": "code",
   "execution_count": 9,
   "id": "iraqi-problem",
   "metadata": {},
   "outputs": [],
   "source": [
    "# user 별 사용 수 확인\n",
    "user_session = data.groupby('UserId').size()"
   ]
  },
  {
   "cell_type": "code",
   "execution_count": 10,
   "id": "hourly-dragon",
   "metadata": {},
   "outputs": [
    {
     "data": {
      "text/plain": [
       "UserId\n",
       "1        53\n",
       "2       129\n",
       "3        51\n",
       "4        21\n",
       "5       198\n",
       "       ... \n",
       "6036    888\n",
       "6037    202\n",
       "6038     20\n",
       "6039    123\n",
       "6040    341\n",
       "Length: 6040, dtype: int64"
      ]
     },
     "execution_count": 10,
     "metadata": {},
     "output_type": "execute_result"
    }
   ],
   "source": [
    "user_session"
   ]
  },
  {
   "cell_type": "code",
   "execution_count": 11,
   "id": "functional-accordance",
   "metadata": {},
   "outputs": [
    {
     "data": {
      "text/plain": [
       "count    6040.000000\n",
       "mean      165.597517\n",
       "std       192.747029\n",
       "min        20.000000\n",
       "25%        44.000000\n",
       "50%        96.000000\n",
       "75%       208.000000\n",
       "max      2314.000000\n",
       "dtype: float64"
      ]
     },
     "execution_count": 11,
     "metadata": {},
     "output_type": "execute_result"
    }
   ],
   "source": [
    "# max 값이 비정상적으로 높아 보인다\n",
    "user_session.describe()"
   ]
  },
  {
   "cell_type": "code",
   "execution_count": 12,
   "id": "found-reconstruction",
   "metadata": {},
   "outputs": [
    {
     "data": {
      "text/html": [
       "<div>\n",
       "<style scoped>\n",
       "    .dataframe tbody tr th:only-of-type {\n",
       "        vertical-align: middle;\n",
       "    }\n",
       "\n",
       "    .dataframe tbody tr th {\n",
       "        vertical-align: top;\n",
       "    }\n",
       "\n",
       "    .dataframe thead th {\n",
       "        text-align: right;\n",
       "    }\n",
       "</style>\n",
       "<table border=\"1\" class=\"dataframe\">\n",
       "  <thead>\n",
       "    <tr style=\"text-align: right;\">\n",
       "      <th></th>\n",
       "      <th>UserId</th>\n",
       "      <th>ItemId</th>\n",
       "      <th>Rating</th>\n",
       "      <th>Time</th>\n",
       "    </tr>\n",
       "  </thead>\n",
       "  <tbody>\n",
       "    <tr>\n",
       "      <th>696969</th>\n",
       "      <td>4169</td>\n",
       "      <td>1268</td>\n",
       "      <td>5</td>\n",
       "      <td>965333392</td>\n",
       "    </tr>\n",
       "    <tr>\n",
       "      <th>697168</th>\n",
       "      <td>4169</td>\n",
       "      <td>2617</td>\n",
       "      <td>4</td>\n",
       "      <td>965333392</td>\n",
       "    </tr>\n",
       "    <tr>\n",
       "      <th>697185</th>\n",
       "      <td>4169</td>\n",
       "      <td>2628</td>\n",
       "      <td>4</td>\n",
       "      <td>965333392</td>\n",
       "    </tr>\n",
       "    <tr>\n",
       "      <th>697219</th>\n",
       "      <td>4169</td>\n",
       "      <td>2653</td>\n",
       "      <td>4</td>\n",
       "      <td>965333392</td>\n",
       "    </tr>\n",
       "    <tr>\n",
       "      <th>697275</th>\n",
       "      <td>4169</td>\n",
       "      <td>423</td>\n",
       "      <td>3</td>\n",
       "      <td>965333392</td>\n",
       "    </tr>\n",
       "    <tr>\n",
       "      <th>...</th>\n",
       "      <td>...</td>\n",
       "      <td>...</td>\n",
       "      <td>...</td>\n",
       "      <td>...</td>\n",
       "    </tr>\n",
       "    <tr>\n",
       "      <th>697882</th>\n",
       "      <td>4169</td>\n",
       "      <td>3754</td>\n",
       "      <td>2</td>\n",
       "      <td>1024174347</td>\n",
       "    </tr>\n",
       "    <tr>\n",
       "      <th>695702</th>\n",
       "      <td>4169</td>\n",
       "      <td>1413</td>\n",
       "      <td>3</td>\n",
       "      <td>1024175031</td>\n",
       "    </tr>\n",
       "    <tr>\n",
       "      <th>697358</th>\n",
       "      <td>4169</td>\n",
       "      <td>494</td>\n",
       "      <td>4</td>\n",
       "      <td>1024175760</td>\n",
       "    </tr>\n",
       "    <tr>\n",
       "      <th>695945</th>\n",
       "      <td>4169</td>\n",
       "      <td>1804</td>\n",
       "      <td>2</td>\n",
       "      <td>1024175783</td>\n",
       "    </tr>\n",
       "    <tr>\n",
       "      <th>696446</th>\n",
       "      <td>4169</td>\n",
       "      <td>1548</td>\n",
       "      <td>3</td>\n",
       "      <td>1024176337</td>\n",
       "    </tr>\n",
       "  </tbody>\n",
       "</table>\n",
       "<p>2314 rows × 4 columns</p>\n",
       "</div>"
      ],
      "text/plain": [
       "        UserId  ItemId  Rating        Time\n",
       "696969    4169    1268       5   965333392\n",
       "697168    4169    2617       4   965333392\n",
       "697185    4169    2628       4   965333392\n",
       "697219    4169    2653       4   965333392\n",
       "697275    4169     423       3   965333392\n",
       "...        ...     ...     ...         ...\n",
       "697882    4169    3754       2  1024174347\n",
       "695702    4169    1413       3  1024175031\n",
       "697358    4169     494       4  1024175760\n",
       "695945    4169    1804       2  1024175783\n",
       "696446    4169    1548       3  1024176337\n",
       "\n",
       "[2314 rows x 4 columns]"
      ]
     },
     "execution_count": 12,
     "metadata": {},
     "output_type": "execute_result"
    }
   ],
   "source": [
    "# session max 값 확인\n",
    "data[data['UserId'] == user_session[user_session==2314].index[0]]"
   ]
  },
  {
   "cell_type": "markdown",
   "id": "future-plenty",
   "metadata": {},
   "source": [
    "* user_session 이 max 값에 해당하는 자료를 확인한 결과 동일한 UserId를 이용해 동일한 시간에 평가 된 항목들이 상당히 많다. 이는 정상적인 데이터로 보이지 않기 때문에 Time을 기준으로 duplicates 데이터를 삭제하기로 한다."
   ]
  },
  {
   "cell_type": "markdown",
   "id": "amateur-favor",
   "metadata": {},
   "source": [
    "#### drop_duplicates"
   ]
  },
  {
   "cell_type": "code",
   "execution_count": 13,
   "id": "coated-observation",
   "metadata": {},
   "outputs": [],
   "source": [
    "# Time 기준 duplicates 삭제\n",
    "data = data.drop_duplicates(['Time'], keep='first')"
   ]
  },
  {
   "cell_type": "code",
   "execution_count": 14,
   "id": "second-olympus",
   "metadata": {},
   "outputs": [
    {
     "data": {
      "text/plain": [
       "(458455, 4)"
      ]
     },
     "execution_count": 14,
     "metadata": {},
     "output_type": "execute_result"
    }
   ],
   "source": [
    "# data 수 변화 : 1000209 -> 458455\n",
    "data.shape"
   ]
  },
  {
   "cell_type": "code",
   "execution_count": 15,
   "id": "difficult-winter",
   "metadata": {},
   "outputs": [
    {
     "data": {
      "text/plain": [
       "UserId\n",
       "1        34\n",
       "2        66\n",
       "3        31\n",
       "4         7\n",
       "5        83\n",
       "       ... \n",
       "6036    186\n",
       "6037     56\n",
       "6038     14\n",
       "6039     46\n",
       "6040    167\n",
       "Length: 6040, dtype: int64"
      ]
     },
     "execution_count": 15,
     "metadata": {},
     "output_type": "execute_result"
    }
   ],
   "source": [
    "# user 별 사용 수 확인\n",
    "user_session = data.groupby('UserId').size()\n",
    "user_session"
   ]
  },
  {
   "cell_type": "code",
   "execution_count": 16,
   "id": "smooth-movie",
   "metadata": {},
   "outputs": [
    {
     "data": {
      "text/plain": [
       "count    6040.000000\n",
       "mean       75.903146\n",
       "std        89.550714\n",
       "min         2.000000\n",
       "25%        20.000000\n",
       "50%        41.000000\n",
       "75%        94.000000\n",
       "max       893.000000\n",
       "dtype: float64"
      ]
     },
     "execution_count": 16,
     "metadata": {},
     "output_type": "execute_result"
    }
   ],
   "source": [
    "user_session.describe()"
   ]
  },
  {
   "cell_type": "code",
   "execution_count": 17,
   "id": "introductory-semester",
   "metadata": {
    "scrolled": true
   },
   "outputs": [
    {
     "data": {
      "text/html": [
       "<div>\n",
       "<style scoped>\n",
       "    .dataframe tbody tr th:only-of-type {\n",
       "        vertical-align: middle;\n",
       "    }\n",
       "\n",
       "    .dataframe tbody tr th {\n",
       "        vertical-align: top;\n",
       "    }\n",
       "\n",
       "    .dataframe thead th {\n",
       "        text-align: right;\n",
       "    }\n",
       "</style>\n",
       "<table border=\"1\" class=\"dataframe\">\n",
       "  <thead>\n",
       "    <tr style=\"text-align: right;\">\n",
       "      <th></th>\n",
       "      <th>UserId</th>\n",
       "      <th>ItemId</th>\n",
       "      <th>Rating</th>\n",
       "      <th>Time</th>\n",
       "    </tr>\n",
       "  </thead>\n",
       "  <tbody>\n",
       "    <tr>\n",
       "      <th>171477</th>\n",
       "      <td>1088</td>\n",
       "      <td>260</td>\n",
       "      <td>5</td>\n",
       "      <td>974930951</td>\n",
       "    </tr>\n",
       "    <tr>\n",
       "      <th>171224</th>\n",
       "      <td>1088</td>\n",
       "      <td>912</td>\n",
       "      <td>5</td>\n",
       "      <td>974931043</td>\n",
       "    </tr>\n",
       "    <tr>\n",
       "      <th>171113</th>\n",
       "      <td>1088</td>\n",
       "      <td>589</td>\n",
       "      <td>4</td>\n",
       "      <td>974931244</td>\n",
       "    </tr>\n",
       "    <tr>\n",
       "      <th>172077</th>\n",
       "      <td>1088</td>\n",
       "      <td>1035</td>\n",
       "      <td>4</td>\n",
       "      <td>974931419</td>\n",
       "    </tr>\n",
       "    <tr>\n",
       "      <th>171897</th>\n",
       "      <td>1088</td>\n",
       "      <td>3512</td>\n",
       "      <td>4</td>\n",
       "      <td>974931577</td>\n",
       "    </tr>\n",
       "    <tr>\n",
       "      <th>...</th>\n",
       "      <td>...</td>\n",
       "      <td>...</td>\n",
       "      <td>...</td>\n",
       "      <td>...</td>\n",
       "    </tr>\n",
       "    <tr>\n",
       "      <th>171531</th>\n",
       "      <td>1088</td>\n",
       "      <td>2844</td>\n",
       "      <td>3</td>\n",
       "      <td>1045529893</td>\n",
       "    </tr>\n",
       "    <tr>\n",
       "      <th>171936</th>\n",
       "      <td>1088</td>\n",
       "      <td>2728</td>\n",
       "      <td>3</td>\n",
       "      <td>1045529943</td>\n",
       "    </tr>\n",
       "    <tr>\n",
       "      <th>171978</th>\n",
       "      <td>1088</td>\n",
       "      <td>3543</td>\n",
       "      <td>4</td>\n",
       "      <td>1045530142</td>\n",
       "    </tr>\n",
       "    <tr>\n",
       "      <th>171708</th>\n",
       "      <td>1088</td>\n",
       "      <td>2314</td>\n",
       "      <td>4</td>\n",
       "      <td>1045995723</td>\n",
       "    </tr>\n",
       "    <tr>\n",
       "      <th>171627</th>\n",
       "      <td>1088</td>\n",
       "      <td>1186</td>\n",
       "      <td>4</td>\n",
       "      <td>1045995991</td>\n",
       "    </tr>\n",
       "  </tbody>\n",
       "</table>\n",
       "<p>893 rows × 4 columns</p>\n",
       "</div>"
      ],
      "text/plain": [
       "        UserId  ItemId  Rating        Time\n",
       "171477    1088     260       5   974930951\n",
       "171224    1088     912       5   974931043\n",
       "171113    1088     589       4   974931244\n",
       "172077    1088    1035       4   974931419\n",
       "171897    1088    3512       4   974931577\n",
       "...        ...     ...     ...         ...\n",
       "171531    1088    2844       3  1045529893\n",
       "171936    1088    2728       3  1045529943\n",
       "171978    1088    3543       4  1045530142\n",
       "171708    1088    2314       4  1045995723\n",
       "171627    1088    1186       4  1045995991\n",
       "\n",
       "[893 rows x 4 columns]"
      ]
     },
     "execution_count": 17,
     "metadata": {},
     "output_type": "execute_result"
    }
   ],
   "source": [
    "# Time 중복은 모두 드랍 됨\n",
    "data[data['UserId'] == user_session[user_session==893].index[0]]"
   ]
  },
  {
   "cell_type": "markdown",
   "id": "protected-portland",
   "metadata": {},
   "source": [
    "* 같은 UserId가 사용 된 평가중에서 중복된 시간 실시 된 데이터들이 드랍된 것을 확인 할 수 있다."
   ]
  },
  {
   "cell_type": "code",
   "execution_count": 18,
   "id": "covered-fleece",
   "metadata": {},
   "outputs": [
    {
     "data": {
      "text/plain": [
       "2      0.000166\n",
       "3      0.000828\n",
       "4      0.003146\n",
       "5      0.007616\n",
       "6      0.014570\n",
       "         ...   \n",
       "617    0.998179\n",
       "618    0.998344\n",
       "634    0.998510\n",
       "640    0.998675\n",
       "648    0.998841\n",
       "Length: 425, dtype: float64"
      ]
     },
     "execution_count": 18,
     "metadata": {},
     "output_type": "execute_result"
    }
   ],
   "source": [
    "length_count = user_session.groupby(user_session).size()\n",
    "length_percent_cumsum = length_count.cumsum() / length_count.sum()\n",
    "length_percent_cumsum_999 = length_percent_cumsum[length_percent_cumsum < 0.999]\n",
    "\n",
    "length_percent_cumsum_999"
   ]
  },
  {
   "cell_type": "markdown",
   "id": "indian-sheffield",
   "metadata": {},
   "source": [
    "#### 분포도 확인"
   ]
  },
  {
   "cell_type": "code",
   "execution_count": 19,
   "id": "activated-prisoner",
   "metadata": {},
   "outputs": [
    {
     "data": {
      "image/png": "[encoded data removed]",
      "text/plain": [
       "<Figure size 1440x720 with 1 Axes>"
      ]
     },
     "metadata": {
      "needs_background": "light"
     },
     "output_type": "display_data"
    }
   ],
   "source": [
    "# 99.9% 까지의 분포 누적 합\n",
    "import matplotlib.pyplot as plt\n",
    "\n",
    "plt.figure(figsize=(20, 10))\n",
    "plt.bar(x=length_percent_cumsum_999.index,\n",
    "        height=length_percent_cumsum_999, color='red')\n",
    "plt.xticks(length_percent_cumsum_999.index)\n",
    "plt.yticks(np.arange(0, 1.01, 0.05))\n",
    "plt.title('Cumsum Percentage Until 0.999', size=20)\n",
    "plt.show()"
   ]
  },
  {
   "cell_type": "markdown",
   "id": "political-exploration",
   "metadata": {},
   "source": [
    "* 99.9% 데이터에 대한 분포를 보면 뒤로 갈 수록 간격이 벌어진 데이터들이 보이는데 이들을 outlier에 가까운 값이라고 보면 될 듯 하다."
   ]
  },
  {
   "cell_type": "code",
   "execution_count": 20,
   "id": "thorough-infrared",
   "metadata": {},
   "outputs": [
    {
     "data": {
      "image/png": "[encoded data removed]",
      "text/plain": [
       "<Figure size 1440x720 with 1 Axes>"
      ]
     },
     "metadata": {
      "needs_background": "light"
     },
     "output_type": "display_data"
    }
   ],
   "source": [
    "# 95.0% 까지의 분포 누적 합\n",
    "import matplotlib.pyplot as plt\n",
    "\n",
    "length_count = user_session.groupby(user_session).size()\n",
    "length_percent_cumsum = length_count.cumsum() / length_count.sum()\n",
    "length_percent_cumsum_999 = length_percent_cumsum[length_percent_cumsum < 0.950]\n",
    "\n",
    "plt.figure(figsize=(20, 10))\n",
    "plt.bar(x=length_percent_cumsum_999.index,\n",
    "        height=length_percent_cumsum_999, color='red')\n",
    "plt.xticks(length_percent_cumsum_999.index)\n",
    "plt.yticks(np.arange(0, 1.01, 0.05))\n",
    "plt.title('Cumsum Percentage Until 0.950', size=20)\n",
    "plt.show()"
   ]
  },
  {
   "cell_type": "markdown",
   "id": "uniform-label",
   "metadata": {},
   "source": [
    "* 이를 95% 범위로 줄여보면 이 범위에 해당하는 데이터들은 밀집된 형태의 분포를 가진다는 것을 알 수 있다."
   ]
  },
  {
   "cell_type": "markdown",
   "id": "extended-optimization",
   "metadata": {},
   "source": [
    "#### data cleasing"
   ]
  },
  {
   "cell_type": "code",
   "execution_count": 21,
   "id": "prostate-acrobat",
   "metadata": {},
   "outputs": [],
   "source": [
    "def cleanse_recursive(data: pd.DataFrame, shortest, least_click) -> pd.DataFrame:\n",
    "    while True:\n",
    "        before_len = len(data)\n",
    "        data = cleanse_short_session(data, shortest)\n",
    "        data = cleanse_unpopular_item(data, least_click)\n",
    "        after_len = len(data)\n",
    "        if before_len == after_len:\n",
    "            break\n",
    "    return data\n",
    "\n",
    "\n",
    "def cleanse_short_session(data: pd.DataFrame, shortest):\n",
    "    session_len = data.groupby('UserId').size()\n",
    "    session_use = session_len[session_len >= shortest].index\n",
    "    data = data[data['UserId'].isin(session_use)]\n",
    "    return data\n",
    "\n",
    "\n",
    "def cleanse_unpopular_item(data: pd.DataFrame, least_click):\n",
    "    item_popular = data.groupby('ItemId').size()\n",
    "    item_use = item_popular[item_popular >= least_click].index\n",
    "    data = data[data['ItemId'].isin(item_use)]\n",
    "    return data"
   ]
  },
  {
   "cell_type": "code",
   "execution_count": 22,
   "id": "lightweight-slovak",
   "metadata": {
    "scrolled": false
   },
   "outputs": [
    {
     "data": {
      "text/html": [
       "<div>\n",
       "<style scoped>\n",
       "    .dataframe tbody tr th:only-of-type {\n",
       "        vertical-align: middle;\n",
       "    }\n",
       "\n",
       "    .dataframe tbody tr th {\n",
       "        vertical-align: top;\n",
       "    }\n",
       "\n",
       "    .dataframe thead th {\n",
       "        text-align: right;\n",
       "    }\n",
       "</style>\n",
       "<table border=\"1\" class=\"dataframe\">\n",
       "  <thead>\n",
       "    <tr style=\"text-align: right;\">\n",
       "      <th></th>\n",
       "      <th>UserId</th>\n",
       "      <th>ItemId</th>\n",
       "      <th>Rating</th>\n",
       "      <th>Time</th>\n",
       "    </tr>\n",
       "  </thead>\n",
       "  <tbody>\n",
       "    <tr>\n",
       "      <th>31</th>\n",
       "      <td>1</td>\n",
       "      <td>3186</td>\n",
       "      <td>4</td>\n",
       "      <td>978300019</td>\n",
       "    </tr>\n",
       "    <tr>\n",
       "      <th>22</th>\n",
       "      <td>1</td>\n",
       "      <td>1270</td>\n",
       "      <td>5</td>\n",
       "      <td>978300055</td>\n",
       "    </tr>\n",
       "    <tr>\n",
       "      <th>24</th>\n",
       "      <td>1</td>\n",
       "      <td>2340</td>\n",
       "      <td>3</td>\n",
       "      <td>978300103</td>\n",
       "    </tr>\n",
       "    <tr>\n",
       "      <th>36</th>\n",
       "      <td>1</td>\n",
       "      <td>1836</td>\n",
       "      <td>5</td>\n",
       "      <td>978300172</td>\n",
       "    </tr>\n",
       "    <tr>\n",
       "      <th>3</th>\n",
       "      <td>1</td>\n",
       "      <td>3408</td>\n",
       "      <td>4</td>\n",
       "      <td>978300275</td>\n",
       "    </tr>\n",
       "    <tr>\n",
       "      <th>...</th>\n",
       "      <td>...</td>\n",
       "      <td>...</td>\n",
       "      <td>...</td>\n",
       "      <td>...</td>\n",
       "    </tr>\n",
       "    <tr>\n",
       "      <th>999923</th>\n",
       "      <td>6040</td>\n",
       "      <td>232</td>\n",
       "      <td>5</td>\n",
       "      <td>997454398</td>\n",
       "    </tr>\n",
       "    <tr>\n",
       "      <th>1000019</th>\n",
       "      <td>6040</td>\n",
       "      <td>2917</td>\n",
       "      <td>4</td>\n",
       "      <td>997454429</td>\n",
       "    </tr>\n",
       "    <tr>\n",
       "      <th>999988</th>\n",
       "      <td>6040</td>\n",
       "      <td>1921</td>\n",
       "      <td>4</td>\n",
       "      <td>997454464</td>\n",
       "    </tr>\n",
       "    <tr>\n",
       "      <th>1000167</th>\n",
       "      <td>6040</td>\n",
       "      <td>161</td>\n",
       "      <td>3</td>\n",
       "      <td>997454486</td>\n",
       "    </tr>\n",
       "    <tr>\n",
       "      <th>1000042</th>\n",
       "      <td>6040</td>\n",
       "      <td>1221</td>\n",
       "      <td>4</td>\n",
       "      <td>998315055</td>\n",
       "    </tr>\n",
       "  </tbody>\n",
       "</table>\n",
       "<p>458131 rows × 4 columns</p>\n",
       "</div>"
      ],
      "text/plain": [
       "         UserId  ItemId  Rating       Time\n",
       "31            1    3186       4  978300019\n",
       "22            1    1270       5  978300055\n",
       "24            1    2340       3  978300103\n",
       "36            1    1836       5  978300172\n",
       "3             1    3408       4  978300275\n",
       "...         ...     ...     ...        ...\n",
       "999923     6040     232       5  997454398\n",
       "1000019    6040    2917       4  997454429\n",
       "999988     6040    1921       4  997454464\n",
       "1000167    6040     161       3  997454486\n",
       "1000042    6040    1221       4  998315055\n",
       "\n",
       "[458131 rows x 4 columns]"
      ]
     },
     "execution_count": 22,
     "metadata": {},
     "output_type": "execute_result"
    }
   ],
   "source": [
    "# UserId size : 1인 데이터 제거 \n",
    "# least_click : 평가가 3회 이하 인 데이터 제거 (인기가 없다고 판단)\n",
    "data = cleanse_recursive(data, shortest=1, least_click=3)\n",
    "data"
   ]
  },
  {
   "cell_type": "markdown",
   "id": "reasonable-authority",
   "metadata": {},
   "source": [
    "* 추천이라는게 인기가 있거나 있을만한 것들, 그리고 믿을 만한 것들 위주로 이루어 지는 것이 옳다고 생각한다.\n",
    "* 따라서 우선 평가가 1개 뿐인 userid 는 신뢰성 부분에서 부적합하다고 생각하여 삭제하고, 총 평가가 3개 이하인 경우 인기가 없다고 판단하여 삭제 하였다.\n",
    "* 최종적으로 기존 458455 rows 에서 458131 rows 로 변경. 대략 300 rows 정도가 추가로 제거 됨."
   ]
  },
  {
   "cell_type": "markdown",
   "id": "sharing-catering",
   "metadata": {},
   "source": [
    "#### Session ( UserId가 사용된 횟수 ) column 추가"
   ]
  },
  {
   "cell_type": "code",
   "execution_count": 50,
   "id": "strategic-broad",
   "metadata": {},
   "outputs": [],
   "source": [
    "tmp_data = data\n",
    "tmp_data['Session'] = 0\n",
    "\n",
    "for idx, val in enumerate(user_session):\n",
    "    tmp_data.loc[tmp_data['UserId']==idx+1, 'Session'] = val"
   ]
  },
  {
   "cell_type": "markdown",
   "id": "honey-balance",
   "metadata": {},
   "source": [
    "* 별도의 Series 형태로 가지고 있던 데이터를 기존의 data에 합쳤다.\n",
    "* data.groupby('UserId').size() 값이 들어있다."
   ]
  },
  {
   "cell_type": "code",
   "execution_count": 29,
   "id": "accomplished-basin",
   "metadata": {},
   "outputs": [
    {
     "data": {
      "text/html": [
       "<div>\n",
       "<style scoped>\n",
       "    .dataframe tbody tr th:only-of-type {\n",
       "        vertical-align: middle;\n",
       "    }\n",
       "\n",
       "    .dataframe tbody tr th {\n",
       "        vertical-align: top;\n",
       "    }\n",
       "\n",
       "    .dataframe thead th {\n",
       "        text-align: right;\n",
       "    }\n",
       "</style>\n",
       "<table border=\"1\" class=\"dataframe\">\n",
       "  <thead>\n",
       "    <tr style=\"text-align: right;\">\n",
       "      <th></th>\n",
       "      <th>UserId</th>\n",
       "      <th>ItemId</th>\n",
       "      <th>Rating</th>\n",
       "      <th>Time</th>\n",
       "      <th>Session</th>\n",
       "    </tr>\n",
       "  </thead>\n",
       "  <tbody>\n",
       "    <tr>\n",
       "      <th>31</th>\n",
       "      <td>1</td>\n",
       "      <td>3186</td>\n",
       "      <td>4</td>\n",
       "      <td>978300019</td>\n",
       "      <td>34</td>\n",
       "    </tr>\n",
       "    <tr>\n",
       "      <th>22</th>\n",
       "      <td>1</td>\n",
       "      <td>1270</td>\n",
       "      <td>5</td>\n",
       "      <td>978300055</td>\n",
       "      <td>34</td>\n",
       "    </tr>\n",
       "    <tr>\n",
       "      <th>24</th>\n",
       "      <td>1</td>\n",
       "      <td>2340</td>\n",
       "      <td>3</td>\n",
       "      <td>978300103</td>\n",
       "      <td>34</td>\n",
       "    </tr>\n",
       "    <tr>\n",
       "      <th>36</th>\n",
       "      <td>1</td>\n",
       "      <td>1836</td>\n",
       "      <td>5</td>\n",
       "      <td>978300172</td>\n",
       "      <td>34</td>\n",
       "    </tr>\n",
       "    <tr>\n",
       "      <th>3</th>\n",
       "      <td>1</td>\n",
       "      <td>3408</td>\n",
       "      <td>4</td>\n",
       "      <td>978300275</td>\n",
       "      <td>34</td>\n",
       "    </tr>\n",
       "  </tbody>\n",
       "</table>\n",
       "</div>"
      ],
      "text/plain": [
       "    UserId  ItemId  Rating       Time  Session\n",
       "31       1    3186       4  978300019       34\n",
       "22       1    1270       5  978300055       34\n",
       "24       1    2340       3  978300103       34\n",
       "36       1    1836       5  978300172       34\n",
       "3        1    3408       4  978300275       34"
      ]
     },
     "execution_count": 29,
     "metadata": {},
     "output_type": "execute_result"
    }
   ],
   "source": [
    "tmp_data.head()"
   ]
  },
  {
   "cell_type": "code",
   "execution_count": 31,
   "id": "intensive-platform",
   "metadata": {
    "scrolled": false
   },
   "outputs": [
    {
     "data": {
      "text/html": [
       "<div>\n",
       "<style scoped>\n",
       "    .dataframe tbody tr th:only-of-type {\n",
       "        vertical-align: middle;\n",
       "    }\n",
       "\n",
       "    .dataframe tbody tr th {\n",
       "        vertical-align: top;\n",
       "    }\n",
       "\n",
       "    .dataframe thead th {\n",
       "        text-align: right;\n",
       "    }\n",
       "</style>\n",
       "<table border=\"1\" class=\"dataframe\">\n",
       "  <thead>\n",
       "    <tr style=\"text-align: right;\">\n",
       "      <th></th>\n",
       "      <th>UserId</th>\n",
       "      <th>ItemId</th>\n",
       "      <th>Rating</th>\n",
       "      <th>Time</th>\n",
       "      <th>Session</th>\n",
       "    </tr>\n",
       "  </thead>\n",
       "  <tbody>\n",
       "    <tr>\n",
       "      <th>31</th>\n",
       "      <td>1</td>\n",
       "      <td>3186</td>\n",
       "      <td>4</td>\n",
       "      <td>978300019</td>\n",
       "      <td>34</td>\n",
       "    </tr>\n",
       "    <tr>\n",
       "      <th>22</th>\n",
       "      <td>1</td>\n",
       "      <td>1270</td>\n",
       "      <td>5</td>\n",
       "      <td>978300055</td>\n",
       "      <td>34</td>\n",
       "    </tr>\n",
       "    <tr>\n",
       "      <th>24</th>\n",
       "      <td>1</td>\n",
       "      <td>2340</td>\n",
       "      <td>3</td>\n",
       "      <td>978300103</td>\n",
       "      <td>34</td>\n",
       "    </tr>\n",
       "    <tr>\n",
       "      <th>36</th>\n",
       "      <td>1</td>\n",
       "      <td>1836</td>\n",
       "      <td>5</td>\n",
       "      <td>978300172</td>\n",
       "      <td>34</td>\n",
       "    </tr>\n",
       "    <tr>\n",
       "      <th>3</th>\n",
       "      <td>1</td>\n",
       "      <td>3408</td>\n",
       "      <td>4</td>\n",
       "      <td>978300275</td>\n",
       "      <td>34</td>\n",
       "    </tr>\n",
       "  </tbody>\n",
       "</table>\n",
       "</div>"
      ],
      "text/plain": [
       "    UserId  ItemId  Rating       Time  Session\n",
       "31       1    3186       4  978300019       34\n",
       "22       1    1270       5  978300055       34\n",
       "24       1    2340       3  978300103       34\n",
       "36       1    1836       5  978300172       34\n",
       "3        1    3408       4  978300275       34"
      ]
     },
     "execution_count": 31,
     "metadata": {},
     "output_type": "execute_result"
    }
   ],
   "source": [
    "data = tmp_data\n",
    "data.head()"
   ]
  },
  {
   "cell_type": "markdown",
   "id": "tropical-chess",
   "metadata": {},
   "source": [
    "* data에 반영"
   ]
  },
  {
   "cell_type": "markdown",
   "id": "ranking-sense",
   "metadata": {},
   "source": [
    "#### Train, test set 분리"
   ]
  },
  {
   "cell_type": "code",
   "execution_count": 32,
   "id": "english-surfing",
   "metadata": {},
   "outputs": [],
   "source": [
    "# data를 train, validation, test 의 3 세트로 분리\n",
    "data = data.sort_values(by=['Time'])\n",
    "tr, val, test = data[:-int(len(data)*(0.2))], data[-int(len(data)*(0.2)):-int(len(data)*(0.1))], data[-int(len(data)*(0.1)):]"
   ]
  },
  {
   "cell_type": "markdown",
   "id": "surgical-aberdeen",
   "metadata": {},
   "source": [
    "* data를 train, validation, test의 3 set으로 나눈다.\n",
    "* 비율은 적당히 tr : val : test = 8 : 1 : 1 로 설정하였다."
   ]
  },
  {
   "cell_type": "code",
   "execution_count": 154,
   "id": "severe-texas",
   "metadata": {},
   "outputs": [],
   "source": [
    "# data에 대한 전반적인 정보 확인\n",
    "def stats_info(data: pd.DataFrame, status: str):\n",
    "    print(f'* {status} Set Stats Info\\n'\n",
    "          f'\\t Events: {len(data)}\\n'\n",
    "          f'\\t Items: {data[\"ItemId\"].nunique()}\\n'\n",
    "          f'\\t First Time : {data[\"Time\"].min()}\\n'\n",
    "          f'\\t Last Time : {data[\"Time\"].max()}\\n')"
   ]
  },
  {
   "cell_type": "code",
   "execution_count": 155,
   "id": "prime-small",
   "metadata": {
    "scrolled": false
   },
   "outputs": [
    {
     "name": "stdout",
     "output_type": "stream",
     "text": [
      "* train Set Stats Info\n",
      "\t Events: 366505\n",
      "\t Items: 3357\n",
      "\t First Time : 956703932\n",
      "\t Last Time : 976311712\n",
      "\n",
      "* valid Set Stats Info\n",
      "\t Events: 45813\n",
      "\t Items: 3046\n",
      "\t First Time : 976311716\n",
      "\t Last Time : 983416929\n",
      "\n",
      "* test Set Stats Info\n",
      "\t Events: 45813\n",
      "\t Items: 3164\n",
      "\t First Time : 983416953\n",
      "\t Last Time : 1046454590\n",
      "\n"
     ]
    }
   ],
   "source": [
    "stats_info(tr, 'train')\n",
    "stats_info(val, 'valid')\n",
    "stats_info(test, 'test')"
   ]
  },
  {
   "cell_type": "code",
   "execution_count": 153,
   "id": "distant-beads",
   "metadata": {},
   "outputs": [
    {
     "data": {
      "text/plain": [
       "(45813, 5)"
      ]
     },
     "execution_count": 153,
     "metadata": {},
     "output_type": "execute_result"
    }
   ],
   "source": [
    "val.shape"
   ]
  },
  {
   "cell_type": "code",
   "execution_count": 33,
   "id": "infinite-december",
   "metadata": {},
   "outputs": [],
   "source": [
    "# train set에 없는 아이템이 val, test기간에 생길 수 있으므로 train data를 기준으로 인덱싱합니다.\n",
    "id2idx = {item_id : index for index, item_id in enumerate(tr['ItemId'].unique())}\n",
    "\n",
    "def indexing(df, id2idx):\n",
    "    df['item_idx'] = df['ItemId'].map(lambda x: id2idx.get(x, -1))  # id2idx에 없는 아이템은 모르는 값(-1) 처리 해줍니다.\n",
    "    return df\n",
    "\n",
    "tr = indexing(tr, id2idx)\n",
    "val = indexing(val, id2idx)\n",
    "test = indexing(test, id2idx)"
   ]
  },
  {
   "cell_type": "code",
   "execution_count": 34,
   "id": "joined-scenario",
   "metadata": {},
   "outputs": [],
   "source": [
    "save_path = data_path / 'processed'\n",
    "save_path.mkdir(parents=True, exist_ok=True)\n",
    "\n",
    "tr.to_pickle(save_path / 'train.pkl')\n",
    "val.to_pickle(save_path / 'valid.pkl')\n",
    "test.to_pickle(save_path / 'test.pkl')"
   ]
  },
  {
   "cell_type": "markdown",
   "id": "intended-house",
   "metadata": {},
   "source": [
    "### Session-Parallel Mini-Batch\n",
    "#### SessionDataSet"
   ]
  },
  {
   "cell_type": "code",
   "execution_count": 35,
   "id": "brief-concept",
   "metadata": {},
   "outputs": [],
   "source": [
    "class SessionDataset:\n",
    "    \"\"\"Credit to yhs-968/pyGRU4REC.\"\"\"\n",
    "\n",
    "    def __init__(self, data):\n",
    "        self.df = data\n",
    "        self.click_offsets = self.get_click_offsets()\n",
    "        self.session_idx = np.arange(self.df['Session'].nunique())  # indexing to Session\n",
    "\n",
    "    def get_click_offsets(self):\n",
    "        \"\"\"\n",
    "        Return the indexes of the first click of each session IDs,\n",
    "        \"\"\"\n",
    "        offsets = np.zeros(self.df['Session'].nunique() + 1, dtype=np.int32)\n",
    "        offsets[1:] = self.df.groupby('Session').size().cumsum()\n",
    "        return offsets"
   ]
  },
  {
   "cell_type": "code",
   "execution_count": 36,
   "id": "adjustable-slovenia",
   "metadata": {},
   "outputs": [
    {
     "data": {
      "text/html": [
       "<div>\n",
       "<style scoped>\n",
       "    .dataframe tbody tr th:only-of-type {\n",
       "        vertical-align: middle;\n",
       "    }\n",
       "\n",
       "    .dataframe tbody tr th {\n",
       "        vertical-align: top;\n",
       "    }\n",
       "\n",
       "    .dataframe thead th {\n",
       "        text-align: right;\n",
       "    }\n",
       "</style>\n",
       "<table border=\"1\" class=\"dataframe\">\n",
       "  <thead>\n",
       "    <tr style=\"text-align: right;\">\n",
       "      <th></th>\n",
       "      <th>UserId</th>\n",
       "      <th>ItemId</th>\n",
       "      <th>Rating</th>\n",
       "      <th>Time</th>\n",
       "      <th>Session</th>\n",
       "      <th>item_idx</th>\n",
       "    </tr>\n",
       "  </thead>\n",
       "  <tbody>\n",
       "    <tr>\n",
       "      <th>1000138</th>\n",
       "      <td>6040</td>\n",
       "      <td>858</td>\n",
       "      <td>4</td>\n",
       "      <td>956703932</td>\n",
       "      <td>167</td>\n",
       "      <td>0</td>\n",
       "    </tr>\n",
       "    <tr>\n",
       "      <th>999873</th>\n",
       "      <td>6040</td>\n",
       "      <td>593</td>\n",
       "      <td>5</td>\n",
       "      <td>956703954</td>\n",
       "      <td>167</td>\n",
       "      <td>1</td>\n",
       "    </tr>\n",
       "    <tr>\n",
       "      <th>1000007</th>\n",
       "      <td>6040</td>\n",
       "      <td>1961</td>\n",
       "      <td>4</td>\n",
       "      <td>956703977</td>\n",
       "      <td>167</td>\n",
       "      <td>2</td>\n",
       "    </tr>\n",
       "    <tr>\n",
       "      <th>999868</th>\n",
       "      <td>6040</td>\n",
       "      <td>573</td>\n",
       "      <td>4</td>\n",
       "      <td>956704056</td>\n",
       "      <td>167</td>\n",
       "      <td>3</td>\n",
       "    </tr>\n",
       "    <tr>\n",
       "      <th>1000155</th>\n",
       "      <td>6040</td>\n",
       "      <td>1734</td>\n",
       "      <td>2</td>\n",
       "      <td>956704081</td>\n",
       "      <td>167</td>\n",
       "      <td>4</td>\n",
       "    </tr>\n",
       "  </tbody>\n",
       "</table>\n",
       "</div>"
      ],
      "text/plain": [
       "         UserId  ItemId  Rating       Time  Session  item_idx\n",
       "1000138    6040     858       4  956703932      167         0\n",
       "999873     6040     593       5  956703954      167         1\n",
       "1000007    6040    1961       4  956703977      167         2\n",
       "999868     6040     573       4  956704056      167         3\n",
       "1000155    6040    1734       2  956704081      167         4"
      ]
     },
     "execution_count": 36,
     "metadata": {},
     "output_type": "execute_result"
    }
   ],
   "source": [
    "tr.head()"
   ]
  },
  {
   "cell_type": "code",
   "execution_count": 37,
   "id": "competent-festival",
   "metadata": {
    "scrolled": true
   },
   "outputs": [
    {
     "data": {
      "text/html": [
       "<div>\n",
       "<style scoped>\n",
       "    .dataframe tbody tr th:only-of-type {\n",
       "        vertical-align: middle;\n",
       "    }\n",
       "\n",
       "    .dataframe tbody tr th {\n",
       "        vertical-align: top;\n",
       "    }\n",
       "\n",
       "    .dataframe thead th {\n",
       "        text-align: right;\n",
       "    }\n",
       "</style>\n",
       "<table border=\"1\" class=\"dataframe\">\n",
       "  <thead>\n",
       "    <tr style=\"text-align: right;\">\n",
       "      <th></th>\n",
       "      <th>UserId</th>\n",
       "      <th>ItemId</th>\n",
       "      <th>Rating</th>\n",
       "      <th>Time</th>\n",
       "      <th>Session</th>\n",
       "      <th>item_idx</th>\n",
       "    </tr>\n",
       "  </thead>\n",
       "  <tbody>\n",
       "    <tr>\n",
       "      <th>1000138</th>\n",
       "      <td>6040</td>\n",
       "      <td>858</td>\n",
       "      <td>4</td>\n",
       "      <td>956703932</td>\n",
       "      <td>167</td>\n",
       "      <td>0</td>\n",
       "    </tr>\n",
       "    <tr>\n",
       "      <th>999873</th>\n",
       "      <td>6040</td>\n",
       "      <td>593</td>\n",
       "      <td>5</td>\n",
       "      <td>956703954</td>\n",
       "      <td>167</td>\n",
       "      <td>1</td>\n",
       "    </tr>\n",
       "    <tr>\n",
       "      <th>1000007</th>\n",
       "      <td>6040</td>\n",
       "      <td>1961</td>\n",
       "      <td>4</td>\n",
       "      <td>956703977</td>\n",
       "      <td>167</td>\n",
       "      <td>2</td>\n",
       "    </tr>\n",
       "    <tr>\n",
       "      <th>999868</th>\n",
       "      <td>6040</td>\n",
       "      <td>573</td>\n",
       "      <td>4</td>\n",
       "      <td>956704056</td>\n",
       "      <td>167</td>\n",
       "      <td>3</td>\n",
       "    </tr>\n",
       "    <tr>\n",
       "      <th>1000155</th>\n",
       "      <td>6040</td>\n",
       "      <td>1734</td>\n",
       "      <td>2</td>\n",
       "      <td>956704081</td>\n",
       "      <td>167</td>\n",
       "      <td>4</td>\n",
       "    </tr>\n",
       "    <tr>\n",
       "      <th>999884</th>\n",
       "      <td>6040</td>\n",
       "      <td>912</td>\n",
       "      <td>5</td>\n",
       "      <td>956704191</td>\n",
       "      <td>167</td>\n",
       "      <td>5</td>\n",
       "    </tr>\n",
       "    <tr>\n",
       "      <th>1000186</th>\n",
       "      <td>6040</td>\n",
       "      <td>527</td>\n",
       "      <td>5</td>\n",
       "      <td>956704219</td>\n",
       "      <td>167</td>\n",
       "      <td>6</td>\n",
       "    </tr>\n",
       "    <tr>\n",
       "      <th>999953</th>\n",
       "      <td>6040</td>\n",
       "      <td>649</td>\n",
       "      <td>5</td>\n",
       "      <td>956704257</td>\n",
       "      <td>167</td>\n",
       "      <td>7</td>\n",
       "    </tr>\n",
       "    <tr>\n",
       "      <th>1000108</th>\n",
       "      <td>6040</td>\n",
       "      <td>3289</td>\n",
       "      <td>5</td>\n",
       "      <td>956704305</td>\n",
       "      <td>167</td>\n",
       "      <td>8</td>\n",
       "    </tr>\n",
       "    <tr>\n",
       "      <th>1000083</th>\n",
       "      <td>6040</td>\n",
       "      <td>759</td>\n",
       "      <td>5</td>\n",
       "      <td>956704448</td>\n",
       "      <td>167</td>\n",
       "      <td>9</td>\n",
       "    </tr>\n",
       "  </tbody>\n",
       "</table>\n",
       "</div>"
      ],
      "text/plain": [
       "         UserId  ItemId  Rating       Time  Session  item_idx\n",
       "1000138    6040     858       4  956703932      167         0\n",
       "999873     6040     593       5  956703954      167         1\n",
       "1000007    6040    1961       4  956703977      167         2\n",
       "999868     6040     573       4  956704056      167         3\n",
       "1000155    6040    1734       2  956704081      167         4\n",
       "999884     6040     912       5  956704191      167         5\n",
       "1000186    6040     527       5  956704219      167         6\n",
       "999953     6040     649       5  956704257      167         7\n",
       "1000108    6040    3289       5  956704305      167         8\n",
       "1000083    6040     759       5  956704448      167         9"
      ]
     },
     "execution_count": 37,
     "metadata": {},
     "output_type": "execute_result"
    }
   ],
   "source": [
    "tr_dataset = SessionDataset(tr)\n",
    "tr_dataset.df.head(10)"
   ]
  },
  {
   "cell_type": "code",
   "execution_count": 38,
   "id": "commercial-reconstruction",
   "metadata": {
    "scrolled": true
   },
   "outputs": [
    {
     "data": {
      "text/plain": [
       "array([     0,      2,     14,     70,    190,    425,    855,   1431,\n",
       "         1974,   2846,   3860,   5212,   6661,   8159,  10287,  12257,\n",
       "        14200,  16063,  18149,  20225,  22348,  23948,  25740,  27466,\n",
       "        29179,  30572,  32792,  34352,  36273,  37932,  39645,  41559,\n",
       "        43273,  45260,  47299,  48984,  50771,  53163,  54901,  56417,\n",
       "        58086,  59583,  60682,  62445,  64300,  66493,  68630,  70061,\n",
       "        71566,  73279,  75185,  76928,  78557,  79903,  82260,  84205,\n",
       "        85676,  87407,  89165,  91244,  92988,  94218,  95943,  96784,\n",
       "        98273,  99896, 100894, 102194, 103895, 105187, 106589, 108651,\n",
       "       110325, 111289, 112584, 114482, 116284, 118091, 119366, 121523,\n",
       "       122747, 123906, 125690, 127327, 128769, 129843, 131063, 132771,\n",
       "       134799, 136667, 137921, 139536, 141062, 142513, 143368, 144454,\n",
       "       145951, 147145, 148850, 149591, 151414, 152656, 153934, 154580,\n",
       "       155908, 157338, 158985, 159973, 161310, 162064, 163463, 164844,\n",
       "       166074, 166806, 168171, 169914, 171118, 172270, 173746, 175807,\n",
       "       177377, 178956, 179716, 180821, 182411, 183633, 184310, 185390,\n",
       "       186274, 186847, 187431, 188322, 188721, 189543, 191390, 191882,\n",
       "       193087, 194168, 195282, 196308, 197309, 198038, 199048, 199587,\n",
       "       200397, 201961, 202923, 203513, 204589, 205436, 206160, 206713,\n",
       "       208256, 209014, 209898, 211387, 212141, 213919, 214781, 216499,\n",
       "       217096, 218120, 218882, 219256, 220053, 221200, 222291, 222933,\n",
       "       223337, 224676, 225661, 227077, 228175, 229158, 230210, 231681,\n",
       "       232371, 233208, 233984, 235508, 236532, 236758, 237448, 238488,\n",
       "       239365, 240605, 241326, 242271, 242456, 243639, 243830, 244549,\n",
       "       245170, 246343, 247511, 247620, 248014, 248607, 249170, 249933,\n",
       "       250334, 250939, 251142, 251990, 252565, 253076, 254210, 254544,\n",
       "       255552, 256401, 257624, 257934, 258920, 259819, 261102, 261619,\n",
       "       262672, 263438, 264752, 265630, 266232, 266676, 267323, 267984,\n",
       "       268848, 269075, 269745, 270776, 271006, 271777, 272517, 273214,\n",
       "       273972, 274811, 275677, 275812, 277138, 277610, 277697, 278686,\n",
       "       279707, 280077, 281028, 282138, 282466, 283711, 284566, 284731,\n",
       "       285938, 286554, 287040, 287401, 288776, 289327, 290235, 290700,\n",
       "       291246, 291629, 292022, 292646, 293135, 293838, 295105, 295367,\n",
       "       295831, 296251, 296277, 297174, 297344, 298165, 298417, 299500,\n",
       "       300371, 300501, 300765, 301307, 301788, 302042, 302324, 302607,\n",
       "       303131, 303404, 303742, 304030, 305443, 306041, 306379, 306896,\n",
       "       307402, 307607, 307845, 308902, 309525, 309653, 309855, 310665,\n",
       "       310966, 311192, 312768, 313131, 314073, 314381, 315331, 315876,\n",
       "       316883, 317620, 318035, 318349, 318828, 319460, 319729, 319925,\n",
       "       320246, 320474, 320591, 320852, 321180, 321804, 322466, 322799,\n",
       "       323128, 323375, 323687, 323847, 323882, 324417, 325497, 325839,\n",
       "       326389, 326521, 326939, 327322, 327672, 327993, 328626, 329928,\n",
       "       330279, 330909, 330969, 331236, 331706, 332213, 332515, 332885,\n",
       "       333502, 333801, 334222, 334832, 335191, 335486, 336535, 336920,\n",
       "       337181, 337341, 338040, 338316, 338893, 339922, 340294, 340684,\n",
       "       341086, 341408, 341754, 342160, 342578, 342824, 343113, 343461,\n",
       "       344367, 344932, 345681, 346525, 346939, 347101, 347280, 348012,\n",
       "       348755, 349075, 349402, 350230, 350534, 351156, 351594, 351821,\n",
       "       352094, 352341, 352953, 353216, 353621, 353704, 354135, 354318,\n",
       "       354651, 355009, 355672, 356139, 356793, 357004, 357459, 357556,\n",
       "       357777, 358344, 358756, 359143, 359504, 359726, 360022, 360928,\n",
       "       360965, 361050, 361482, 361484, 362259, 362588, 362998, 363303,\n",
       "       363905, 364382, 364909, 365416, 365760, 366205, 366283, 366449,\n",
       "       366505], dtype=int32)"
      ]
     },
     "execution_count": 38,
     "metadata": {},
     "output_type": "execute_result"
    }
   ],
   "source": [
    "tr_dataset.click_offsets"
   ]
  },
  {
   "cell_type": "code",
   "execution_count": 39,
   "id": "fabulous-launch",
   "metadata": {},
   "outputs": [
    {
     "data": {
      "text/plain": [
       "array([  0,   1,   2,   3,   4,   5,   6,   7,   8,   9,  10,  11,  12,\n",
       "        13,  14,  15,  16,  17,  18,  19,  20,  21,  22,  23,  24,  25,\n",
       "        26,  27,  28,  29,  30,  31,  32,  33,  34,  35,  36,  37,  38,\n",
       "        39,  40,  41,  42,  43,  44,  45,  46,  47,  48,  49,  50,  51,\n",
       "        52,  53,  54,  55,  56,  57,  58,  59,  60,  61,  62,  63,  64,\n",
       "        65,  66,  67,  68,  69,  70,  71,  72,  73,  74,  75,  76,  77,\n",
       "        78,  79,  80,  81,  82,  83,  84,  85,  86,  87,  88,  89,  90,\n",
       "        91,  92,  93,  94,  95,  96,  97,  98,  99, 100, 101, 102, 103,\n",
       "       104, 105, 106, 107, 108, 109, 110, 111, 112, 113, 114, 115, 116,\n",
       "       117, 118, 119, 120, 121, 122, 123, 124, 125, 126, 127, 128, 129,\n",
       "       130, 131, 132, 133, 134, 135, 136, 137, 138, 139, 140, 141, 142,\n",
       "       143, 144, 145, 146, 147, 148, 149, 150, 151, 152, 153, 154, 155,\n",
       "       156, 157, 158, 159, 160, 161, 162, 163, 164, 165, 166, 167, 168,\n",
       "       169, 170, 171, 172, 173, 174, 175, 176, 177, 178, 179, 180, 181,\n",
       "       182, 183, 184, 185, 186, 187, 188, 189, 190, 191, 192, 193, 194,\n",
       "       195, 196, 197, 198, 199, 200, 201, 202, 203, 204, 205, 206, 207,\n",
       "       208, 209, 210, 211, 212, 213, 214, 215, 216, 217, 218, 219, 220,\n",
       "       221, 222, 223, 224, 225, 226, 227, 228, 229, 230, 231, 232, 233,\n",
       "       234, 235, 236, 237, 238, 239, 240, 241, 242, 243, 244, 245, 246,\n",
       "       247, 248, 249, 250, 251, 252, 253, 254, 255, 256, 257, 258, 259,\n",
       "       260, 261, 262, 263, 264, 265, 266, 267, 268, 269, 270, 271, 272,\n",
       "       273, 274, 275, 276, 277, 278, 279, 280, 281, 282, 283, 284, 285,\n",
       "       286, 287, 288, 289, 290, 291, 292, 293, 294, 295, 296, 297, 298,\n",
       "       299, 300, 301, 302, 303, 304, 305, 306, 307, 308, 309, 310, 311,\n",
       "       312, 313, 314, 315, 316, 317, 318, 319, 320, 321, 322, 323, 324,\n",
       "       325, 326, 327, 328, 329, 330, 331, 332, 333, 334, 335, 336, 337,\n",
       "       338, 339, 340, 341, 342, 343, 344, 345, 346, 347, 348, 349, 350,\n",
       "       351, 352, 353, 354, 355, 356, 357, 358, 359, 360, 361, 362, 363,\n",
       "       364, 365, 366, 367, 368, 369, 370, 371, 372, 373, 374, 375, 376,\n",
       "       377, 378, 379, 380, 381, 382, 383, 384, 385, 386, 387, 388, 389,\n",
       "       390, 391, 392, 393, 394, 395, 396, 397, 398, 399, 400, 401, 402,\n",
       "       403, 404, 405, 406, 407, 408, 409, 410, 411, 412, 413, 414, 415,\n",
       "       416, 417, 418, 419, 420, 421, 422, 423])"
      ]
     },
     "execution_count": 39,
     "metadata": {},
     "output_type": "execute_result"
    }
   ],
   "source": [
    "tr_dataset.session_idx"
   ]
  },
  {
   "cell_type": "markdown",
   "id": "second-surgeon",
   "metadata": {},
   "source": [
    "#### SessionDataLoader"
   ]
  },
  {
   "cell_type": "code",
   "execution_count": 40,
   "id": "toxic-cooper",
   "metadata": {},
   "outputs": [],
   "source": [
    "class SessionDataLoader:\n",
    "    \"\"\"Credit to yhs-968/pyGRU4REC.\"\"\"\n",
    "\n",
    "    def __init__(self, dataset: SessionDataset, batch_size=50):\n",
    "        self.dataset = dataset\n",
    "        self.batch_size = batch_size\n",
    "\n",
    "    def __iter__(self):\n",
    "        \"\"\" Returns the iterator for producing session-parallel training mini-batches.\n",
    "        Yields:\n",
    "            input (B,):  Item indices that will be encoded as one-hot vectors later.\n",
    "            target (B,): a Variable that stores the target item indices\n",
    "            masks: Numpy array indicating the positions of the sessions to be terminated\n",
    "        \"\"\"\n",
    "\n",
    "        start, end, mask, last_session, finished = self.initialize()  # initialize 메소드에서 확인해주세요.\n",
    "        \"\"\"\n",
    "        start : Index Where Session Start\n",
    "        end : Index Where Session End\n",
    "        mask : indicator for the sessions to be terminated\n",
    "        \"\"\"\n",
    "\n",
    "        while not finished:\n",
    "            min_len = (end - start).min() - 1  # Shortest Length Among Sessions\n",
    "            for i in range(min_len):\n",
    "                # Build inputs & targets\n",
    "                inp = self.dataset.df['item_idx'].values[start + i]\n",
    "                target = self.dataset.df['item_idx'].values[start + i + 1]\n",
    "                yield inp, target, mask\n",
    "\n",
    "            start, end, mask, last_session, finished = self.update_status(start, end, min_len, last_session, finished)\n",
    "\n",
    "    def initialize(self):\n",
    "        first_iters = np.arange(self.batch_size)    # 첫 배치에 사용할 세션 Index를 가져옵니다.\n",
    "        last_session = self.batch_size - 1    # 마지막으로 다루고 있는 세션 Index를 저장해둡니다.\n",
    "        start = self.dataset.click_offsets[self.dataset.session_idx[first_iters]]       # data 상에서 session이 시작된 위치를 가져옵니다.\n",
    "        end = self.dataset.click_offsets[self.dataset.session_idx[first_iters] + 1]  # session이 끝난 위치 바로 다음 위치를 가져옵니다.\n",
    "        mask = np.array([])   # session의 모든 아이템을 다 돌은 경우 mask에 추가해줄 것입니다.\n",
    "        finished = False         # data를 전부 돌았는지 기록하기 위한 변수입니다.\n",
    "        return start, end, mask, last_session, finished\n",
    "\n",
    "    def update_status(self, start: np.ndarray, end: np.ndarray, min_len: int, last_session: int, finished: bool):  \n",
    "        # 다음 배치 데이터를 생성하기 위해 상태를 update합니다.\n",
    "        \n",
    "        start += min_len   # __iter__에서 min_len 만큼 for문을 돌았으므로 start를 min_len 만큼 더해줍니다.\n",
    "        mask = np.arange(self.batch_size)[(end - start) == 1]  \n",
    "        # end는 다음 세션이 시작되는 위치인데 start와 한 칸 차이난다는 것은 session이 끝났다는 뜻입니다. mask에 기록해줍니다.\n",
    "\n",
    "        for i, idx in enumerate(mask, start=1):  # mask에 추가된 세션 개수만큼 새로운 세션을 돌것입니다.\n",
    "            new_session = last_session + i  \n",
    "            if new_session > self.dataset.session_idx[-1]:  # 만약 새로운 세션이 마지막 세션 index보다 크다면 모든 학습데이터를 돈 것입니다.\n",
    "                finished = True\n",
    "                break\n",
    "            # update the next starting/ending point\n",
    "            start[idx] = self.dataset.click_offsets[self.dataset.session_idx[new_session]]     # 종료된 세션 대신 새로운 세션의 시작점을 기록합니다.\n",
    "            end[idx] = self.dataset.click_offsets[self.dataset.session_idx[new_session] + 1]\n",
    "\n",
    "        last_session += len(mask)  # 마지막 세션의 위치를 기록해둡니다.\n",
    "        return start, end, mask, last_session, finished"
   ]
  },
  {
   "cell_type": "code",
   "execution_count": 41,
   "id": "heard-mexican",
   "metadata": {},
   "outputs": [
    {
     "data": {
      "text/html": [
       "<div>\n",
       "<style scoped>\n",
       "    .dataframe tbody tr th:only-of-type {\n",
       "        vertical-align: middle;\n",
       "    }\n",
       "\n",
       "    .dataframe tbody tr th {\n",
       "        vertical-align: top;\n",
       "    }\n",
       "\n",
       "    .dataframe thead th {\n",
       "        text-align: right;\n",
       "    }\n",
       "</style>\n",
       "<table border=\"1\" class=\"dataframe\">\n",
       "  <thead>\n",
       "    <tr style=\"text-align: right;\">\n",
       "      <th></th>\n",
       "      <th>UserId</th>\n",
       "      <th>ItemId</th>\n",
       "      <th>Rating</th>\n",
       "      <th>Time</th>\n",
       "      <th>Session</th>\n",
       "      <th>item_idx</th>\n",
       "    </tr>\n",
       "  </thead>\n",
       "  <tbody>\n",
       "    <tr>\n",
       "      <th>1000138</th>\n",
       "      <td>6040</td>\n",
       "      <td>858</td>\n",
       "      <td>4</td>\n",
       "      <td>956703932</td>\n",
       "      <td>167</td>\n",
       "      <td>0</td>\n",
       "    </tr>\n",
       "    <tr>\n",
       "      <th>999873</th>\n",
       "      <td>6040</td>\n",
       "      <td>593</td>\n",
       "      <td>5</td>\n",
       "      <td>956703954</td>\n",
       "      <td>167</td>\n",
       "      <td>1</td>\n",
       "    </tr>\n",
       "    <tr>\n",
       "      <th>1000007</th>\n",
       "      <td>6040</td>\n",
       "      <td>1961</td>\n",
       "      <td>4</td>\n",
       "      <td>956703977</td>\n",
       "      <td>167</td>\n",
       "      <td>2</td>\n",
       "    </tr>\n",
       "    <tr>\n",
       "      <th>999868</th>\n",
       "      <td>6040</td>\n",
       "      <td>573</td>\n",
       "      <td>4</td>\n",
       "      <td>956704056</td>\n",
       "      <td>167</td>\n",
       "      <td>3</td>\n",
       "    </tr>\n",
       "    <tr>\n",
       "      <th>1000155</th>\n",
       "      <td>6040</td>\n",
       "      <td>1734</td>\n",
       "      <td>2</td>\n",
       "      <td>956704081</td>\n",
       "      <td>167</td>\n",
       "      <td>4</td>\n",
       "    </tr>\n",
       "    <tr>\n",
       "      <th>999884</th>\n",
       "      <td>6040</td>\n",
       "      <td>912</td>\n",
       "      <td>5</td>\n",
       "      <td>956704191</td>\n",
       "      <td>167</td>\n",
       "      <td>5</td>\n",
       "    </tr>\n",
       "    <tr>\n",
       "      <th>1000186</th>\n",
       "      <td>6040</td>\n",
       "      <td>527</td>\n",
       "      <td>5</td>\n",
       "      <td>956704219</td>\n",
       "      <td>167</td>\n",
       "      <td>6</td>\n",
       "    </tr>\n",
       "    <tr>\n",
       "      <th>999953</th>\n",
       "      <td>6040</td>\n",
       "      <td>649</td>\n",
       "      <td>5</td>\n",
       "      <td>956704257</td>\n",
       "      <td>167</td>\n",
       "      <td>7</td>\n",
       "    </tr>\n",
       "    <tr>\n",
       "      <th>1000108</th>\n",
       "      <td>6040</td>\n",
       "      <td>3289</td>\n",
       "      <td>5</td>\n",
       "      <td>956704305</td>\n",
       "      <td>167</td>\n",
       "      <td>8</td>\n",
       "    </tr>\n",
       "    <tr>\n",
       "      <th>1000083</th>\n",
       "      <td>6040</td>\n",
       "      <td>759</td>\n",
       "      <td>5</td>\n",
       "      <td>956704448</td>\n",
       "      <td>167</td>\n",
       "      <td>9</td>\n",
       "    </tr>\n",
       "    <tr>\n",
       "      <th>999938</th>\n",
       "      <td>6040</td>\n",
       "      <td>2858</td>\n",
       "      <td>4</td>\n",
       "      <td>956704475</td>\n",
       "      <td>167</td>\n",
       "      <td>10</td>\n",
       "    </tr>\n",
       "    <tr>\n",
       "      <th>999992</th>\n",
       "      <td>6040</td>\n",
       "      <td>326</td>\n",
       "      <td>4</td>\n",
       "      <td>956704519</td>\n",
       "      <td>167</td>\n",
       "      <td>11</td>\n",
       "    </tr>\n",
       "    <tr>\n",
       "      <th>999999</th>\n",
       "      <td>6040</td>\n",
       "      <td>17</td>\n",
       "      <td>3</td>\n",
       "      <td>956704584</td>\n",
       "      <td>167</td>\n",
       "      <td>12</td>\n",
       "    </tr>\n",
       "    <tr>\n",
       "      <th>999925</th>\n",
       "      <td>6040</td>\n",
       "      <td>246</td>\n",
       "      <td>5</td>\n",
       "      <td>956704613</td>\n",
       "      <td>167</td>\n",
       "      <td>13</td>\n",
       "    </tr>\n",
       "    <tr>\n",
       "      <th>1000115</th>\n",
       "      <td>6040</td>\n",
       "      <td>2692</td>\n",
       "      <td>4</td>\n",
       "      <td>956704656</td>\n",
       "      <td>167</td>\n",
       "      <td>14</td>\n",
       "    </tr>\n",
       "  </tbody>\n",
       "</table>\n",
       "</div>"
      ],
      "text/plain": [
       "         UserId  ItemId  Rating       Time  Session  item_idx\n",
       "1000138    6040     858       4  956703932      167         0\n",
       "999873     6040     593       5  956703954      167         1\n",
       "1000007    6040    1961       4  956703977      167         2\n",
       "999868     6040     573       4  956704056      167         3\n",
       "1000155    6040    1734       2  956704081      167         4\n",
       "999884     6040     912       5  956704191      167         5\n",
       "1000186    6040     527       5  956704219      167         6\n",
       "999953     6040     649       5  956704257      167         7\n",
       "1000108    6040    3289       5  956704305      167         8\n",
       "1000083    6040     759       5  956704448      167         9\n",
       "999938     6040    2858       4  956704475      167        10\n",
       "999992     6040     326       4  956704519      167        11\n",
       "999999     6040      17       3  956704584      167        12\n",
       "999925     6040     246       5  956704613      167        13\n",
       "1000115    6040    2692       4  956704656      167        14"
      ]
     },
     "execution_count": 41,
     "metadata": {},
     "output_type": "execute_result"
    }
   ],
   "source": [
    "tr_data_loader = SessionDataLoader(tr_dataset, batch_size=4)\n",
    "tr_dataset.df.head(15)"
   ]
  },
  {
   "cell_type": "code",
   "execution_count": 42,
   "id": "artificial-durham",
   "metadata": {},
   "outputs": [],
   "source": [
    "iter_ex = iter(tr_data_loader)"
   ]
  },
  {
   "cell_type": "code",
   "execution_count": 43,
   "id": "portuguese-norfolk",
   "metadata": {},
   "outputs": [
    {
     "name": "stdout",
     "output_type": "stream",
     "text": [
      "Model Input Item Idx are : [ 0  2 14 70]\n",
      "Label Item Idx are :       [ 1  3 15 71]\n",
      "Previous Masked Input Idx are []\n"
     ]
    }
   ],
   "source": [
    "inputs, labels, mask =  next(iter_ex)\n",
    "print(f'Model Input Item Idx are : {inputs}')\n",
    "print(f'Label Item Idx are : {\"\":5} {labels}')\n",
    "print(f'Previous Masked Input Idx are {mask}')"
   ]
  },
  {
   "cell_type": "markdown",
   "id": "spread-charge",
   "metadata": {},
   "source": [
    "### 3. Modeling"
   ]
  },
  {
   "cell_type": "code",
   "execution_count": 44,
   "id": "stock-suggestion",
   "metadata": {},
   "outputs": [],
   "source": [
    "def mrr_k(pred, truth: int, k: int):\n",
    "    indexing = np.where(pred[:k] == truth)[0]\n",
    "    if len(indexing) > 0:\n",
    "        return 1 / (indexing[0] + 1)\n",
    "    else:\n",
    "        return 0\n",
    "\n",
    "\n",
    "def recall_k(pred, truth: int, k: int) -> int:\n",
    "    answer = truth in pred[:k]\n",
    "    return int(answer)"
   ]
  },
  {
   "cell_type": "code",
   "execution_count": 45,
   "id": "surface-vessel",
   "metadata": {},
   "outputs": [],
   "source": [
    "import numpy as np\n",
    "import tensorflow as tf\n",
    "from tensorflow.keras.layers import Input, Dense, Dropout, GRU\n",
    "from tensorflow.keras.losses import categorical_crossentropy\n",
    "from tensorflow.keras.models import Model\n",
    "from tensorflow.keras.optimizers import Adam\n",
    "from tensorflow.keras.utils import to_categorical\n",
    "from tqdm import tqdm"
   ]
  },
  {
   "cell_type": "code",
   "execution_count": 46,
   "id": "grateful-johns",
   "metadata": {},
   "outputs": [],
   "source": [
    "def create_model(args):\n",
    "    inputs = Input(batch_shape=(args.batch_size, 1, args.num_items))\n",
    "    gru, _ = GRU(args.hsz, stateful=True, return_state=True, name='GRU')(inputs)\n",
    "    dropout = Dropout(args.drop_rate)(gru)\n",
    "    predictions = Dense(args.num_items, activation='softmax')(dropout)\n",
    "    model = Model(inputs=inputs, outputs=[predictions])\n",
    "    model.compile(loss=categorical_crossentropy, optimizer=Adam(args.lr), metrics=['accuracy'])\n",
    "    model.summary()\n",
    "    return model"
   ]
  },
  {
   "cell_type": "code",
   "execution_count": 47,
   "id": "legal-nickname",
   "metadata": {},
   "outputs": [],
   "source": [
    "class Args:\n",
    "    def __init__(self, tr, val, test, batch_size, hsz, drop_rate, lr, epochs, k):\n",
    "        self.tr = tr\n",
    "        self.val = val\n",
    "        self.test = test\n",
    "        self.num_items = tr['ItemId'].nunique()\n",
    "        self.num_sessions = tr['Session'].nunique()\n",
    "        self.batch_size = batch_size\n",
    "        self.hsz = hsz\n",
    "        self.drop_rate = drop_rate\n",
    "        self.lr = lr\n",
    "        self.epochs = epochs\n",
    "        self.k = k\n",
    "\n",
    "args = Args(tr, val, test, batch_size=2048, hsz=50, drop_rate=0.1, lr=0.001, epochs=3, k=20)"
   ]
  },
  {
   "cell_type": "code",
   "execution_count": 48,
   "id": "limiting-governor",
   "metadata": {
    "scrolled": true
   },
   "outputs": [
    {
     "name": "stdout",
     "output_type": "stream",
     "text": [
      "Model: \"model\"\n",
      "_________________________________________________________________\n",
      "Layer (type)                 Output Shape              Param #   \n",
      "=================================================================\n",
      "input_1 (InputLayer)         [(2048, 1, 3357)]         0         \n",
      "_________________________________________________________________\n",
      "GRU (GRU)                    [(2048, 50), (2048, 50)]  511350    \n",
      "_________________________________________________________________\n",
      "dropout (Dropout)            (2048, 50)                0         \n",
      "_________________________________________________________________\n",
      "dense (Dense)                (2048, 3357)              171207    \n",
      "=================================================================\n",
      "Total params: 682,557\n",
      "Trainable params: 682,557\n",
      "Non-trainable params: 0\n",
      "_________________________________________________________________\n"
     ]
    }
   ],
   "source": [
    "model = create_model(args)"
   ]
  },
  {
   "cell_type": "markdown",
   "id": "final-acrylic",
   "metadata": {},
   "source": [
    "### 4. Model Training"
   ]
  },
  {
   "cell_type": "code",
   "execution_count": 49,
   "id": "spanish-petroleum",
   "metadata": {},
   "outputs": [],
   "source": [
    "# train 셋으로 학습하면서 valid 셋으로 검증합니다.\n",
    "def train_model(model, args):\n",
    "    train_dataset = SessionDataset(args.tr)\n",
    "    train_loader = SessionDataLoader(train_dataset, batch_size=args.batch_size)\n",
    "\n",
    "    for epoch in range(1, args.epochs + 1):\n",
    "        total_step = len(args.tr) - args.tr['Session'].nunique()\n",
    "        tr_loader = tqdm(train_loader, total=total_step // args.batch_size, desc='Train', mininterval=1)\n",
    "        for feat, target, mask in tr_loader:\n",
    "            reset_hidden_states(model, mask)  # 종료된 session은 hidden_state를 초기화합니다. 아래 메서드에서 확인해주세요.\n",
    "\n",
    "            input_ohe = to_categorical(feat, num_classes=args.num_items)\n",
    "            input_ohe = np.expand_dims(input_ohe, axis=1)\n",
    "            target_ohe = to_categorical(target, num_classes=args.num_items)\n",
    "\n",
    "            result = model.train_on_batch(input_ohe, target_ohe)\n",
    "            tr_loader.set_postfix(train_loss=result[0], accuracy = result[1])\n",
    "\n",
    "        val_recall, val_mrr = get_metrics(args.val, model, args, args.k)  # valid set에 대해 검증합니다.\n",
    "\n",
    "        print(f\"\\t - Recall@{args.k} epoch {epoch}: {val_recall:3f}\")\n",
    "        print(f\"\\t - MRR@{args.k}    epoch {epoch}: {val_mrr:3f}\\n\")\n",
    "\n",
    "\n",
    "def reset_hidden_states(model, mask):\n",
    "    gru_layer = model.get_layer(name='GRU')  # model에서 gru layer를 가져옵니다.\n",
    "    hidden_states = gru_layer.states[0].numpy()  # gru_layer의 parameter를 가져옵니다.\n",
    "    for elt in mask:  # mask된 인덱스 즉, 종료된 세션의 인덱스를 돌면서\n",
    "        hidden_states[elt, :] = 0  # parameter를 초기화 합니다.\n",
    "    gru_layer.reset_states(states=hidden_states)\n",
    "\n",
    "\n",
    "def get_metrics(data, model, args, k: int):  # valid셋과 test셋을 평가하는 코드입니다. \n",
    "                                             # train과 거의 같지만 mrr, recall을 구하는 라인이 있습니다.\n",
    "    dataset = SessionDataset(data)\n",
    "    loader = SessionDataLoader(dataset, batch_size=args.batch_size)\n",
    "    recall_list, mrr_list = [], []\n",
    "\n",
    "    total_step = len(data) - data['Session'].nunique()\n",
    "    for inputs, label, mask in tqdm(loader, total=total_step // args.batch_size, desc='Evaluation', mininterval=1):\n",
    "        reset_hidden_states(model, mask)\n",
    "        input_ohe = to_categorical(inputs, num_classes=args.num_items)\n",
    "        input_ohe = np.expand_dims(input_ohe, axis=1)\n",
    "\n",
    "        pred = model.predict(input_ohe, batch_size=args.batch_size)\n",
    "        pred_arg = tf.argsort(pred, direction='DESCENDING')  # softmax 값이 큰 순서대로 sorting 합니다.\n",
    "\n",
    "        length = len(inputs)\n",
    "        recall_list.extend([recall_k(pred_arg[i], label[i], k) for i in range(length)])\n",
    "        mrr_list.extend([mrr_k(pred_arg[i], label[i], k) for i in range(length)])\n",
    "\n",
    "    recall, mrr = np.mean(recall_list), np.mean(mrr_list)\n",
    "    return recall, mrr"
   ]
  },
  {
   "cell_type": "code",
   "execution_count": null,
   "id": "therapeutic-bennett",
   "metadata": {},
   "outputs": [],
   "source": [
    "train_model(model, args)"
   ]
  },
  {
   "cell_type": "markdown",
   "id": "aware-evidence",
   "metadata": {},
   "source": [
    "#### Test model 결과 확인"
   ]
  },
  {
   "cell_type": "code",
   "execution_count": null,
   "id": "urban-quest",
   "metadata": {},
   "outputs": [],
   "source": [
    "def test_model(model, args, test):\n",
    "    test_recall, test_mrr = get_metrics(test, model, args, 20)\n",
    "    print(f\"\\t - Recall@{args.k}: {test_recall:3f}\")\n",
    "    print(f\"\\t - MRR@{args.k}: {test_mrr:3f}\\n\")\n",
    "\n",
    "test_model(model, args, test)"
   ]
  },
  {
   "cell_type": "markdown",
   "id": "located-virgin",
   "metadata": {},
   "source": [
    "### 5. 회고"
   ]
  },
  {
   "cell_type": "markdown",
   "id": "frank-variety",
   "metadata": {},
   "source": [
    "* 결론적으로 이번 노드의 코드 진행 방식에 대해 데이터 전처리 이후의 상당부분 이해를 하지 못했다.\n",
    "* 지금까지의 다른 노드의 경우에는 두세번 반복하면 코드의 흐름을 따라가기에 충분할 정도로 이해되었고, 따라서 직접 작성하고 수정 해 가면서 진행하는 것이 가능했는데 이번에는 아무리 여러번 보려고 해도 그 흐름이 전혀 잡히질 않았다. 긴 시간을 투자해서 한줄씩 코딩해가며 확인하면 이해가 될 수도 있겠지만, 당장 현실적으로 다른 과제들을 미뤄두고 여기에만 시간을 투자하기에는 힘들다고 생각되어 이쯤에서 마무리 하고 나중에 시간적인 제약이 없을 때 다시 보기로 결정했다.\n",
    "* 따라서 결과에 대해서는 회고를 작성할 수 없지만, 데이터와 코드를 보면서 느낀점, 생각한 점에 대해 적어보겠다.\n",
    "* 일단 노드의 과제는 유저별로 관람한 영화에대한 정보가 데이터로 존재하는 상황에서, 이 유저에게 성향에 맞춘 적절한 다음 영화를 추천하는 것이 목표이었다.\n",
    "* 개인적으로 추천이 이뤄지는 방식은 상당히 간단하다고 생각된다. 먼저 각 영화들 마다 고유 id가 itemId의 형태로 존재하는데, 각 유저들별로 가지고 있는 itemId 값들을 list로 만들어 저장해 둔다.\n",
    "* 그리고 list의 값들을 sorting 한 뒤에 model을 이용해 어떤순서로 itemId가 배치 되어있는지 train set을 이용해 학습 시킨다.\n",
    "* 그 다음 test 값이 들어왔을 때 해당 test값의 itemId를 확인하고, 다음에 올 itemId를 학습결과를 토대로 추천하는 것으로 마무리 된다.\n",
    "* 예를 들자면 train set 이 [1, 2, 3], [2, 3, 4], [1, 3, 5] 라고 학습이 된 상태에서 test 값으로 2가 들어온다면 3을 추천하고 3이 들어온다면 4 or 5를 추천하는 식으로 진행될 것이다.\n",
    "* 추가적으로 rating를 이용해보자면, itemId와 rating 정보를 함께 학습을 시킨 뒤 추천하고자 하는 영화를 3개 정도 선별한 뒤에 rating 값을 확인하여 rating이 1, 2 라면 그 다음 영화를 추천하고 선별한 세 영화 모두 rating이 낮다면 다시 선별하는 식으로 진행 할 수 있을 것 같다.\n",
    "* 그리고 이 방식을 사용하기 위해서는 총 평가 인원 수가 상당히 낮은 영화라던가, 한 편만 평가를 한 유저등에 대한 정보는 모델 학습에 도움이 되지않을 것이기 때문에 모두 제거하고 하나의 아이디로 동시간에 여러개의 평가가 진행 된 데이터들도 신뢰할 수 없다고 생각되기 때문에 역시 제거 해줄 필요가 있다.\n",
    "* 결론적으로 이런 과제에서 우리가 원하는 수준의 추천 정확도를 얻기 위해서는 개인적으로는 모델 자체의 성능개선(parameter 조절 등) 보다 데이터 전처리와 데이터의 양이 중요하다고 생각된다.\n",
    "* 현재 본인의 실력으로는 이런 과제들에 적용해볼 수 있는 다양한 생각들이 있어도 이 모두를 실제 코드로 구현하는게 상당히 쉽지가 않은 것이 사실이다. 앞으로도 많은 노력이 필요할 것이라 생각된다."
   ]
  }
 ],
 "metadata": {
  "kernelspec": {
   "display_name": "Python 3",
   "language": "python",
   "name": "python3"
  },
  "language_info": {
   "codemirror_mode": {
    "name": "ipython",
    "version": 3
   },
   "file_extension": ".py",
   "mimetype": "text/x-python",
   "name": "python",
   "nbconvert_exporter": "python",
   "pygments_lexer": "ipython3",
   "version": "3.7.9"
  }
 },
 "nbformat": 4,
 "nbformat_minor": 5
}
