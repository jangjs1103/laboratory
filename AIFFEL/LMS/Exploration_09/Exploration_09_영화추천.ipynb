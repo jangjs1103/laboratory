{
 "cells": [
  {
   "cell_type": "markdown",
   "id": "silver-montana",
   "metadata": {},
   "source": [
    "## Exploration_09_영화추천\n",
    "1. 파일 불러오기, 전처리\n",
    "2. CSR matrix 형성\n",
    "3. MF model 훈련\n",
    "4. 추천영화 확인\n",
    "5. 회고"
   ]
  },
  {
   "cell_type": "markdown",
   "id": "modified-trauma",
   "metadata": {},
   "source": [
    "### Step 1. 파일 불러오기  & 데이터 전처리"
   ]
  },
  {
   "cell_type": "code",
   "execution_count": 63,
   "id": "placed-retail",
   "metadata": {},
   "outputs": [
    {
     "data": {
      "text/html": [
       "<div>\n",
       "<style scoped>\n",
       "    .dataframe tbody tr th:only-of-type {\n",
       "        vertical-align: middle;\n",
       "    }\n",
       "\n",
       "    .dataframe tbody tr th {\n",
       "        vertical-align: top;\n",
       "    }\n",
       "\n",
       "    .dataframe thead th {\n",
       "        text-align: right;\n",
       "    }\n",
       "</style>\n",
       "<table border=\"1\" class=\"dataframe\">\n",
       "  <thead>\n",
       "    <tr style=\"text-align: right;\">\n",
       "      <th></th>\n",
       "      <th>user_id</th>\n",
       "      <th>movie_id</th>\n",
       "      <th>rating</th>\n",
       "      <th>timestamp</th>\n",
       "    </tr>\n",
       "  </thead>\n",
       "  <tbody>\n",
       "    <tr>\n",
       "      <th>0</th>\n",
       "      <td>1</td>\n",
       "      <td>1193</td>\n",
       "      <td>5</td>\n",
       "      <td>978300760</td>\n",
       "    </tr>\n",
       "    <tr>\n",
       "      <th>1</th>\n",
       "      <td>1</td>\n",
       "      <td>661</td>\n",
       "      <td>3</td>\n",
       "      <td>978302109</td>\n",
       "    </tr>\n",
       "    <tr>\n",
       "      <th>2</th>\n",
       "      <td>1</td>\n",
       "      <td>914</td>\n",
       "      <td>3</td>\n",
       "      <td>978301968</td>\n",
       "    </tr>\n",
       "    <tr>\n",
       "      <th>3</th>\n",
       "      <td>1</td>\n",
       "      <td>3408</td>\n",
       "      <td>4</td>\n",
       "      <td>978300275</td>\n",
       "    </tr>\n",
       "    <tr>\n",
       "      <th>4</th>\n",
       "      <td>1</td>\n",
       "      <td>2355</td>\n",
       "      <td>5</td>\n",
       "      <td>978824291</td>\n",
       "    </tr>\n",
       "  </tbody>\n",
       "</table>\n",
       "</div>"
      ],
      "text/plain": [
       "   user_id  movie_id  rating  timestamp\n",
       "0        1      1193       5  978300760\n",
       "1        1       661       3  978302109\n",
       "2        1       914       3  978301968\n",
       "3        1      3408       4  978300275\n",
       "4        1      2355       5  978824291"
      ]
     },
     "execution_count": 63,
     "metadata": {},
     "output_type": "execute_result"
    }
   ],
   "source": [
    "import os\n",
    "import pandas as pd\n",
    "\n",
    "rating_file_path=os.getenv('HOME') + '/aiffel/recommendata_iu/data/ml-1m/ratings.dat'\n",
    "ratings_cols = ['user_id', 'movie_id', 'rating', 'timestamp']\n",
    "ratings = pd.read_csv(rating_file_path, sep='::', names=ratings_cols, engine='python', encoding = \"ISO-8859-1\")\n",
    "orginal_data_size = len(ratings)\n",
    "ratings.head()"
   ]
  },
  {
   "cell_type": "code",
   "execution_count": 64,
   "id": "cutting-timing",
   "metadata": {},
   "outputs": [
    {
     "name": "stdout",
     "output_type": "stream",
     "text": [
      "orginal_data_size: 1000209, filtered_data_size: 836478\n",
      "Ratio of Remaining Data is 83.63%\n"
     ]
    }
   ],
   "source": [
    "# 3점 이상만 남깁니다.\n",
    "ratings = ratings[ratings['rating']>=3]\n",
    "filtered_data_size = len(ratings)\n",
    "\n",
    "print(f'orginal_data_size: {orginal_data_size}, filtered_data_size: {filtered_data_size}')\n",
    "print(f'Ratio of Remaining Data is {filtered_data_size / orginal_data_size:.2%}')"
   ]
  },
  {
   "cell_type": "code",
   "execution_count": 65,
   "id": "registered-champion",
   "metadata": {},
   "outputs": [],
   "source": [
    "# rating 컬럼의 이름을 counts로 바꿉니다.\n",
    "ratings.rename(columns={'rating':'counts'}, inplace=True)"
   ]
  },
  {
   "cell_type": "code",
   "execution_count": 66,
   "id": "unsigned-burton",
   "metadata": {
    "scrolled": false
   },
   "outputs": [
    {
     "data": {
      "text/plain": [
       "0          5\n",
       "1          3\n",
       "2          3\n",
       "3          4\n",
       "4          5\n",
       "          ..\n",
       "1000203    3\n",
       "1000205    5\n",
       "1000206    5\n",
       "1000207    4\n",
       "1000208    4\n",
       "Name: counts, Length: 836478, dtype: int64"
      ]
     },
     "execution_count": 66,
     "metadata": {},
     "output_type": "execute_result"
    }
   ],
   "source": [
    "ratings['counts']"
   ]
  },
  {
   "cell_type": "markdown",
   "id": "destroyed-gasoline",
   "metadata": {},
   "source": [
    "* column 이름을 'count'로 할 경우 뒤에서 dataframe 자체 method인 'count'가 호출 되기 때문에 'counts'로 변경한다."
   ]
  },
  {
   "cell_type": "code",
   "execution_count": 67,
   "id": "assisted-announcement",
   "metadata": {},
   "outputs": [
    {
     "data": {
      "text/html": [
       "<div>\n",
       "<style scoped>\n",
       "    .dataframe tbody tr th:only-of-type {\n",
       "        vertical-align: middle;\n",
       "    }\n",
       "\n",
       "    .dataframe tbody tr th {\n",
       "        vertical-align: top;\n",
       "    }\n",
       "\n",
       "    .dataframe thead th {\n",
       "        text-align: right;\n",
       "    }\n",
       "</style>\n",
       "<table border=\"1\" class=\"dataframe\">\n",
       "  <thead>\n",
       "    <tr style=\"text-align: right;\">\n",
       "      <th></th>\n",
       "      <th>movie_id</th>\n",
       "      <th>title</th>\n",
       "      <th>genre</th>\n",
       "    </tr>\n",
       "  </thead>\n",
       "  <tbody>\n",
       "    <tr>\n",
       "      <th>0</th>\n",
       "      <td>1</td>\n",
       "      <td>Toy Story (1995)</td>\n",
       "      <td>Animation|Children's|Comedy</td>\n",
       "    </tr>\n",
       "    <tr>\n",
       "      <th>1</th>\n",
       "      <td>2</td>\n",
       "      <td>Jumanji (1995)</td>\n",
       "      <td>Adventure|Children's|Fantasy</td>\n",
       "    </tr>\n",
       "    <tr>\n",
       "      <th>2</th>\n",
       "      <td>3</td>\n",
       "      <td>Grumpier Old Men (1995)</td>\n",
       "      <td>Comedy|Romance</td>\n",
       "    </tr>\n",
       "    <tr>\n",
       "      <th>3</th>\n",
       "      <td>4</td>\n",
       "      <td>Waiting to Exhale (1995)</td>\n",
       "      <td>Comedy|Drama</td>\n",
       "    </tr>\n",
       "    <tr>\n",
       "      <th>4</th>\n",
       "      <td>5</td>\n",
       "      <td>Father of the Bride Part II (1995)</td>\n",
       "      <td>Comedy</td>\n",
       "    </tr>\n",
       "  </tbody>\n",
       "</table>\n",
       "</div>"
      ],
      "text/plain": [
       "   movie_id                               title                         genre\n",
       "0         1                    Toy Story (1995)   Animation|Children's|Comedy\n",
       "1         2                      Jumanji (1995)  Adventure|Children's|Fantasy\n",
       "2         3             Grumpier Old Men (1995)                Comedy|Romance\n",
       "3         4            Waiting to Exhale (1995)                  Comedy|Drama\n",
       "4         5  Father of the Bride Part II (1995)                        Comedy"
      ]
     },
     "execution_count": 67,
     "metadata": {},
     "output_type": "execute_result"
    }
   ],
   "source": [
    "# 영화 제목을 보기 위해 메타 데이터를 읽어옵니다.\n",
    "movie_file_path=os.getenv('HOME') + '/aiffel/recommendata_iu/data/ml-1m/movies.dat'\n",
    "cols = ['movie_id', 'title', 'genre'] \n",
    "movies = pd.read_csv(movie_file_path, sep='::', names=cols, engine='python', encoding='ISO-8859-1')\n",
    "movies.head()"
   ]
  },
  {
   "cell_type": "code",
   "execution_count": 68,
   "id": "graduate-spokesman",
   "metadata": {
    "scrolled": true
   },
   "outputs": [
    {
     "data": {
      "text/html": [
       "<div>\n",
       "<style scoped>\n",
       "    .dataframe tbody tr th:only-of-type {\n",
       "        vertical-align: middle;\n",
       "    }\n",
       "\n",
       "    .dataframe tbody tr th {\n",
       "        vertical-align: top;\n",
       "    }\n",
       "\n",
       "    .dataframe thead th {\n",
       "        text-align: right;\n",
       "    }\n",
       "</style>\n",
       "<table border=\"1\" class=\"dataframe\">\n",
       "  <thead>\n",
       "    <tr style=\"text-align: right;\">\n",
       "      <th></th>\n",
       "      <th>movie_id</th>\n",
       "      <th>title</th>\n",
       "      <th>genre</th>\n",
       "    </tr>\n",
       "  </thead>\n",
       "  <tbody>\n",
       "    <tr>\n",
       "      <th>0</th>\n",
       "      <td>1</td>\n",
       "      <td>toy story (1995)</td>\n",
       "      <td>animation|children's|comedy</td>\n",
       "    </tr>\n",
       "    <tr>\n",
       "      <th>1</th>\n",
       "      <td>2</td>\n",
       "      <td>jumanji (1995)</td>\n",
       "      <td>adventure|children's|fantasy</td>\n",
       "    </tr>\n",
       "    <tr>\n",
       "      <th>2</th>\n",
       "      <td>3</td>\n",
       "      <td>grumpier old men (1995)</td>\n",
       "      <td>comedy|romance</td>\n",
       "    </tr>\n",
       "    <tr>\n",
       "      <th>3</th>\n",
       "      <td>4</td>\n",
       "      <td>waiting to exhale (1995)</td>\n",
       "      <td>comedy|drama</td>\n",
       "    </tr>\n",
       "    <tr>\n",
       "      <th>4</th>\n",
       "      <td>5</td>\n",
       "      <td>father of the bride part ii (1995)</td>\n",
       "      <td>comedy</td>\n",
       "    </tr>\n",
       "    <tr>\n",
       "      <th>5</th>\n",
       "      <td>6</td>\n",
       "      <td>heat (1995)</td>\n",
       "      <td>action|crime|thriller</td>\n",
       "    </tr>\n",
       "    <tr>\n",
       "      <th>6</th>\n",
       "      <td>7</td>\n",
       "      <td>sabrina (1995)</td>\n",
       "      <td>comedy|romance</td>\n",
       "    </tr>\n",
       "    <tr>\n",
       "      <th>7</th>\n",
       "      <td>8</td>\n",
       "      <td>tom and huck (1995)</td>\n",
       "      <td>adventure|children's</td>\n",
       "    </tr>\n",
       "    <tr>\n",
       "      <th>8</th>\n",
       "      <td>9</td>\n",
       "      <td>sudden death (1995)</td>\n",
       "      <td>action</td>\n",
       "    </tr>\n",
       "    <tr>\n",
       "      <th>9</th>\n",
       "      <td>10</td>\n",
       "      <td>goldeneye (1995)</td>\n",
       "      <td>action|adventure|thriller</td>\n",
       "    </tr>\n",
       "  </tbody>\n",
       "</table>\n",
       "</div>"
      ],
      "text/plain": [
       "   movie_id                               title                         genre\n",
       "0         1                    toy story (1995)   animation|children's|comedy\n",
       "1         2                      jumanji (1995)  adventure|children's|fantasy\n",
       "2         3             grumpier old men (1995)                comedy|romance\n",
       "3         4            waiting to exhale (1995)                  comedy|drama\n",
       "4         5  father of the bride part ii (1995)                        comedy\n",
       "5         6                         heat (1995)         action|crime|thriller\n",
       "6         7                      sabrina (1995)                comedy|romance\n",
       "7         8                 tom and huck (1995)          adventure|children's\n",
       "8         9                 sudden death (1995)                        action\n",
       "9        10                    goldeneye (1995)     action|adventure|thriller"
      ]
     },
     "execution_count": 68,
     "metadata": {},
     "output_type": "execute_result"
    }
   ],
   "source": [
    "# title, genre 소문자로 변경\n",
    "movies['title'] = movies['title'].str.lower() \n",
    "movies['genre'] = movies['genre'].str.lower() \n",
    "movies.head(10)"
   ]
  },
  {
   "cell_type": "markdown",
   "id": "hungry-republican",
   "metadata": {},
   "source": [
    "* 소문자 처리 등 간단한 전처리들을 완료"
   ]
  },
  {
   "cell_type": "code",
   "execution_count": 69,
   "id": "laughing-monitor",
   "metadata": {},
   "outputs": [],
   "source": [
    "# movies 와 ratings merge\n",
    "movies_mer = pd.merge(movies, ratings, how='inner', on='movie_id')\n",
    "movies_mer.drop(['timestamp'], axis=1, inplace=True)"
   ]
  },
  {
   "cell_type": "code",
   "execution_count": 70,
   "id": "charming-journalist",
   "metadata": {},
   "outputs": [
    {
     "data": {
      "text/html": [
       "<div>\n",
       "<style scoped>\n",
       "    .dataframe tbody tr th:only-of-type {\n",
       "        vertical-align: middle;\n",
       "    }\n",
       "\n",
       "    .dataframe tbody tr th {\n",
       "        vertical-align: top;\n",
       "    }\n",
       "\n",
       "    .dataframe thead th {\n",
       "        text-align: right;\n",
       "    }\n",
       "</style>\n",
       "<table border=\"1\" class=\"dataframe\">\n",
       "  <thead>\n",
       "    <tr style=\"text-align: right;\">\n",
       "      <th></th>\n",
       "      <th>movie_id</th>\n",
       "      <th>title</th>\n",
       "      <th>genre</th>\n",
       "      <th>user_id</th>\n",
       "      <th>counts</th>\n",
       "    </tr>\n",
       "  </thead>\n",
       "  <tbody>\n",
       "    <tr>\n",
       "      <th>0</th>\n",
       "      <td>1</td>\n",
       "      <td>toy story (1995)</td>\n",
       "      <td>animation|children's|comedy</td>\n",
       "      <td>1</td>\n",
       "      <td>5</td>\n",
       "    </tr>\n",
       "    <tr>\n",
       "      <th>1</th>\n",
       "      <td>1</td>\n",
       "      <td>toy story (1995)</td>\n",
       "      <td>animation|children's|comedy</td>\n",
       "      <td>6</td>\n",
       "      <td>4</td>\n",
       "    </tr>\n",
       "    <tr>\n",
       "      <th>2</th>\n",
       "      <td>1</td>\n",
       "      <td>toy story (1995)</td>\n",
       "      <td>animation|children's|comedy</td>\n",
       "      <td>8</td>\n",
       "      <td>4</td>\n",
       "    </tr>\n",
       "    <tr>\n",
       "      <th>3</th>\n",
       "      <td>1</td>\n",
       "      <td>toy story (1995)</td>\n",
       "      <td>animation|children's|comedy</td>\n",
       "      <td>9</td>\n",
       "      <td>5</td>\n",
       "    </tr>\n",
       "    <tr>\n",
       "      <th>4</th>\n",
       "      <td>1</td>\n",
       "      <td>toy story (1995)</td>\n",
       "      <td>animation|children's|comedy</td>\n",
       "      <td>10</td>\n",
       "      <td>5</td>\n",
       "    </tr>\n",
       "  </tbody>\n",
       "</table>\n",
       "</div>"
      ],
      "text/plain": [
       "   movie_id             title                        genre  user_id  counts\n",
       "0         1  toy story (1995)  animation|children's|comedy        1       5\n",
       "1         1  toy story (1995)  animation|children's|comedy        6       4\n",
       "2         1  toy story (1995)  animation|children's|comedy        8       4\n",
       "3         1  toy story (1995)  animation|children's|comedy        9       5\n",
       "4         1  toy story (1995)  animation|children's|comedy       10       5"
      ]
     },
     "execution_count": 70,
     "metadata": {},
     "output_type": "execute_result"
    }
   ],
   "source": [
    "movies_mer.head()"
   ]
  },
  {
   "cell_type": "markdown",
   "id": "colored-logic",
   "metadata": {},
   "source": [
    "* 좀더 간단화 하기 위해 'movies', 'ratings' dataframe을 'movie_id'를 기준으로 합친다."
   ]
  },
  {
   "cell_type": "code",
   "execution_count": 71,
   "id": "wrapped-quality",
   "metadata": {},
   "outputs": [
    {
     "data": {
      "text/plain": [
       "6039"
      ]
     },
     "execution_count": 71,
     "metadata": {},
     "output_type": "execute_result"
    }
   ],
   "source": [
    "# 유저 수\n",
    "movies_mer['user_id'].nunique()"
   ]
  },
  {
   "cell_type": "code",
   "execution_count": 72,
   "id": "moderate-hybrid",
   "metadata": {},
   "outputs": [
    {
     "data": {
      "text/plain": [
       "3883"
      ]
     },
     "execution_count": 72,
     "metadata": {},
     "output_type": "execute_result"
    }
   ],
   "source": [
    "# 영화 수\n",
    "movies['title'].nunique()"
   ]
  },
  {
   "cell_type": "code",
   "execution_count": 73,
   "id": "above-climate",
   "metadata": {},
   "outputs": [
    {
     "data": {
      "text/plain": [
       "title\n",
       "american beauty (1999)                                   3211\n",
       "star wars: episode iv - a new hope (1977)                2910\n",
       "star wars: episode v - the empire strikes back (1980)    2885\n",
       "star wars: episode vi - return of the jedi (1983)        2716\n",
       "saving private ryan (1998)                               2561\n",
       "terminator 2: judgment day (1991)                        2509\n",
       "silence of the lambs, the (1991)                         2498\n",
       "raiders of the lost ark (1981)                           2473\n",
       "back to the future (1985)                                2460\n",
       "matrix, the (1999)                                       2434\n",
       "Name: user_id, dtype: int64"
      ]
     },
     "execution_count": 73,
     "metadata": {},
     "output_type": "execute_result"
    }
   ],
   "source": [
    "# 인기 많은 영화\n",
    "movie_count = movies_mer.groupby('title')['user_id'].count()\n",
    "movie_count.sort_values(ascending=False).head(10)"
   ]
  },
  {
   "cell_type": "code",
   "execution_count": 74,
   "id": "interracial-given",
   "metadata": {
    "scrolled": true
   },
   "outputs": [
    {
     "data": {
      "text/plain": [
       "count    6039.000000\n",
       "mean      138.512668\n",
       "std       156.241599\n",
       "min         1.000000\n",
       "25%        38.000000\n",
       "50%        81.000000\n",
       "75%       177.000000\n",
       "max      1968.000000\n",
       "Name: title, dtype: float64"
      ]
     },
     "execution_count": 74,
     "metadata": {},
     "output_type": "execute_result"
    }
   ],
   "source": [
    "# 유저별 몇 개의 영화를 보고 있는지\n",
    "user_count = movies_mer.groupby('user_id')['title'].count()\n",
    "user_count.describe()"
   ]
  },
  {
   "cell_type": "markdown",
   "id": "excited-overall",
   "metadata": {},
   "source": [
    "* 유저 수, 영화 수 등의 정보에 대한 수치를 직접 확인"
   ]
  },
  {
   "cell_type": "code",
   "execution_count": 75,
   "id": "dutch-postcard",
   "metadata": {},
   "outputs": [
    {
     "data": {
      "text/html": [
       "<div>\n",
       "<style scoped>\n",
       "    .dataframe tbody tr th:only-of-type {\n",
       "        vertical-align: middle;\n",
       "    }\n",
       "\n",
       "    .dataframe tbody tr th {\n",
       "        vertical-align: top;\n",
       "    }\n",
       "\n",
       "    .dataframe thead th {\n",
       "        text-align: right;\n",
       "    }\n",
       "</style>\n",
       "<table border=\"1\" class=\"dataframe\">\n",
       "  <thead>\n",
       "    <tr style=\"text-align: right;\">\n",
       "      <th></th>\n",
       "      <th>movie_id</th>\n",
       "      <th>title</th>\n",
       "      <th>genre</th>\n",
       "      <th>user_id</th>\n",
       "      <th>counts</th>\n",
       "    </tr>\n",
       "  </thead>\n",
       "  <tbody>\n",
       "    <tr>\n",
       "      <th>836473</th>\n",
       "      <td>3952</td>\n",
       "      <td>contender, the (2000)</td>\n",
       "      <td>drama|thriller</td>\n",
       "      <td>5682</td>\n",
       "      <td>3</td>\n",
       "    </tr>\n",
       "    <tr>\n",
       "      <th>836474</th>\n",
       "      <td>3952</td>\n",
       "      <td>contender, the (2000)</td>\n",
       "      <td>drama|thriller</td>\n",
       "      <td>5812</td>\n",
       "      <td>4</td>\n",
       "    </tr>\n",
       "    <tr>\n",
       "      <th>836475</th>\n",
       "      <td>3952</td>\n",
       "      <td>contender, the (2000)</td>\n",
       "      <td>drama|thriller</td>\n",
       "      <td>5831</td>\n",
       "      <td>3</td>\n",
       "    </tr>\n",
       "    <tr>\n",
       "      <th>836476</th>\n",
       "      <td>3952</td>\n",
       "      <td>contender, the (2000)</td>\n",
       "      <td>drama|thriller</td>\n",
       "      <td>5837</td>\n",
       "      <td>4</td>\n",
       "    </tr>\n",
       "    <tr>\n",
       "      <th>836477</th>\n",
       "      <td>3952</td>\n",
       "      <td>contender, the (2000)</td>\n",
       "      <td>drama|thriller</td>\n",
       "      <td>5998</td>\n",
       "      <td>4</td>\n",
       "    </tr>\n",
       "    <tr>\n",
       "      <th>0</th>\n",
       "      <td>1</td>\n",
       "      <td>toy story (1995)</td>\n",
       "      <td>animation|children's|comedy</td>\n",
       "      <td>jason</td>\n",
       "      <td>4</td>\n",
       "    </tr>\n",
       "    <tr>\n",
       "      <th>1</th>\n",
       "      <td>2</td>\n",
       "      <td>jumanji (1995)</td>\n",
       "      <td>Adventure|Children's|Fantasy</td>\n",
       "      <td>jason</td>\n",
       "      <td>5</td>\n",
       "    </tr>\n",
       "    <tr>\n",
       "      <th>2</th>\n",
       "      <td>7</td>\n",
       "      <td>sabrina (1995)</td>\n",
       "      <td>comedy|romance</td>\n",
       "      <td>jason</td>\n",
       "      <td>4</td>\n",
       "    </tr>\n",
       "    <tr>\n",
       "      <th>3</th>\n",
       "      <td>5</td>\n",
       "      <td>Father of the Bride Part II (1995)</td>\n",
       "      <td>comedy</td>\n",
       "      <td>jason</td>\n",
       "      <td>4</td>\n",
       "    </tr>\n",
       "    <tr>\n",
       "      <th>4</th>\n",
       "      <td>3</td>\n",
       "      <td>grumpier old men (1995)</td>\n",
       "      <td>comedy|romance</td>\n",
       "      <td>jason</td>\n",
       "      <td>5</td>\n",
       "    </tr>\n",
       "  </tbody>\n",
       "</table>\n",
       "</div>"
      ],
      "text/plain": [
       "        movie_id                               title  \\\n",
       "836473      3952               contender, the (2000)   \n",
       "836474      3952               contender, the (2000)   \n",
       "836475      3952               contender, the (2000)   \n",
       "836476      3952               contender, the (2000)   \n",
       "836477      3952               contender, the (2000)   \n",
       "0              1                    toy story (1995)   \n",
       "1              2                      jumanji (1995)   \n",
       "2              7                      sabrina (1995)   \n",
       "3              5  Father of the Bride Part II (1995)   \n",
       "4              3             grumpier old men (1995)   \n",
       "\n",
       "                               genre user_id  counts  \n",
       "836473                drama|thriller    5682       3  \n",
       "836474                drama|thriller    5812       4  \n",
       "836475                drama|thriller    5831       3  \n",
       "836476                drama|thriller    5837       4  \n",
       "836477                drama|thriller    5998       4  \n",
       "0        animation|children's|comedy   jason       4  \n",
       "1       Adventure|Children's|Fantasy   jason       5  \n",
       "2                     comedy|romance   jason       4  \n",
       "3                             comedy   jason       4  \n",
       "4                     comedy|romance   jason       5  "
      ]
     },
     "execution_count": 75,
     "metadata": {},
     "output_type": "execute_result"
    }
   ],
   "source": [
    "# 본인이 좋아하시는 아티스트 데이터로 바꿔서 추가하셔도 됩니다! 단, 이름은 꼭 데이터셋에 있는 것과 동일하게 맞춰주세요. \n",
    "my_favorite = ['toy story (1995)' , 'jumanji (1995)' ,'sabrina (1995)', 'Father of the Bride Part II (1995)', 'grumpier old men (1995)']\n",
    "my_genre = ['animation|children\\'s|comedy', 'Adventure|Children\\'s|Fantasy', 'comedy|romance', 'comedy', 'comedy|romance']\n",
    "\n",
    "# 'zimin'이라는 user_id가 위 아티스트의 노래를 30회씩 들었다고 가정하겠습니다.\n",
    "my_movielist = pd.DataFrame({'user_id': ['jason']*5, 'title': my_favorite, 'genre': my_genre, 'movie_id': [1, 2, 7, 5, 3], 'counts':[4, 5, 4, 4, 5]})\n",
    "\n",
    "if not movies_mer.isin({'user_id': ['jason']})['user_id'].any():  # 본인 user_id 를 '9999' 로 임시 설정\n",
    "    movies_mer = movies_mer.append(my_movielist) \n",
    "\n",
    "movies_mer.tail(10)       # 잘 추가되었는지 확인해 봅시다."
   ]
  },
  {
   "cell_type": "code",
   "execution_count": 76,
   "id": "forced-thailand",
   "metadata": {},
   "outputs": [],
   "source": [
    "# 고유한 영화제목, 장르를 찾아내는 코드\n",
    "genre_unique = movies_mer['genre'].unique()\n",
    "title_unique = movies_mer['title'].unique()\n",
    "id_unique = movies_mer['user_id'].unique()\n",
    "\n",
    "genre_to_idx = {v:k for k,v in enumerate(genre_unique)}\n",
    "title_to_idx = {v:k for k,v in enumerate(title_unique)}\n",
    "id_to_idx = {v:k for k,v in enumerate(id_unique)}"
   ]
  },
  {
   "cell_type": "code",
   "execution_count": 77,
   "id": "discrete-honor",
   "metadata": {},
   "outputs": [
    {
     "name": "stdout",
     "output_type": "stream",
     "text": [
      "4\n",
      "1\n",
      "6039\n"
     ]
    }
   ],
   "source": [
    "# 인덱싱이 잘 되었는지 확인해 봅니다. \n",
    "print(genre_to_idx['comedy'])\n",
    "print(title_to_idx['jumanji (1995)'])\n",
    "print(id_to_idx['jason'])"
   ]
  },
  {
   "cell_type": "code",
   "execution_count": 78,
   "id": "automated-invite",
   "metadata": {},
   "outputs": [
    {
     "name": "stdout",
     "output_type": "stream",
     "text": [
      "user_id column indexing OK!!\n",
      "genre column indexing OK!!\n",
      "title column indexing OK!!\n"
     ]
    },
    {
     "data": {
      "text/html": [
       "<div>\n",
       "<style scoped>\n",
       "    .dataframe tbody tr th:only-of-type {\n",
       "        vertical-align: middle;\n",
       "    }\n",
       "\n",
       "    .dataframe tbody tr th {\n",
       "        vertical-align: top;\n",
       "    }\n",
       "\n",
       "    .dataframe thead th {\n",
       "        text-align: right;\n",
       "    }\n",
       "</style>\n",
       "<table border=\"1\" class=\"dataframe\">\n",
       "  <thead>\n",
       "    <tr style=\"text-align: right;\">\n",
       "      <th></th>\n",
       "      <th>movie_id</th>\n",
       "      <th>title</th>\n",
       "      <th>genre</th>\n",
       "      <th>user_id</th>\n",
       "      <th>counts</th>\n",
       "    </tr>\n",
       "  </thead>\n",
       "  <tbody>\n",
       "    <tr>\n",
       "      <th>0</th>\n",
       "      <td>1</td>\n",
       "      <td>0</td>\n",
       "      <td>0</td>\n",
       "      <td>0</td>\n",
       "      <td>5</td>\n",
       "    </tr>\n",
       "    <tr>\n",
       "      <th>1</th>\n",
       "      <td>1</td>\n",
       "      <td>0</td>\n",
       "      <td>0</td>\n",
       "      <td>1</td>\n",
       "      <td>4</td>\n",
       "    </tr>\n",
       "    <tr>\n",
       "      <th>2</th>\n",
       "      <td>1</td>\n",
       "      <td>0</td>\n",
       "      <td>0</td>\n",
       "      <td>2</td>\n",
       "      <td>4</td>\n",
       "    </tr>\n",
       "    <tr>\n",
       "      <th>3</th>\n",
       "      <td>1</td>\n",
       "      <td>0</td>\n",
       "      <td>0</td>\n",
       "      <td>3</td>\n",
       "      <td>5</td>\n",
       "    </tr>\n",
       "    <tr>\n",
       "      <th>4</th>\n",
       "      <td>1</td>\n",
       "      <td>0</td>\n",
       "      <td>0</td>\n",
       "      <td>4</td>\n",
       "      <td>5</td>\n",
       "    </tr>\n",
       "    <tr>\n",
       "      <th>...</th>\n",
       "      <td>...</td>\n",
       "      <td>...</td>\n",
       "      <td>...</td>\n",
       "      <td>...</td>\n",
       "      <td>...</td>\n",
       "    </tr>\n",
       "    <tr>\n",
       "      <th>0</th>\n",
       "      <td>1</td>\n",
       "      <td>0</td>\n",
       "      <td>0</td>\n",
       "      <td>6039</td>\n",
       "      <td>4</td>\n",
       "    </tr>\n",
       "    <tr>\n",
       "      <th>1</th>\n",
       "      <td>2</td>\n",
       "      <td>1</td>\n",
       "      <td>301</td>\n",
       "      <td>6039</td>\n",
       "      <td>5</td>\n",
       "    </tr>\n",
       "    <tr>\n",
       "      <th>2</th>\n",
       "      <td>7</td>\n",
       "      <td>6</td>\n",
       "      <td>2</td>\n",
       "      <td>6039</td>\n",
       "      <td>4</td>\n",
       "    </tr>\n",
       "    <tr>\n",
       "      <th>3</th>\n",
       "      <td>5</td>\n",
       "      <td>3628</td>\n",
       "      <td>4</td>\n",
       "      <td>6039</td>\n",
       "      <td>4</td>\n",
       "    </tr>\n",
       "    <tr>\n",
       "      <th>4</th>\n",
       "      <td>3</td>\n",
       "      <td>2</td>\n",
       "      <td>2</td>\n",
       "      <td>6039</td>\n",
       "      <td>5</td>\n",
       "    </tr>\n",
       "  </tbody>\n",
       "</table>\n",
       "<p>836483 rows × 5 columns</p>\n",
       "</div>"
      ],
      "text/plain": [
       "    movie_id  title  genre  user_id  counts\n",
       "0          1      0      0        0       5\n",
       "1          1      0      0        1       4\n",
       "2          1      0      0        2       4\n",
       "3          1      0      0        3       5\n",
       "4          1      0      0        4       5\n",
       "..       ...    ...    ...      ...     ...\n",
       "0          1      0      0     6039       4\n",
       "1          2      1    301     6039       5\n",
       "2          7      6      2     6039       4\n",
       "3          5   3628      4     6039       4\n",
       "4          3      2      2     6039       5\n",
       "\n",
       "[836483 rows x 5 columns]"
      ]
     },
     "execution_count": 78,
     "metadata": {},
     "output_type": "execute_result"
    }
   ],
   "source": [
    "# indexing을 통해 데이터 컬럼 내 값을 바꾸는 코드\n",
    "# dictionary 자료형의 get 함수는 https://wikidocs.net/16 을 참고하세요.\n",
    "\n",
    "# user_id to index\n",
    "temp_id_data = movies_mer['user_id'].map(id_to_idx.get).dropna() # 변환 되지 않은 NaN 제거\n",
    "if len(temp_id_data) == len(movies_mer):   # 모든 row가 정상적으로 인덱싱되었다면\n",
    "    print('user_id column indexing OK!!')\n",
    "    movies_mer['user_id'] = temp_id_data   # indexing 된 genre data로 입력\n",
    "else:\n",
    "    print('user_id column indexing Fail!!')\n",
    "\n",
    "# genre to index\n",
    "temp_genre_data = movies_mer['genre'].map(genre_to_idx.get).dropna() # 변환 되지 않은 NaN 제거\n",
    "if len(temp_genre_data) == len(movies_mer):   # 모든 row가 정상적으로 인덱싱되었다면\n",
    "    print('genre column indexing OK!!')\n",
    "    movies_mer['genre'] = temp_genre_data   # indexing 된 genre data로 입력\n",
    "else:\n",
    "    print('genre column indexing Fail!!')\n",
    "\n",
    "# title to index\n",
    "temp_title_data = movies_mer['title'].map(title_to_idx.get).dropna()\n",
    "if len(temp_title_data) == len(movies_mer):\n",
    "    print('title column indexing OK!!')\n",
    "    movies_mer['title'] = temp_title_data\n",
    "else:\n",
    "    print('title column indexing Fail!!')\n",
    "\n",
    "movies_mer"
   ]
  },
  {
   "cell_type": "markdown",
   "id": "imperial-efficiency",
   "metadata": {},
   "source": [
    "### Step 2. CSR matrix 형성"
   ]
  },
  {
   "cell_type": "code",
   "execution_count": 79,
   "id": "lightweight-indication",
   "metadata": {},
   "outputs": [
    {
     "data": {
      "text/plain": [
       "<6040x3629 sparse matrix of type '<class 'numpy.longlong'>'\n",
       "\twith 836483 stored elements in Compressed Sparse Row format>"
      ]
     },
     "execution_count": 79,
     "metadata": {},
     "output_type": "execute_result"
    }
   ],
   "source": [
    "# to CSR matrix\n",
    "from scipy.sparse import csr_matrix\n",
    "\n",
    "num_user = movies_mer['user_id'].nunique()\n",
    "num_title = movies_mer['title'].nunique()\n",
    "\n",
    "csr_data = csr_matrix((movies_mer.counts, (movies_mer.user_id, movies_mer.title)), shape=(num_user, num_title))\n",
    "csr_data"
   ]
  },
  {
   "cell_type": "markdown",
   "id": "bound-genome",
   "metadata": {},
   "source": [
    "* 위에서 설명한 대로 'movies_mer.count' 를 사용시 count method를 호출하기 때문에 'counts'로 column 명을 바꿔주었다."
   ]
  },
  {
   "cell_type": "markdown",
   "id": "formed-listing",
   "metadata": {},
   "source": [
    "### Step 3. Model Fitting"
   ]
  },
  {
   "cell_type": "code",
   "execution_count": 80,
   "id": "facial-aggregate",
   "metadata": {},
   "outputs": [],
   "source": [
    "from implicit.als import AlternatingLeastSquares\n",
    "import os\n",
    "import numpy as np\n",
    "\n",
    "# implicit 라이브러리에서 권장하고 있는 부분입니다. 학습 내용과는 무관합니다.\n",
    "os.environ['OPENBLAS_NUM_THREADS']='1'\n",
    "os.environ['KMP_DUPLICATE_LIB_OK']='True'\n",
    "os.environ['MKL_NUM_THREADS']='1'\n",
    "\n",
    "# Implicit AlternatingLeastSquares 모델의 선언\n",
    "als_model = AlternatingLeastSquares(factors=100, regularization=0.01, use_gpu=False, iterations=15, dtype=np.float32)"
   ]
  },
  {
   "cell_type": "code",
   "execution_count": 81,
   "id": "normal-aberdeen",
   "metadata": {},
   "outputs": [
    {
     "data": {
      "text/plain": [
       "<3629x6040 sparse matrix of type '<class 'numpy.longlong'>'\n",
       "\twith 836483 stored elements in Compressed Sparse Column format>"
      ]
     },
     "execution_count": 81,
     "metadata": {},
     "output_type": "execute_result"
    }
   ],
   "source": [
    "# als 모델은 input으로 (item X user 꼴의 matrix를 받기 때문에 Transpose해줍니다.)\n",
    "csr_data_transpose = csr_data.T\n",
    "csr_data_transpose"
   ]
  },
  {
   "cell_type": "code",
   "execution_count": 82,
   "id": "potential-uncertainty",
   "metadata": {},
   "outputs": [
    {
     "data": {
      "application/vnd.jupyter.widget-view+json": {
       "model_id": "10fc45632878409d827a1c314da84688",
       "version_major": 2,
       "version_minor": 0
      },
      "text/plain": [
       "  0%|          | 0/15 [00:00<?, ?it/s]"
      ]
     },
     "metadata": {},
     "output_type": "display_data"
    }
   ],
   "source": [
    "# 모델 훈련\n",
    "als_model.fit(csr_data_transpose)"
   ]
  },
  {
   "cell_type": "code",
   "execution_count": 83,
   "id": "classified-biography",
   "metadata": {},
   "outputs": [
    {
     "name": "stdout",
     "output_type": "stream",
     "text": [
      "Done\n"
     ]
    }
   ],
   "source": [
    "jason, toy_story = id_to_idx['jason'], title_to_idx['toy story (1995)']\n",
    "jason_vector, toy_story_vector = als_model.user_factors[jason], als_model.item_factors[toy_story]\n",
    "\n",
    "print('Done')"
   ]
  },
  {
   "cell_type": "code",
   "execution_count": 84,
   "id": "mexican-spirit",
   "metadata": {},
   "outputs": [
    {
     "data": {
      "text/plain": [
       "array([ 0.68963206,  0.05963608,  0.1359798 ,  0.44446045,  0.39936262,\n",
       "       -0.16899644, -0.04499798,  1.0706142 , -0.6229414 ,  0.15867403,\n",
       "       -0.63311195, -0.18573625,  0.7607227 , -0.2575649 ,  0.04069348,\n",
       "        0.2214195 ,  0.47968552, -0.04893998,  0.2962481 , -0.2482972 ,\n",
       "       -0.22799024,  0.08100133, -0.26683727, -0.18607163, -0.19530055,\n",
       "       -0.28465608, -0.22816858,  0.08700449,  0.5151899 , -0.5024421 ,\n",
       "        0.07418741, -0.29951644, -0.25652447, -0.5737436 ,  0.32531226,\n",
       "        0.5963507 , -0.14890464, -0.19199914, -0.05773946,  0.15742846,\n",
       "        0.219191  ,  0.4785472 ,  0.49645463,  0.20399366, -0.4184186 ,\n",
       "       -0.12576488, -0.3948794 ,  0.927468  , -0.4948874 , -0.27289513,\n",
       "       -0.63683033, -0.10821484, -0.15749149,  0.22186464,  0.13578814,\n",
       "        0.22762264,  0.23794511,  0.11025166,  0.7154567 ,  0.11926684,\n",
       "        0.16099125,  0.40636355,  0.2907196 ,  0.06150615,  0.02852562,\n",
       "       -0.03093946,  0.2676144 , -0.2701607 , -0.27308503, -0.01003606,\n",
       "       -0.49431515,  0.46723217,  0.02254632,  0.07130837, -0.07082117,\n",
       "       -0.31331864,  0.83661264, -0.6128103 , -0.12048878, -0.31037757,\n",
       "       -0.27424535,  0.04313963,  0.04577677, -0.39001316, -0.14669067,\n",
       "        0.03148711, -0.33970028,  0.284528  , -0.22584465,  0.35723868,\n",
       "        0.39241302, -0.3666108 , -0.75889057, -0.39168394,  0.01412949,\n",
       "        0.149124  , -0.12919149, -0.01021563,  0.03742942,  0.6616045 ],\n",
       "      dtype=float32)"
      ]
     },
     "execution_count": 84,
     "metadata": {},
     "output_type": "execute_result"
    }
   ],
   "source": [
    "jason_vector"
   ]
  },
  {
   "cell_type": "code",
   "execution_count": 85,
   "id": "later-dating",
   "metadata": {},
   "outputs": [
    {
     "data": {
      "text/plain": [
       "array([ 0.03328296,  0.00751261,  0.0226194 ,  0.00396802,  0.02972207,\n",
       "        0.00100285, -0.01581656,  0.03153069, -0.02892608,  0.0156072 ,\n",
       "       -0.00338922, -0.00268193,  0.01664031, -0.01304582, -0.01840759,\n",
       "        0.00552248,  0.03273223, -0.01864478, -0.00351506,  0.00555818,\n",
       "       -0.01696168,  0.01568446, -0.02597936, -0.01026447, -0.04129355,\n",
       "       -0.00118053,  0.0217074 , -0.00838505,  0.02583338, -0.02673255,\n",
       "       -0.00503372,  0.0083062 ,  0.01925418, -0.01099021, -0.00754062,\n",
       "        0.05192791, -0.00613574,  0.00015603,  0.02111957,  0.01839323,\n",
       "        0.01044573,  0.008836  ,  0.01451371, -0.00982899, -0.0128245 ,\n",
       "        0.00421465, -0.01269462,  0.02626009, -0.0252354 ,  0.00606487,\n",
       "        0.01974913,  0.0138822 , -0.00425232,  0.01091912, -0.00401266,\n",
       "        0.00815268, -0.01022989,  0.00022818,  0.00633867,  0.0150246 ,\n",
       "        0.00780436,  0.01471304,  0.00490452,  0.02964201, -0.00023032,\n",
       "        0.00698937,  0.00967686,  0.00720331, -0.01118897,  0.0213373 ,\n",
       "       -0.00767635,  0.01340122, -0.01030968,  0.00222586,  0.03116013,\n",
       "        0.02657408,  0.04789696,  0.01012059,  0.00370595,  0.00633419,\n",
       "       -0.02988192, -0.03384245, -0.00686194, -0.00756377,  0.03914037,\n",
       "        0.00369636, -0.0100017 ,  0.02091214, -0.00751993, -0.00165544,\n",
       "        0.03576633,  0.02316139, -0.03002831, -0.02131055,  0.00087094,\n",
       "        0.02423645, -0.00570774, -0.00318858,  0.02575305,  0.05179285],\n",
       "      dtype=float32)"
      ]
     },
     "execution_count": 85,
     "metadata": {},
     "output_type": "execute_result"
    }
   ],
   "source": [
    "toy_story_vector"
   ]
  },
  {
   "cell_type": "code",
   "execution_count": 86,
   "id": "persistent-armstrong",
   "metadata": {},
   "outputs": [
    {
     "data": {
      "text/plain": [
       "0.387409"
      ]
     },
     "execution_count": 86,
     "metadata": {},
     "output_type": "execute_result"
    }
   ],
   "source": [
    "# jason, toy_story 의 내적\n",
    "np.dot(jason_vector, toy_story_vector)"
   ]
  },
  {
   "cell_type": "markdown",
   "id": "transsexual-religion",
   "metadata": {},
   "source": [
    "* parameter 수정이 필요해 보인다. 1에 가까운 값이 나올 수록 학습이 잘 된 상태이다."
   ]
  },
  {
   "cell_type": "code",
   "execution_count": 87,
   "id": "average-quick",
   "metadata": {},
   "outputs": [],
   "source": [
    "# factors : dimensions\n",
    "# iterations : epochs\n",
    "als_model = AlternatingLeastSquares(factors=300, regularization=0.01, use_gpu=False,\\\n",
    "                                    iterations=100, dtype=np.float32, random_state=1)"
   ]
  },
  {
   "cell_type": "code",
   "execution_count": 88,
   "id": "precious-technician",
   "metadata": {},
   "outputs": [
    {
     "data": {
      "application/vnd.jupyter.widget-view+json": {
       "model_id": "a58aa298eb284d85a6bdd35ca1bad1f5",
       "version_major": 2,
       "version_minor": 0
      },
      "text/plain": [
       "  0%|          | 0/100 [00:00<?, ?it/s]"
      ]
     },
     "metadata": {},
     "output_type": "display_data"
    }
   ],
   "source": [
    "als_model.fit(csr_data_transpose)"
   ]
  },
  {
   "cell_type": "code",
   "execution_count": 89,
   "id": "desirable-living",
   "metadata": {},
   "outputs": [
    {
     "data": {
      "text/plain": [
       "0.81195277"
      ]
     },
     "execution_count": 89,
     "metadata": {},
     "output_type": "execute_result"
    }
   ],
   "source": [
    "# vector\n",
    "jason, toy_story = id_to_idx['jason'], title_to_idx['toy story (1995)']\n",
    "jason_vector, toy_story_vector = als_model.user_factors[jason], als_model.item_factors[toy_story]\n",
    "# 내적\n",
    "np.dot(jason_vector, toy_story_vector)"
   ]
  },
  {
   "cell_type": "markdown",
   "id": "impaired-engine",
   "metadata": {},
   "source": [
    "* 위와 같이 parameter를 수정하여 학습 정확도를 두 배 이상 높였다.\n",
    "* facotrs = 100 -> 300 / iterations = 15 -> 100"
   ]
  },
  {
   "cell_type": "markdown",
   "id": "boring-provider",
   "metadata": {},
   "source": [
    "### Step 4. 추천 영화 확인\n",
    "#### 임의의 영화에 대한 추천 확인"
   ]
  },
  {
   "cell_type": "code",
   "execution_count": 90,
   "id": "original-refrigerator",
   "metadata": {},
   "outputs": [
    {
     "data": {
      "text/plain": [
       "[(5, 1.0),\n",
       " (2040, 0.32934695),\n",
       " (536, 0.29997572),\n",
       " (456, 0.22667809),\n",
       " (475, 0.22064647),\n",
       " (1805, 0.2097218),\n",
       " (615, 0.19549933),\n",
       " (2841, 0.19296962),\n",
       " (1694, 0.19289695),\n",
       " (1838, 0.18993272),\n",
       " (612, 0.18811993),\n",
       " (2150, 0.1876023),\n",
       " (1995, 0.18596213),\n",
       " (413, 0.18368265),\n",
       " (117, 0.1836744)]"
      ]
     },
     "execution_count": 90,
     "metadata": {},
     "output_type": "execute_result"
    }
   ],
   "source": [
    "# 좋아하는 영화와 비슷한 영화 추천\n",
    "favorite_movie = 'heat (1995)'\n",
    "movie_id = title_to_idx[favorite_movie]\n",
    "similar_artist = als_model.similar_items(movie_id, N=15)\n",
    "similar_artist"
   ]
  },
  {
   "cell_type": "code",
   "execution_count": 91,
   "id": "ceramic-finger",
   "metadata": {},
   "outputs": [
    {
     "data": {
      "text/plain": [
       "['heat (1995)',\n",
       " 'ronin (1998)',\n",
       " 'true romance (1993)',\n",
       " 'in the line of fire (1993)',\n",
       " 'menace ii society (1993)',\n",
       " 'godfather: part iii, the (1990)',\n",
       " 'peanuts - die bank zahlt alles (1996)',\n",
       " 'country (1984)',\n",
       " 'out of sight (1998)',\n",
       " 'negotiator, the (1998)',\n",
       " 'jack and sarah (1995)',\n",
       " 'simple plan, a (1998)',\n",
       " 'blackmail (1929)',\n",
       " \"carlito's way (1993)\",\n",
       " 'boomerang (1992)']"
      ]
     },
     "execution_count": 91,
     "metadata": {},
     "output_type": "execute_result"
    }
   ],
   "source": [
    "#artist_to_idx 를 뒤집어, index로부터 artist 이름을 얻는 dict를 생성합니다. \n",
    "idx_to_movie = {v:k for k,v in title_to_idx.items()}\n",
    "[idx_to_movie[i[0]] for i in similar_artist]"
   ]
  },
  {
   "cell_type": "code",
   "execution_count": 92,
   "id": "august-optimum",
   "metadata": {},
   "outputs": [
    {
     "name": "stdout",
     "output_type": "stream",
     "text": [
      "Done!\n"
     ]
    }
   ],
   "source": [
    "def get_similar_movie(movie_name: str):\n",
    "    movie_id = title_to_idx[movie_name]\n",
    "    similar_artist = als_model.similar_items(movie_id)\n",
    "    similar_artist = [idx_to_movie[i[0]] for i in similar_artist]\n",
    "    return similar_artist\n",
    "\n",
    "print('Done!')"
   ]
  },
  {
   "cell_type": "code",
   "execution_count": 93,
   "id": "upper-german",
   "metadata": {},
   "outputs": [
    {
     "data": {
      "text/plain": [
       "['heat (1995)',\n",
       " 'ronin (1998)',\n",
       " 'true romance (1993)',\n",
       " 'in the line of fire (1993)',\n",
       " 'menace ii society (1993)',\n",
       " 'godfather: part iii, the (1990)',\n",
       " 'peanuts - die bank zahlt alles (1996)',\n",
       " 'country (1984)',\n",
       " 'out of sight (1998)',\n",
       " 'negotiator, the (1998)']"
      ]
     },
     "execution_count": 93,
     "metadata": {},
     "output_type": "execute_result"
    }
   ],
   "source": [
    "get_similar_movie('heat (1995)')"
   ]
  },
  {
   "cell_type": "markdown",
   "id": "fresh-prayer",
   "metadata": {},
   "source": [
    "* 함수가 제대로 작동하는지 보기 위해 함수로 만들기 전과 후의 결과를 비교해 봤더니 동일하게 작동하는 것을 알 수 있었다."
   ]
  },
  {
   "cell_type": "markdown",
   "id": "outstanding-producer",
   "metadata": {},
   "source": [
    "#### 사용자에 따른 추천 영화 확인"
   ]
  },
  {
   "cell_type": "code",
   "execution_count": 94,
   "id": "radio-philip",
   "metadata": {
    "scrolled": true
   },
   "outputs": [
    {
     "data": {
      "text/plain": [
       "[(3151, 0.35236084),\n",
       " (2845, 0.27510774),\n",
       " (521, 0.18542396),\n",
       " (58, 0.18290064),\n",
       " (622, 0.17402616),\n",
       " (2183, 0.1576846),\n",
       " (1391, 0.15252556),\n",
       " (1677, 0.14521061),\n",
       " (687, 0.14075509),\n",
       " (985, 0.13176525),\n",
       " (1266, 0.13093568),\n",
       " (2506, 0.1288254),\n",
       " (235, 0.12857153),\n",
       " (1954, 0.12855129),\n",
       " (1041, 0.12765513),\n",
       " (241, 0.1259302),\n",
       " (3187, 0.124969155),\n",
       " (450, 0.11981725),\n",
       " (1534, 0.11913767),\n",
       " (102, 0.118276246)]"
      ]
     },
     "execution_count": 94,
     "metadata": {},
     "output_type": "execute_result"
    }
   ],
   "source": [
    "user = id_to_idx['jason']\n",
    "# recommend에서는 user*item CSR Matrix를 받습니다.\n",
    "movie_recommended = als_model.recommend(user, csr_data, N=20, filter_already_liked_items=True)\n",
    "movie_recommended"
   ]
  },
  {
   "cell_type": "markdown",
   "id": "relevant-ottawa",
   "metadata": {},
   "source": [
    "* 추천율이 높은 영화들을 가져온다"
   ]
  },
  {
   "cell_type": "code",
   "execution_count": 95,
   "id": "corresponding-opera",
   "metadata": {},
   "outputs": [],
   "source": [
    "# 추천 영화 목록\n",
    "rec_movie = [idx_to_movie[i[0]] for i in movie_recommended]"
   ]
  },
  {
   "cell_type": "code",
   "execution_count": 96,
   "id": "federal-peter",
   "metadata": {},
   "outputs": [
    {
     "data": {
      "text/plain": [
       "['grumpy old men (1993)',\n",
       " 'toy story 2 (1999)',\n",
       " 'sleepless in seattle (1993)',\n",
       " 'indian in the cupboard, the (1995)',\n",
       " 'dragonheart (1996)',\n",
       " \"you've got mail (1998)\",\n",
       " 'lost world: jurassic park, the (1997)',\n",
       " 'six days seven nights (1998)',\n",
       " 'twister (1996)',\n",
       " 'fish called wanda, a (1988)',\n",
       " 'jerry maguire (1996)',\n",
       " 'iron giant, the (1999)',\n",
       " 'hoop dreams (1994)',\n",
       " 'beetlejuice (1988)',\n",
       " 'wrong trousers, the (1993)',\n",
       " 'i.q. (1994)',\n",
       " 'hook (1991)',\n",
       " 'englishman who went up a hill, but came down a mountain, the (1995)',\n",
       " 'midnight in the garden of good and evil (1997)',\n",
       " 'bridges of madison county, the (1995)']"
      ]
     },
     "execution_count": 96,
     "metadata": {},
     "output_type": "execute_result"
    }
   ],
   "source": [
    "rec_movie"
   ]
  },
  {
   "cell_type": "code",
   "execution_count": 97,
   "id": "desirable-marble",
   "metadata": {
    "scrolled": true
   },
   "outputs": [],
   "source": [
    "# 추천영화의 index 추출\n",
    "rec_movie_idx = [movies.index[movies['title'] == i] for i in rec_movie]"
   ]
  },
  {
   "cell_type": "code",
   "execution_count": 98,
   "id": "downtown-murder",
   "metadata": {},
   "outputs": [
    {
     "data": {
      "text/plain": [
       "[3381    comedy\n",
       " Name: genre, dtype: object,\n",
       " 3045    animation|children's|comedy\n",
       " Name: genre, dtype: object,\n",
       " 535    comedy|romance\n",
       " Name: genre, dtype: object,\n",
       " 59    adventure|children's|fantasy\n",
       " Name: genre, dtype: object,\n",
       " 647    action|adventure|fantasy\n",
       " Name: genre, dtype: object,\n",
       " 2355    comedy|romance\n",
       " Name: genre, dtype: object,\n",
       " 1505    action|adventure|sci-fi|thriller\n",
       " Name: genre, dtype: object,\n",
       " 1825    adventure|comedy|romance\n",
       " Name: genre, dtype: object,\n",
       " 727    action|adventure|romance|thriller\n",
       " Name: genre, dtype: object,\n",
       " 1063    comedy\n",
       " Name: genre, dtype: object,\n",
       " 1372    drama|romance\n",
       " Name: genre, dtype: object,\n",
       " 2692    animation|children's\n",
       " Name: genre, dtype: object,\n",
       " 243    documentary\n",
       " Name: genre, dtype: object,\n",
       " 2105    comedy|fantasy\n",
       " Name: genre, dtype: object,\n",
       " 1132    animation|comedy\n",
       " Name: genre, dtype: object,\n",
       " 249    comedy|romance\n",
       " Name: genre, dtype: object,\n",
       " 3420    adventure|fantasy\n",
       " Name: genre, dtype: object,\n",
       " 464    comedy|romance\n",
       " Name: genre, dtype: object,\n",
       " 1663    comedy|crime|drama|mystery\n",
       " Name: genre, dtype: object,\n",
       " 103    drama|romance\n",
       " Name: genre, dtype: object]"
      ]
     },
     "execution_count": 98,
     "metadata": {},
     "output_type": "execute_result"
    }
   ],
   "source": [
    "# 추천 영화의 장르 추출\n",
    "[movies.loc[i]['genre'] for i in rec_movie_idx]\n",
    "\n",
    "# 위에서 입력한 본인이 좋아하는 영화 목록의 장르와 비교\n",
    "# my_favorite = ['toy story (1995)' , 'jumanji (1995)' ,'sabrina (1995)', 'Father of the Bride Part II (1995)', 'grumpier old men (1995)']\n",
    "# my_genre = ['animation|children\\'s|comedy', 'Adventure|Children\\'s|Fantasy', 'comedy|romance', 'comedy', 'comedy|romance']"
   ]
  },
  {
   "cell_type": "markdown",
   "id": "apparent-berkeley",
   "metadata": {},
   "source": [
    "* 추천을 받기위한 기준으로 입력한 본인이 좋아하는 영화들의 장르를 살펴보면 'comedy', 'romance', 'fantasy' 등이 메인이라고 할 수 있다. 이와 비교해서 추천된 영화들의 장르를 보면 마찬가지로 'comedy', 'romance', 'fantasy' 등이 주된 내용인 영화들이라고 볼 수 있고, 'drama', 'thriller', 'documentary' 등의 장르들은 상대적으로 추천이 많지 않은 것을 알 수 있다.\n",
    "* 따라서 결론적으로 어느정도 사용자의 성향에 맞춘 의미있는 추천이 이뤄졌다고 할 수 있다."
   ]
  },
  {
   "cell_type": "code",
   "execution_count": 99,
   "id": "plain-sudan",
   "metadata": {},
   "outputs": [],
   "source": [
    "# toy_story2 영화가 추천 된 이유 확인\n",
    "toy_story2= title_to_idx['toy story 2 (1999)']\n",
    "explain = als_model.explain(user, csr_data, itemid=toy_story2)"
   ]
  },
  {
   "cell_type": "code",
   "execution_count": 100,
   "id": "adaptive-failure",
   "metadata": {},
   "outputs": [
    {
     "data": {
      "text/plain": [
       "[('toy story (1995)', 0.23065821078414503),\n",
       " ('grumpier old men (1995)', 0.03669648815159135),\n",
       " ('sabrina (1995)', 0.027245158770180355),\n",
       " ('Father of the Bride Part II (1995)', 0.0007928889363428096),\n",
       " ('jumanji (1995)', -0.02096343228893597)]"
      ]
     },
     "execution_count": 100,
     "metadata": {},
     "output_type": "execute_result"
    }
   ],
   "source": [
    "# 추쳔영화에 가장 영향을 많이 준 순서\n",
    "[(idx_to_movie[i[0]], i[1]) for i in explain[1]]"
   ]
  },
  {
   "cell_type": "markdown",
   "id": "accessory-silver",
   "metadata": {},
   "source": [
    "### Step 5. 회고\n",
    "* 처음 노드를 접했을 때 이해가 잘 되지 않았던 부분은 CSR matrix를 형성하는 방식이었다. CSR matrix를 사용하면 메모리사용량이나 계산 속도면에서 이점이 있다고 하지만, 너무 sparse한 형태의 matrix는 오히려 accuracy를 낮추는 문제가 생길 수 도 있다고 한다. 따라서 상황에 맞춰 사용하는 것이 필요해 보인다. \n",
    "* 추천이 정상적으로 이뤄졌는지 확인하기 위해, 기준이 되는 내가 좋아하는 영화들의 장르의 메인을 comedy와 fantasy로 정하고 진행해 보았다. 영화에 따라 여러 장르를 포함하기도 했기에 최종 결과값에서 다양한 장르의 영화들이 추천 되었지만 결과적으로 comedy와 fantasy, romance 장르가 포함된 영화들이 다수 추천 된 것을 확인할 수 있었다. 따라서 어느정도 사용자의 성향에 맞춘 적절한 수준의 추천이 이뤄졌다고 생각한다.\n",
    "* 추천영화의 기여도를 확인해 보면 toy story2가 추천 된 이유에 대해 toy story가 가장 큰 기여도를 가지는 걸로 봐서 이 또한 적절하게 이뤄졌다고 볼 수 있다."
   ]
  }
 ],
 "metadata": {
  "kernelspec": {
   "display_name": "Python 3",
   "language": "python",
   "name": "python3"
  },
  "language_info": {
   "codemirror_mode": {
    "name": "ipython",
    "version": 3
   },
   "file_extension": ".py",
   "mimetype": "text/x-python",
   "name": "python",
   "nbconvert_exporter": "python",
   "pygments_lexer": "ipython3",
   "version": "3.7.9"
  }
 },
 "nbformat": 4,
 "nbformat_minor": 5
}
