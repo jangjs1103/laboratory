{
 "cells": [
  {
   "cell_type": "code",
   "execution_count": 2,
   "id": "comic-handbook",
   "metadata": {},
   "outputs": [],
   "source": [
    "# 필요한 모둘 import 하기\n",
    "from sklearn.datasets import load_digits # 손글씨 분류\n",
    "from sklearn.datasets import load_wine   # 와인 종류\n",
    "from sklearn.datasets import load_breast_cancer  # 유방암 진단\n",
    "from sklearn.model_selection import train_test_split  # data 를 train 과 test 그룹으로 나눔\n",
    "from sklearn.metrics import classification_report   # percision, recall 등이 포함된 결과값 도출\n",
    "# accuracy 도출에 사용가능한 각종 classifiers\n",
    "from sklearn.tree import DecisionTreeClassifier\n",
    "from sklearn.ensemble import RandomForestClassifier\n",
    "from sklearn.svm import SVC\n",
    "from sklearn.linear_model import SGDClassifier\n",
    "from sklearn.linear_model import LogisticRegression"
   ]
  },
  {
   "cell_type": "code",
   "execution_count": 4,
   "id": "flexible-conversation",
   "metadata": {},
   "outputs": [
    {
     "name": "stdout",
     "output_type": "stream",
     "text": [
      "----------------- Classifying Handwritten Digits -----------------\n",
      "\n",
      "Target Names: [0 1 2 3 4 5 6 7 8 9]\n",
      ".. _digits_dataset:\n",
      "\n",
      "Optical recognition of handwritten digits dataset\n",
      "--------------------------------------------------\n",
      "\n",
      "**Data Set Characteristics:**\n",
      "\n",
      "    :Number of Instances: 5620\n",
      "    :Number of Attributes: 64\n",
      "    :Attribute Information: 8x8 image of integer pixels in the range 0..16.\n",
      "    :Missing Attribute Values: None\n",
      "    :Creator: E. Alpaydin (alpaydin '@' boun.edu.tr)\n",
      "    :Date: July; 1998\n",
      "\n",
      "This is a copy of the test set of the UCI ML hand-written digits datasets\n",
      "https://archive.ics.uci.edu/ml/datasets/Optical+Recognition+of+Handwritten+Digits\n",
      "\n",
      "The data set contains images of hand-written digits: 10 classes where\n",
      "each class refers to a digit.\n",
      "\n",
      "Preprocessing programs made available by NIST were used to extract\n",
      "normalized bitmaps of handwritten digits from a preprinted form. From a\n",
      "total of 43 people, 30 contributed to the training set and different 13\n",
      "to the test set. 32x32 bitmaps are divided into nonoverlapping blocks of\n",
      "4x4 and the number of on pixels are counted in each block. This generates\n",
      "an input matrix of 8x8 where each element is an integer in the range\n",
      "0..16. This reduces dimensionality and gives invariance to small\n",
      "distortions.\n",
      "\n",
      "For info on NIST preprocessing routines, see M. D. Garris, J. L. Blue, G.\n",
      "T. Candela, D. L. Dimmick, J. Geist, P. J. Grother, S. A. Janet, and C.\n",
      "L. Wilson, NIST Form-Based Handprint Recognition System, NISTIR 5469,\n",
      "1994.\n",
      "\n",
      ".. topic:: References\n",
      "\n",
      "  - C. Kaynak (1995) Methods of Combining Multiple Classifiers and Their\n",
      "    Applications to Handwritten Digit Recognition, MSc Thesis, Institute of\n",
      "    Graduate Studies in Science and Engineering, Bogazici University.\n",
      "  - E. Alpaydin, C. Kaynak (1998) Cascading Classifiers, Kybernetika.\n",
      "  - Ken Tang and Ponnuthurai N. Suganthan and Xi Yao and A. Kai Qin.\n",
      "    Linear dimensionalityreduction using relevance weighted LDA. School of\n",
      "    Electrical and Electronic Engineering Nanyang Technological University.\n",
      "    2005.\n",
      "  - Claudio Gentile. A New Approximate Maximal Margin Classification\n",
      "    Algorithm. NIPS. 2000.\n",
      "------------------------------------------------------------------\n",
      "\n"
     ]
    }
   ],
   "source": [
    "# 전체 코드가 작성 되어있는 순서\n",
    "''' 진행 순서\n",
    "1. 손글씨 분류 : load_digits\n",
    "2. 와인 분류 : load_wine\n",
    "3. 유방암 여부 진단: load_breast_cancer\n",
    "4. 총평\n",
    "'''\n",
    "\n",
    "# 1. 손글씨 분류 시작\n",
    "print('----------------- Classifying Handwritten Digits -----------------\\n')\n",
    "\n",
    "# 손글씨 data 불러오기\n",
    "digits = load_digits()\n",
    "\n",
    "# 데이터 이해하기\n",
    "digits_data = digits.data\n",
    "digits_label = digits.target\n",
    "print(f'Target Names: {digits.target_names}') # 숫자 0 부터 9 까지 포함\n",
    "print(digits.DESCR) # Description 출력\n",
    "print('------------------------------------------------------------------\\n') # DESCR과 결과값 구분"
   ]
  },
  {
   "cell_type": "code",
   "execution_count": 8,
   "id": "equivalent-transsexual",
   "metadata": {},
   "outputs": [],
   "source": [
    "# train, test 데이터 분리, 전체의 20% 를 test에 사용 (test_size=0.2)\n",
    "X_train, X_test, y_train, y_test = train_test_split(digits_data, digits_label, test_size=0.2, random_state = 10)"
   ]
  },
  {
   "cell_type": "code",
   "execution_count": 10,
   "id": "simplified-employer",
   "metadata": {},
   "outputs": [
    {
     "name": "stdout",
     "output_type": "stream",
     "text": [
      "\t\t    [[ Model : Decision Tree ]]\n",
      "              precision    recall  f1-score   support\n",
      "\n",
      "           0       1.00      0.92      0.96        37\n",
      "           1       0.88      0.85      0.87        34\n",
      "           2       0.88      0.82      0.85        34\n",
      "           3       0.85      0.85      0.85        40\n",
      "           4       0.65      0.76      0.70        34\n",
      "           5       0.88      0.91      0.89        32\n",
      "           6       0.92      0.89      0.90        37\n",
      "           7       0.97      0.88      0.92        40\n",
      "           8       0.68      0.79      0.73        33\n",
      "           9       0.79      0.77      0.78        39\n",
      "\n",
      "    accuracy                           0.84       360\n",
      "   macro avg       0.85      0.84      0.85       360\n",
      "weighted avg       0.85      0.84      0.85       360\n",
      "\n"
     ]
    }
   ],
   "source": [
    "# Decision Tree Classifier 사용\n",
    "decision_tree = DecisionTreeClassifier()\n",
    "decision_tree.fit(X_train, y_train)   # Training 진행\n",
    "y_pred = decision_tree.predict(X_test) # Test 진행 후 예상 결과를 받음\n",
    "print('\\t\\t    [[ Model : Decision Tree ]]')\n",
    "print(classification_report(y_test, y_pred)) # 실제 정답과 예상 결과를 비교\n",
    "\n",
    "# 최종 accuracy가 0.86으로 엄청 좋지는 않다. 아마도 single tree를 사용했기 때문인듯\n",
    "# 결과를 봤을 때 3과 8, 4와 9를 많이 혼동하는 듯 보임."
   ]
  },
  {
   "cell_type": "code",
   "execution_count": 12,
   "id": "honey-moore",
   "metadata": {},
   "outputs": [
    {
     "name": "stdout",
     "output_type": "stream",
     "text": [
      "\t\t    [[ Model : Random Forest ]]\n",
      "              precision    recall  f1-score   support\n",
      "\n",
      "           0       1.00      0.97      0.99        37\n",
      "           1       0.97      0.97      0.97        34\n",
      "           2       1.00      1.00      1.00        34\n",
      "           3       0.95      1.00      0.98        40\n",
      "           4       0.97      0.97      0.97        34\n",
      "           5       0.91      1.00      0.96        32\n",
      "           6       1.00      1.00      1.00        37\n",
      "           7       0.98      1.00      0.99        40\n",
      "           8       1.00      0.94      0.97        33\n",
      "           9       1.00      0.92      0.96        39\n",
      "\n",
      "    accuracy                           0.98       360\n",
      "   macro avg       0.98      0.98      0.98       360\n",
      "weighted avg       0.98      0.98      0.98       360\n",
      "\n"
     ]
    }
   ],
   "source": [
    "# Random Forest Classifier 사용, 같은 방식의 code 진행이므로 이하 자세한 주석은 생략\n",
    "random_forest = RandomForestClassifier()\n",
    "random_forest.fit(X_train, y_train)\n",
    "y_pred = random_forest.predict(X_test)\n",
    "print('\\t\\t    [[ Model : Random Forest ]]')\n",
    "print(classification_report(y_test, y_pred))\n",
    "\n",
    "# Accuracy 0.98로 Decision Tree에 비해 상당히 높아진 것을 볼 수 있다.\n",
    "# 모든 숫자에 대해 0.9 이상의 높은 결과를 보인다."
   ]
  },
  {
   "cell_type": "code",
   "execution_count": 14,
   "id": "optimum-worse",
   "metadata": {},
   "outputs": [
    {
     "name": "stdout",
     "output_type": "stream",
     "text": [
      "\t\t\t[[ Model : SVM ]]\n",
      "              precision    recall  f1-score   support\n",
      "\n",
      "           0       1.00      1.00      1.00        37\n",
      "           1       0.97      1.00      0.99        34\n",
      "           2       0.97      1.00      0.99        34\n",
      "           3       1.00      0.97      0.99        40\n",
      "           4       1.00      0.94      0.97        34\n",
      "           5       0.97      1.00      0.98        32\n",
      "           6       1.00      1.00      1.00        37\n",
      "           7       1.00      1.00      1.00        40\n",
      "           8       0.91      0.97      0.94        33\n",
      "           9       1.00      0.95      0.97        39\n",
      "\n",
      "    accuracy                           0.98       360\n",
      "   macro avg       0.98      0.98      0.98       360\n",
      "weighted avg       0.98      0.98      0.98       360\n",
      "\n"
     ]
    }
   ],
   "source": [
    "# SVM : Support vector machine\n",
    "svm = SVC()\n",
    "svm.fit(X_train, y_train)\n",
    "y_pred = svm.predict(X_test)\n",
    "print('\\t\\t\\t[[ Model : SVM ]]')\n",
    "print(classification_report(y_test, y_pred))\n",
    "\n",
    "# Accuracy 0.98로 random forest와 비슷 한 수준의 정확도를 보인다."
   ]
  },
  {
   "cell_type": "code",
   "execution_count": 16,
   "id": "rural-colorado",
   "metadata": {},
   "outputs": [
    {
     "name": "stdout",
     "output_type": "stream",
     "text": [
      "\t\t\t[[ Model : SGD ]]\n",
      "              precision    recall  f1-score   support\n",
      "\n",
      "           0       1.00      1.00      1.00        37\n",
      "           1       0.89      0.97      0.93        34\n",
      "           2       0.97      1.00      0.99        34\n",
      "           3       0.97      0.95      0.96        40\n",
      "           4       1.00      0.91      0.95        34\n",
      "           5       0.86      1.00      0.93        32\n",
      "           6       1.00      1.00      1.00        37\n",
      "           7       0.97      0.97      0.97        40\n",
      "           8       0.67      0.94      0.78        33\n",
      "           9       1.00      0.54      0.70        39\n",
      "\n",
      "    accuracy                           0.93       360\n",
      "   macro avg       0.94      0.93      0.92       360\n",
      "weighted avg       0.94      0.93      0.92       360\n",
      "\n"
     ]
    }
   ],
   "source": [
    "# SGD Classifier\n",
    "sgd = SGDClassifier()\n",
    "sgd.fit(X_train, y_train)\n",
    "y_pred = sgd.predict(X_test)\n",
    "print('\\t\\t\\t[[ Model : SGD ]]')\n",
    "print(classification_report(y_test, y_pred))\n",
    "\n",
    "# Accuracy 0.93의 정확도를 가진다\n",
    "# 숫자 1과 8에서 혼동이 있는것으로 보인다."
   ]
  },
  {
   "cell_type": "code",
   "execution_count": 18,
   "id": "official-sculpture",
   "metadata": {},
   "outputs": [
    {
     "name": "stdout",
     "output_type": "stream",
     "text": [
      "\t\t  [[ Model : Logistic Regression ]]\n",
      "              precision    recall  f1-score   support\n",
      "\n",
      "           0       0.97      1.00      0.99        37\n",
      "           1       0.91      0.91      0.91        34\n",
      "           2       0.92      1.00      0.96        34\n",
      "           3       1.00      0.95      0.97        40\n",
      "           4       0.94      0.91      0.93        34\n",
      "           5       0.94      0.94      0.94        32\n",
      "           6       0.97      0.97      0.97        37\n",
      "           7       0.97      0.95      0.96        40\n",
      "           8       0.89      0.94      0.91        33\n",
      "           9       0.97      0.92      0.95        39\n",
      "\n",
      "    accuracy                           0.95       360\n",
      "   macro avg       0.95      0.95      0.95       360\n",
      "weighted avg       0.95      0.95      0.95       360\n",
      "\n"
     ]
    },
    {
     "name": "stderr",
     "output_type": "stream",
     "text": [
      "/opt/conda/lib/python3.7/site-packages/sklearn/linear_model/_logistic.py:762: ConvergenceWarning: lbfgs failed to converge (status=1):\n",
      "STOP: TOTAL NO. of ITERATIONS REACHED LIMIT.\n",
      "\n",
      "Increase the number of iterations (max_iter) or scale the data as shown in:\n",
      "    https://scikit-learn.org/stable/modules/preprocessing.html\n",
      "Please also refer to the documentation for alternative solver options:\n",
      "    https://scikit-learn.org/stable/modules/linear_model.html#logistic-regression\n",
      "  extra_warning_msg=_LOGISTIC_SOLVER_CONVERGENCE_MSG)\n"
     ]
    }
   ],
   "source": [
    "# Logistic Regression\n",
    "logistic = LogisticRegression()\n",
    "logistic.fit(X_train, y_train)\n",
    "y_pred = logistic.predict(X_test)\n",
    "print('\\t\\t  [[ Model : Logistic Regression ]]')\n",
    "print(classification_report(y_test, y_pred))\n",
    "\n",
    "# accuracy 0.95의 정확도를 가진다.\n",
    "# SGD와 마찬가지로 1과 8에서 혼동이 있는 것 같지만, SGD 보다는 조금 높은 정확도를 보였다.\n",
    "# iteration 값을 조절하거나 data의 스케일을 조절하라는 에러메세지가 뜨는 것으로 보아\n",
    "# 현재 data는 이 classifier에 최적화 되어있지 않은 것으로 생각된다."
   ]
  },
  {
   "cell_type": "code",
   "execution_count": 19,
   "id": "presidential-patio",
   "metadata": {},
   "outputs": [
    {
     "name": "stdout",
     "output_type": "stream",
     "text": [
      "------------------ Classifying The Kind Of Wine ------------------\n",
      "\n",
      "Target Names: ['class_0' 'class_1' 'class_2']\n",
      ".. _wine_dataset:\n",
      "\n",
      "Wine recognition dataset\n",
      "------------------------\n",
      "\n",
      "**Data Set Characteristics:**\n",
      "\n",
      "    :Number of Instances: 178 (50 in each of three classes)\n",
      "    :Number of Attributes: 13 numeric, predictive attributes and the class\n",
      "    :Attribute Information:\n",
      " \t\t- Alcohol\n",
      " \t\t- Malic acid\n",
      " \t\t- Ash\n",
      "\t\t- Alcalinity of ash  \n",
      " \t\t- Magnesium\n",
      "\t\t- Total phenols\n",
      " \t\t- Flavanoids\n",
      " \t\t- Nonflavanoid phenols\n",
      " \t\t- Proanthocyanins\n",
      "\t\t- Color intensity\n",
      " \t\t- Hue\n",
      " \t\t- OD280/OD315 of diluted wines\n",
      " \t\t- Proline\n",
      "\n",
      "    - class:\n",
      "            - class_0\n",
      "            - class_1\n",
      "            - class_2\n",
      "\t\t\n",
      "    :Summary Statistics:\n",
      "    \n",
      "    ============================= ==== ===== ======= =====\n",
      "                                   Min   Max   Mean     SD\n",
      "    ============================= ==== ===== ======= =====\n",
      "    Alcohol:                      11.0  14.8    13.0   0.8\n",
      "    Malic Acid:                   0.74  5.80    2.34  1.12\n",
      "    Ash:                          1.36  3.23    2.36  0.27\n",
      "    Alcalinity of Ash:            10.6  30.0    19.5   3.3\n",
      "    Magnesium:                    70.0 162.0    99.7  14.3\n",
      "    Total Phenols:                0.98  3.88    2.29  0.63\n",
      "    Flavanoids:                   0.34  5.08    2.03  1.00\n",
      "    Nonflavanoid Phenols:         0.13  0.66    0.36  0.12\n",
      "    Proanthocyanins:              0.41  3.58    1.59  0.57\n",
      "    Colour Intensity:              1.3  13.0     5.1   2.3\n",
      "    Hue:                          0.48  1.71    0.96  0.23\n",
      "    OD280/OD315 of diluted wines: 1.27  4.00    2.61  0.71\n",
      "    Proline:                       278  1680     746   315\n",
      "    ============================= ==== ===== ======= =====\n",
      "\n",
      "    :Missing Attribute Values: None\n",
      "    :Class Distribution: class_0 (59), class_1 (71), class_2 (48)\n",
      "    :Creator: R.A. Fisher\n",
      "    :Donor: Michael Marshall (MARSHALL%PLU@io.arc.nasa.gov)\n",
      "    :Date: July, 1988\n",
      "\n",
      "This is a copy of UCI ML Wine recognition datasets.\n",
      "https://archive.ics.uci.edu/ml/machine-learning-databases/wine/wine.data\n",
      "\n",
      "The data is the results of a chemical analysis of wines grown in the same\n",
      "region in Italy by three different cultivators. There are thirteen different\n",
      "measurements taken for different constituents found in the three types of\n",
      "wine.\n",
      "\n",
      "Original Owners: \n",
      "\n",
      "Forina, M. et al, PARVUS - \n",
      "An Extendible Package for Data Exploration, Classification and Correlation. \n",
      "Institute of Pharmaceutical and Food Analysis and Technologies,\n",
      "Via Brigata Salerno, 16147 Genoa, Italy.\n",
      "\n",
      "Citation:\n",
      "\n",
      "Lichman, M. (2013). UCI Machine Learning Repository\n",
      "[https://archive.ics.uci.edu/ml]. Irvine, CA: University of California,\n",
      "School of Information and Computer Science. \n",
      "\n",
      ".. topic:: References\n",
      "\n",
      "  (1) S. Aeberhard, D. Coomans and O. de Vel, \n",
      "  Comparison of Classifiers in High Dimensional Settings, \n",
      "  Tech. Rep. no. 92-02, (1992), Dept. of Computer Science and Dept. of  \n",
      "  Mathematics and Statistics, James Cook University of North Queensland. \n",
      "  (Also submitted to Technometrics). \n",
      "\n",
      "  The data was used with many others for comparing various \n",
      "  classifiers. The classes are separable, though only RDA \n",
      "  has achieved 100% correct classification. \n",
      "  (RDA : 100%, QDA 99.4%, LDA 98.9%, 1NN 96.1% (z-transformed data)) \n",
      "  (All results using the leave-one-out technique) \n",
      "\n",
      "  (2) S. Aeberhard, D. Coomans and O. de Vel, \n",
      "  \"THE CLASSIFICATION PERFORMANCE OF RDA\" \n",
      "  Tech. Rep. no. 92-01, (1992), Dept. of Computer Science and Dept. of \n",
      "  Mathematics and Statistics, James Cook University of North Queensland. \n",
      "  (Also submitted to Journal of Chemometrics).\n",
      "\n",
      "------------------------------------------------------------------\n",
      "\n"
     ]
    }
   ],
   "source": [
    "# 2. 와인 분류 시작 / 손글씨 dataset과 동일하게 진행 된다.\n",
    "print('------------------ Classifying The Kind Of Wine ------------------\\n')\n",
    "\n",
    "# 데이터 준비\n",
    "wine = load_wine()\n",
    "\n",
    "# 데이터 이해하기\n",
    "wine_data = wine.data\n",
    "wine_label = wine.target\n",
    "print(f'Target Names: {wine.target_names}')\n",
    "print(wine.DESCR)\n",
    "print('------------------------------------------------------------------\\n') # DESCR과 결과값 구분\n",
    "\n",
    "# train, test 데이터 분리\n",
    "X_train, X_test, y_train, y_test = train_test_split(wine_data, wine_label, test_size=0.2, random_state = 10)"
   ]
  },
  {
   "cell_type": "code",
   "execution_count": 21,
   "id": "fitting-prerequisite",
   "metadata": {},
   "outputs": [
    {
     "name": "stdout",
     "output_type": "stream",
     "text": [
      "\t\t    [[ Model : Decision Tree ]]\n",
      "              precision    recall  f1-score   support\n",
      "\n",
      "           0       1.00      1.00      1.00        10\n",
      "           1       1.00      0.89      0.94        18\n",
      "           2       0.80      1.00      0.89         8\n",
      "\n",
      "    accuracy                           0.94        36\n",
      "   macro avg       0.93      0.96      0.94        36\n",
      "weighted avg       0.96      0.94      0.95        36\n",
      "\n"
     ]
    }
   ],
   "source": [
    "# Decision Tree\n",
    "decision_tree = DecisionTreeClassifier()\n",
    "decision_tree.fit(X_train, y_train)\n",
    "y_pred = decision_tree.predict(X_test)\n",
    "print('\\t\\t    [[ Model : Decision Tree ]]')\n",
    "print(classification_report(y_test, y_pred))\n",
    "\n",
    "# accuracy는 0.94이며 손글씨 dataset(0.84)에 비해 높은 정확도를 보인다.\n",
    "# class2에서의 percision 값이 가장 낮게 나타났다."
   ]
  },
  {
   "cell_type": "code",
   "execution_count": 25,
   "id": "posted-moscow",
   "metadata": {},
   "outputs": [
    {
     "name": "stdout",
     "output_type": "stream",
     "text": [
      "\t\t    [[ Model : Random Forest ]]\n",
      "              precision    recall  f1-score   support\n",
      "\n",
      "           0       1.00      1.00      1.00        10\n",
      "           1       1.00      0.89      0.94        18\n",
      "           2       0.80      1.00      0.89         8\n",
      "\n",
      "    accuracy                           0.94        36\n",
      "   macro avg       0.93      0.96      0.94        36\n",
      "weighted avg       0.96      0.94      0.95        36\n",
      "\n"
     ]
    }
   ],
   "source": [
    "# Random Forest\n",
    "random_forest = RandomForestClassifier()\n",
    "random_forest.fit(X_train, y_train)\n",
    "y_pred = random_forest.predict(X_test)\n",
    "print('\\t\\t    [[ Model : Random Forest ]]')\n",
    "print(classification_report(y_test, y_pred))\n",
    "\n",
    "# accuracy가 0.94로 Decision Tree의 결과와 동일하게 나타났다.\n",
    "# 따라서 현재의 wine dataset은 random forest classifier의 장점을 살리기에는 적합한\n",
    "# dataset이 아닌것 같다."
   ]
  },
  {
   "cell_type": "code",
   "execution_count": 27,
   "id": "proof-prescription",
   "metadata": {},
   "outputs": [
    {
     "name": "stdout",
     "output_type": "stream",
     "text": [
      "\t\t\t[[ Model : SVM ]]\n",
      "              precision    recall  f1-score   support\n",
      "\n",
      "           0       0.88      0.70      0.78        10\n",
      "           1       0.81      0.72      0.76        18\n",
      "           2       0.42      0.62      0.50         8\n",
      "\n",
      "    accuracy                           0.69        36\n",
      "   macro avg       0.70      0.68      0.68        36\n",
      "weighted avg       0.74      0.69      0.71        36\n",
      "\n"
     ]
    }
   ],
   "source": [
    "# SVM\n",
    "svm = SVC()\n",
    "svm.fit(X_train, y_train)\n",
    "y_pred = svm.predict(X_test)\n",
    "print('\\t\\t\\t[[ Model : SVM ]]')\n",
    "print(classification_report(y_test, y_pred))\n",
    "\n",
    "# accuracy가 0.69로 Decision Tree와 Random Forest에 비해 상당히 낮게 측정되었다.\n",
    "# 이는 곧 현재 dataset이 SVM으로는 구분하기 적합하지 않은 형태로 존재한다는 뜻이고 따라서 다른 classifier를\n",
    "# 사용하는 것이 옳다고 생각한다."
   ]
  },
  {
   "cell_type": "code",
   "execution_count": 36,
   "id": "comfortable-current",
   "metadata": {},
   "outputs": [
    {
     "name": "stdout",
     "output_type": "stream",
     "text": [
      "\t\t\t[[ Model : SGD ]]\n",
      "              precision    recall  f1-score   support\n",
      "\n",
      "           0       1.00      0.60      0.75        10\n",
      "           1       1.00      0.06      0.11        18\n",
      "           2       0.28      1.00      0.43         8\n",
      "\n",
      "    accuracy                           0.42        36\n",
      "   macro avg       0.76      0.55      0.43        36\n",
      "weighted avg       0.84      0.42      0.36        36\n",
      "\n"
     ]
    }
   ],
   "source": [
    "# SGD Classifier\n",
    "sgd = SGDClassifier()\n",
    "sgd.fit(X_train, y_train)\n",
    "y_pred = sgd.predict(X_test)\n",
    "print('\\t\\t\\t[[ Model : SGD ]]')\n",
    "print(classification_report(y_test, y_pred))\n",
    "\n",
    "# accuracy가 0.42로 상당히 낮으며 percision과 recall 값들을 보면 절반 이상 구분하지 못하는 것을 알 수 있다.\n",
    "# 그리고 class2의 경우에는 아예 측정이 되지않는 것으로 보아 SGD는 현재 dataset에 사용할 수 없는 classifier\n",
    "# 라고 할 수 있다."
   ]
  },
  {
   "cell_type": "code",
   "execution_count": 37,
   "id": "sublime-sunday",
   "metadata": {},
   "outputs": [
    {
     "name": "stdout",
     "output_type": "stream",
     "text": [
      "\t\t  [[ Model : Logistic Regression ]]\n",
      "              precision    recall  f1-score   support\n",
      "\n",
      "           0       0.91      1.00      0.95        10\n",
      "           1       1.00      0.83      0.91        18\n",
      "           2       0.80      1.00      0.89         8\n",
      "\n",
      "    accuracy                           0.92        36\n",
      "   macro avg       0.90      0.94      0.92        36\n",
      "weighted avg       0.93      0.92      0.92        36\n",
      "\n"
     ]
    },
    {
     "name": "stderr",
     "output_type": "stream",
     "text": [
      "/opt/conda/lib/python3.7/site-packages/sklearn/linear_model/_logistic.py:762: ConvergenceWarning: lbfgs failed to converge (status=1):\n",
      "STOP: TOTAL NO. of ITERATIONS REACHED LIMIT.\n",
      "\n",
      "Increase the number of iterations (max_iter) or scale the data as shown in:\n",
      "    https://scikit-learn.org/stable/modules/preprocessing.html\n",
      "Please also refer to the documentation for alternative solver options:\n",
      "    https://scikit-learn.org/stable/modules/linear_model.html#logistic-regression\n",
      "  extra_warning_msg=_LOGISTIC_SOLVER_CONVERGENCE_MSG)\n"
     ]
    }
   ],
   "source": [
    "# Logistic Regression\n",
    "logistic = LogisticRegression()\n",
    "logistic.fit(X_train, y_train)\n",
    "y_pred = logistic.predict(X_test)\n",
    "print('\\t\\t  [[ Model : Logistic Regression ]]')\n",
    "print(classification_report(y_test, y_pred))\n",
    "\n",
    "# accuracy는 0.92로 나쁘지 않지만 손글씨 dataset과 마찬가지로 iteration 과 data scale에 대한 error가 출력된다.\n",
    "# 따라서 Logistic Regression은 현재의 dataset에도 크게 적합하지 않은 방식이라고 할 수 있다."
   ]
  },
  {
   "cell_type": "code",
   "execution_count": 38,
   "id": "caring-revelation",
   "metadata": {},
   "outputs": [
    {
     "name": "stdout",
     "output_type": "stream",
     "text": [
      "-------------------- Diagnosing Breast Cancer --------------------\n",
      "\n",
      "Target Names: ['malignant' 'benign']\n",
      ".. _breast_cancer_dataset:\n",
      "\n",
      "Breast cancer wisconsin (diagnostic) dataset\n",
      "--------------------------------------------\n",
      "\n",
      "**Data Set Characteristics:**\n",
      "\n",
      "    :Number of Instances: 569\n",
      "\n",
      "    :Number of Attributes: 30 numeric, predictive attributes and the class\n",
      "\n",
      "    :Attribute Information:\n",
      "        - radius (mean of distances from center to points on the perimeter)\n",
      "        - texture (standard deviation of gray-scale values)\n",
      "        - perimeter\n",
      "        - area\n",
      "        - smoothness (local variation in radius lengths)\n",
      "        - compactness (perimeter^2 / area - 1.0)\n",
      "        - concavity (severity of concave portions of the contour)\n",
      "        - concave points (number of concave portions of the contour)\n",
      "        - symmetry\n",
      "        - fractal dimension (\"coastline approximation\" - 1)\n",
      "\n",
      "        The mean, standard error, and \"worst\" or largest (mean of the three\n",
      "        worst/largest values) of these features were computed for each image,\n",
      "        resulting in 30 features.  For instance, field 0 is Mean Radius, field\n",
      "        10 is Radius SE, field 20 is Worst Radius.\n",
      "\n",
      "        - class:\n",
      "                - WDBC-Malignant\n",
      "                - WDBC-Benign\n",
      "\n",
      "    :Summary Statistics:\n",
      "\n",
      "    ===================================== ====== ======\n",
      "                                           Min    Max\n",
      "    ===================================== ====== ======\n",
      "    radius (mean):                        6.981  28.11\n",
      "    texture (mean):                       9.71   39.28\n",
      "    perimeter (mean):                     43.79  188.5\n",
      "    area (mean):                          143.5  2501.0\n",
      "    smoothness (mean):                    0.053  0.163\n",
      "    compactness (mean):                   0.019  0.345\n",
      "    concavity (mean):                     0.0    0.427\n",
      "    concave points (mean):                0.0    0.201\n",
      "    symmetry (mean):                      0.106  0.304\n",
      "    fractal dimension (mean):             0.05   0.097\n",
      "    radius (standard error):              0.112  2.873\n",
      "    texture (standard error):             0.36   4.885\n",
      "    perimeter (standard error):           0.757  21.98\n",
      "    area (standard error):                6.802  542.2\n",
      "    smoothness (standard error):          0.002  0.031\n",
      "    compactness (standard error):         0.002  0.135\n",
      "    concavity (standard error):           0.0    0.396\n",
      "    concave points (standard error):      0.0    0.053\n",
      "    symmetry (standard error):            0.008  0.079\n",
      "    fractal dimension (standard error):   0.001  0.03\n",
      "    radius (worst):                       7.93   36.04\n",
      "    texture (worst):                      12.02  49.54\n",
      "    perimeter (worst):                    50.41  251.2\n",
      "    area (worst):                         185.2  4254.0\n",
      "    smoothness (worst):                   0.071  0.223\n",
      "    compactness (worst):                  0.027  1.058\n",
      "    concavity (worst):                    0.0    1.252\n",
      "    concave points (worst):               0.0    0.291\n",
      "    symmetry (worst):                     0.156  0.664\n",
      "    fractal dimension (worst):            0.055  0.208\n",
      "    ===================================== ====== ======\n",
      "\n",
      "    :Missing Attribute Values: None\n",
      "\n",
      "    :Class Distribution: 212 - Malignant, 357 - Benign\n",
      "\n",
      "    :Creator:  Dr. William H. Wolberg, W. Nick Street, Olvi L. Mangasarian\n",
      "\n",
      "    :Donor: Nick Street\n",
      "\n",
      "    :Date: November, 1995\n",
      "\n",
      "This is a copy of UCI ML Breast Cancer Wisconsin (Diagnostic) datasets.\n",
      "https://goo.gl/U2Uwz2\n",
      "\n",
      "Features are computed from a digitized image of a fine needle\n",
      "aspirate (FNA) of a breast mass.  They describe\n",
      "characteristics of the cell nuclei present in the image.\n",
      "\n",
      "Separating plane described above was obtained using\n",
      "Multisurface Method-Tree (MSM-T) [K. P. Bennett, \"Decision Tree\n",
      "Construction Via Linear Programming.\" Proceedings of the 4th\n",
      "Midwest Artificial Intelligence and Cognitive Science Society,\n",
      "pp. 97-101, 1992], a classification method which uses linear\n",
      "programming to construct a decision tree.  Relevant features\n",
      "were selected using an exhaustive search in the space of 1-4\n",
      "features and 1-3 separating planes.\n",
      "\n",
      "The actual linear program used to obtain the separating plane\n",
      "in the 3-dimensional space is that described in:\n",
      "[K. P. Bennett and O. L. Mangasarian: \"Robust Linear\n",
      "Programming Discrimination of Two Linearly Inseparable Sets\",\n",
      "Optimization Methods and Software 1, 1992, 23-34].\n",
      "\n",
      "This database is also available through the UW CS ftp server:\n",
      "\n",
      "ftp ftp.cs.wisc.edu\n",
      "cd math-prog/cpo-dataset/machine-learn/WDBC/\n",
      "\n",
      ".. topic:: References\n",
      "\n",
      "   - W.N. Street, W.H. Wolberg and O.L. Mangasarian. Nuclear feature extraction \n",
      "     for breast tumor diagnosis. IS&T/SPIE 1993 International Symposium on \n",
      "     Electronic Imaging: Science and Technology, volume 1905, pages 861-870,\n",
      "     San Jose, CA, 1993.\n",
      "   - O.L. Mangasarian, W.N. Street and W.H. Wolberg. Breast cancer diagnosis and \n",
      "     prognosis via linear programming. Operations Research, 43(4), pages 570-577, \n",
      "     July-August 1995.\n",
      "   - W.H. Wolberg, W.N. Street, and O.L. Mangasarian. Machine learning techniques\n",
      "     to diagnose breast cancer from fine-needle aspirates. Cancer Letters 77 (1994) \n",
      "     163-171.\n",
      "------------------------------------------------------------------\n",
      "\n"
     ]
    }
   ],
   "source": [
    "# 3. 유방암 여부 진단 시작 / 앞의 dataset과 동일한 방식으로 진행된다.\n",
    "print('-------------------- Diagnosing Breast Cancer --------------------\\n')\n",
    "\n",
    "# 데이터 준비\n",
    "breast_cancer = load_breast_cancer()\n",
    "\n",
    "# 데이터 이해하기\n",
    "breast_cancer_data = breast_cancer.data\n",
    "breast_cancer_label = breast_cancer.target\n",
    "print(f'Target Names: {breast_cancer.target_names}')\n",
    "print(breast_cancer.DESCR)\n",
    "print('------------------------------------------------------------------\\n') # DESCR과 결과값 구분\n",
    "\n",
    "# train, test 데이터 분리\n",
    "X_train, X_test, y_train, y_test = train_test_split(breast_cancer_data, breast_cancer_label, test_size=0.2, random_state = 10)"
   ]
  },
  {
   "cell_type": "code",
   "execution_count": 40,
   "id": "danish-belarus",
   "metadata": {},
   "outputs": [
    {
     "name": "stdout",
     "output_type": "stream",
     "text": [
      "\t\t    [[ Model : Decision Tree ]]\n",
      "              precision    recall  f1-score   support\n",
      "\n",
      "           0       0.80      0.92      0.86        39\n",
      "           1       0.96      0.88      0.92        75\n",
      "\n",
      "    accuracy                           0.89       114\n",
      "   macro avg       0.88      0.90      0.89       114\n",
      "weighted avg       0.90      0.89      0.90       114\n",
      "\n"
     ]
    }
   ],
   "source": [
    "# Decision Tree\n",
    "decision_tree = DecisionTreeClassifier()\n",
    "decision_tree.fit(X_train, y_train)\n",
    "y_pred = decision_tree.predict(X_test)\n",
    "print('\\t\\t    [[ Model : Decision Tree ]]')\n",
    "print(classification_report(y_test, y_pred))\n",
    "\n",
    "# accuracy는 0.89로 앞선 wine dataset보다 낮은 수치를 보인다.\n",
    "# 0:malignant 의 percision 값이 가장 낮게 측정되었다."
   ]
  },
  {
   "cell_type": "code",
   "execution_count": 41,
   "id": "instant-greene",
   "metadata": {},
   "outputs": [
    {
     "name": "stdout",
     "output_type": "stream",
     "text": [
      "\t\t    [[ Model : Random Forest ]]\n",
      "              precision    recall  f1-score   support\n",
      "\n",
      "           0       0.95      1.00      0.97        39\n",
      "           1       1.00      0.97      0.99        75\n",
      "\n",
      "    accuracy                           0.98       114\n",
      "   macro avg       0.98      0.99      0.98       114\n",
      "weighted avg       0.98      0.98      0.98       114\n",
      "\n"
     ]
    }
   ],
   "source": [
    "# Random Forest\n",
    "random_forest = RandomForestClassifier()\n",
    "random_forest.fit(X_train, y_train)\n",
    "y_pred = random_forest.predict(X_test)\n",
    "print('\\t\\t    [[ Model : Random Forest ]]')\n",
    "print(classification_report(y_test, y_pred))\n",
    "\n",
    "# accuracy 0.98로 앞선 두 dataset보다 더 높은 수치를 보인다. 따라서 현재 dataset에 상당히 적합한\n",
    "# 방식이라 할 수 있다."
   ]
  },
  {
   "cell_type": "code",
   "execution_count": 42,
   "id": "supposed-cleveland",
   "metadata": {},
   "outputs": [
    {
     "name": "stdout",
     "output_type": "stream",
     "text": [
      "\t\t\t[[ Model : SVM ]]\n",
      "              precision    recall  f1-score   support\n",
      "\n",
      "           0       0.94      0.82      0.88        39\n",
      "           1       0.91      0.97      0.94        75\n",
      "\n",
      "    accuracy                           0.92       114\n",
      "   macro avg       0.93      0.90      0.91       114\n",
      "weighted avg       0.92      0.92      0.92       114\n",
      "\n"
     ]
    }
   ],
   "source": [
    "# SVM\n",
    "svm = SVC()\n",
    "svm.fit(X_train, y_train)\n",
    "y_pred = svm.predict(X_test)\n",
    "print('\\t\\t\\t[[ Model : SVM ]]')\n",
    "print(classification_report(y_test, y_pred))\n",
    "\n",
    "# accuracy 0.92로 측정되며 malignant의 recall 값이 가장 낮게 측정되었다.\n",
    "# 따라서 이런 암진단과 같은 중요한 사항에 대해서는 사용할 수 없다고 볼 수 있다."
   ]
  },
  {
   "cell_type": "code",
   "execution_count": 43,
   "id": "planned-terry",
   "metadata": {},
   "outputs": [
    {
     "name": "stdout",
     "output_type": "stream",
     "text": [
      "\t\t\t[[ Model : SGD ]]\n",
      "              precision    recall  f1-score   support\n",
      "\n",
      "           0       1.00      0.56      0.72        39\n",
      "           1       0.82      1.00      0.90        75\n",
      "\n",
      "    accuracy                           0.85       114\n",
      "   macro avg       0.91      0.78      0.81       114\n",
      "weighted avg       0.88      0.85      0.84       114\n",
      "\n"
     ]
    }
   ],
   "source": [
    "# SGD Classifier\n",
    "sgd = SGDClassifier()\n",
    "sgd.fit(X_train, y_train)\n",
    "y_pred = sgd.predict(X_test)\n",
    "print('\\t\\t\\t[[ Model : SGD ]]')\n",
    "print(classification_report(y_test, y_pred))\n",
    "\n",
    "# accuracy 0.85로 측정되며, SVM과 같은 이유로 암진단에서는 사용할 수 없다."
   ]
  },
  {
   "cell_type": "code",
   "execution_count": 44,
   "id": "positive-crowd",
   "metadata": {},
   "outputs": [
    {
     "name": "stdout",
     "output_type": "stream",
     "text": [
      "\t\t  [[ Model : Logistic Regression ]]\n",
      "              precision    recall  f1-score   support\n",
      "\n",
      "           0       0.88      0.92      0.90        39\n",
      "           1       0.96      0.93      0.95        75\n",
      "\n",
      "    accuracy                           0.93       114\n",
      "   macro avg       0.92      0.93      0.92       114\n",
      "weighted avg       0.93      0.93      0.93       114\n",
      "\n"
     ]
    },
    {
     "name": "stderr",
     "output_type": "stream",
     "text": [
      "/opt/conda/lib/python3.7/site-packages/sklearn/linear_model/_logistic.py:762: ConvergenceWarning: lbfgs failed to converge (status=1):\n",
      "STOP: TOTAL NO. of ITERATIONS REACHED LIMIT.\n",
      "\n",
      "Increase the number of iterations (max_iter) or scale the data as shown in:\n",
      "    https://scikit-learn.org/stable/modules/preprocessing.html\n",
      "Please also refer to the documentation for alternative solver options:\n",
      "    https://scikit-learn.org/stable/modules/linear_model.html#logistic-regression\n",
      "  extra_warning_msg=_LOGISTIC_SOLVER_CONVERGENCE_MSG)\n"
     ]
    }
   ],
   "source": [
    "# Logistic Regression\n",
    "logistic = LogisticRegression()\n",
    "logistic.fit(X_train, y_train)\n",
    "y_pred = logistic.predict(X_test)\n",
    "print('\\t\\t  [[ Model : Logistic Regression ]]')\n",
    "print(classification_report(y_test, y_pred))\n",
    "\n",
    "# accuracy 0.93로 측정되고 malignant에 대한 recall 값도 0.92로 나쁘지않지만 이 보다 좋은\n",
    "# random forest 방식이 있기 때문에 사용되지 않을 듯 하다.\n",
    "# 다른 dataset과 마찬가지로 iteration와 data scale에 관한 오류가 발생한다."
   ]
  },
  {
   "cell_type": "markdown",
   "id": "integrated-apple",
   "metadata": {},
   "source": [
    "4. 총평(회고)\n",
    "### < Classifier(모델) 선별 및 성능을 평가하는 방법 >\n",
    " - classification_report()로 각 모델의 결과값을 확인한다.\n",
    " - datasets에서 제공하는 target(ex. 숫자 0, 1, 2, 3 ..., 클래스 1, 2, 3 등) 마다\n",
    " 정상적으로 결과값이 제공 되는지 확인한다. 이번 예제의 경우 Breast_cacer dataset 에서  SGD 모델을 사용한 경우에 한하여 class_2의 값을 0.00으로 인식하는 문제가 있었다. 만약 결과를 단순히 accuracy_score() 만으로 확인 한다면 이런 문제점을 찾아 내기가 힘들것이다. 그리고 precision 이나 recall 값등을 확인하여 현재의 dataset의 성격상 사용할 수 있는 classifier만을 선별할 필요도 있다. 즉, 사용하는 데이터의 종류나 양, 전처리가 진행된 방식 등에 따라 그에 맞는 방식과 맞지 않는 방식이 존재할 수 있다는 것이며 따라서 이런 사항들을 모두 고려하기 위해서는 결과를 classification_report()로 상세히 확인하는 것이 필수이다.\n",
    " 예를 들면 유방암 진단의 경우 malignant를 negative로 판단하는 일은 절대 없어야 하기 때문에 Random Forest 외의 방식들은 아마 사용되기 힘들 것으로 보인다."
   ]
  }
 ],
 "metadata": {
  "kernelspec": {
   "display_name": "Python 3",
   "language": "python",
   "name": "python3"
  },
  "language_info": {
   "codemirror_mode": {
    "name": "ipython",
    "version": 3
   },
   "file_extension": ".py",
   "mimetype": "text/x-python",
   "name": "python",
   "nbconvert_exporter": "python",
   "pygments_lexer": "ipython3",
   "version": "3.7.9"
  }
 },
 "nbformat": 4,
 "nbformat_minor": 5
}
