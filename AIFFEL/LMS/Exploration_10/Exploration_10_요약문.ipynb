{
 "cells": [
  {
   "cell_type": "markdown",
   "id": "experimental-sheffield",
   "metadata": {},
   "source": [
    "## Exploration_10_텍스트요약\n",
    "#### 순서\n",
    "Step 1. 데이터 수집 <br>\n",
    "Step 2. 전처리 <br>\n",
    "Step 3. Attention 메커니즘 사용 (abstractive) <br>\n",
    "Step 4. 실제결과와 요약문 비교 <br>\n",
    "Step 5. Summa 사용 (extractive) <br>\n",
    "Step 6. 회고"
   ]
  },
  {
   "cell_type": "markdown",
   "id": "protected-prescription",
   "metadata": {},
   "source": [
    "### Step 1. 데이터 수집"
   ]
  },
  {
   "cell_type": "code",
   "execution_count": 152,
   "id": "convenient-excuse",
   "metadata": {},
   "outputs": [
    {
     "name": "stderr",
     "output_type": "stream",
     "text": [
      "[nltk_data] Downloading package stopwords to /aiffel/nltk_data...\n",
      "[nltk_data]   Package stopwords is already up-to-date!\n"
     ]
    }
   ],
   "source": [
    "import nltk\n",
    "nltk.download('stopwords')\n",
    "\n",
    "import numpy as np\n",
    "import pandas as pd\n",
    "import os\n",
    "import re\n",
    "import matplotlib.pyplot as plt\n",
    "from nltk.corpus import stopwords\n",
    "from bs4 import BeautifulSoup \n",
    "from tensorflow.keras.preprocessing.text import Tokenizer \n",
    "from tensorflow.keras.preprocessing.sequence import pad_sequences\n",
    "import urllib.request"
   ]
  },
  {
   "cell_type": "code",
   "execution_count": 153,
   "id": "demonstrated-appendix",
   "metadata": {},
   "outputs": [],
   "source": [
    "import urllib.request\n",
    "urllib.request.urlretrieve(\"https://raw.githubusercontent.com/sunnysai12345/News_Summary/master/news_summary_more.csv\", filename=\"news_summary_more.csv\")\n",
    "data = pd.read_csv('news_summary_more.csv', encoding='iso-8859-1')"
   ]
  },
  {
   "cell_type": "code",
   "execution_count": 154,
   "id": "interesting-trinidad",
   "metadata": {
    "scrolled": false
   },
   "outputs": [
    {
     "data": {
      "text/html": [
       "<div>\n",
       "<style scoped>\n",
       "    .dataframe tbody tr th:only-of-type {\n",
       "        vertical-align: middle;\n",
       "    }\n",
       "\n",
       "    .dataframe tbody tr th {\n",
       "        vertical-align: top;\n",
       "    }\n",
       "\n",
       "    .dataframe thead th {\n",
       "        text-align: right;\n",
       "    }\n",
       "</style>\n",
       "<table border=\"1\" class=\"dataframe\">\n",
       "  <thead>\n",
       "    <tr style=\"text-align: right;\">\n",
       "      <th></th>\n",
       "      <th>headlines</th>\n",
       "      <th>text</th>\n",
       "    </tr>\n",
       "  </thead>\n",
       "  <tbody>\n",
       "    <tr>\n",
       "      <th>80844</th>\n",
       "      <td>Scientists store a movie in living bacteria fo...</td>\n",
       "      <td>In a first, Harvard scientists have encoded a ...</td>\n",
       "    </tr>\n",
       "    <tr>\n",
       "      <th>40762</th>\n",
       "      <td>Priority stays with nation: Virat Kohli on Afr...</td>\n",
       "      <td>Reacting to former Pakistan captain Shahid Afr...</td>\n",
       "    </tr>\n",
       "    <tr>\n",
       "      <th>77994</th>\n",
       "      <td>4 foreign nationals held with drugs worth Ã¢Â...</td>\n",
       "      <td>Three African women and a man were arrested by...</td>\n",
       "    </tr>\n",
       "    <tr>\n",
       "      <th>83638</th>\n",
       "      <td>Terrorist plot targeting Grand Mosque in Mecca...</td>\n",
       "      <td>Saudi Arabia's security forces on Friday foile...</td>\n",
       "    </tr>\n",
       "    <tr>\n",
       "      <th>78269</th>\n",
       "      <td>Israeli stink bomb fails tests to control crow...</td>\n",
       "      <td>An Israeli crowd control stink bomb which smel...</td>\n",
       "    </tr>\n",
       "    <tr>\n",
       "      <th>82133</th>\n",
       "      <td>Indian Air Force helicopter goes missing in Ar...</td>\n",
       "      <td>The Indian Air Force's Advanced Light Helicopt...</td>\n",
       "    </tr>\n",
       "    <tr>\n",
       "      <th>92801</th>\n",
       "      <td>Malaysia Airlines world's 1st to satellite-tra...</td>\n",
       "      <td>Malaysia Airlines will become the world's firs...</td>\n",
       "    </tr>\n",
       "    <tr>\n",
       "      <th>56743</th>\n",
       "      <td>Microsoft pledges $50 mn to broaden AI for Ear...</td>\n",
       "      <td>Microsoft has pledged $50 million over the nex...</td>\n",
       "    </tr>\n",
       "    <tr>\n",
       "      <th>67351</th>\n",
       "      <td>UK swears in its first female President of Sup...</td>\n",
       "      <td>Brenda Hale has been sworn in as the first fem...</td>\n",
       "    </tr>\n",
       "    <tr>\n",
       "      <th>26199</th>\n",
       "      <td>Mufti warns of dangerous results if Delhi trie...</td>\n",
       "      <td>Former J&amp;K CM and PDP chief Mehbooba Mufti on ...</td>\n",
       "    </tr>\n",
       "  </tbody>\n",
       "</table>\n",
       "</div>"
      ],
      "text/plain": [
       "                                               headlines  \\\n",
       "80844  Scientists store a movie in living bacteria fo...   \n",
       "40762  Priority stays with nation: Virat Kohli on Afr...   \n",
       "77994  4 foreign nationals held with drugs worth Ã¢Â...   \n",
       "83638  Terrorist plot targeting Grand Mosque in Mecca...   \n",
       "78269  Israeli stink bomb fails tests to control crow...   \n",
       "82133  Indian Air Force helicopter goes missing in Ar...   \n",
       "92801  Malaysia Airlines world's 1st to satellite-tra...   \n",
       "56743  Microsoft pledges $50 mn to broaden AI for Ear...   \n",
       "67351  UK swears in its first female President of Sup...   \n",
       "26199  Mufti warns of dangerous results if Delhi trie...   \n",
       "\n",
       "                                                    text  \n",
       "80844  In a first, Harvard scientists have encoded a ...  \n",
       "40762  Reacting to former Pakistan captain Shahid Afr...  \n",
       "77994  Three African women and a man were arrested by...  \n",
       "83638  Saudi Arabia's security forces on Friday foile...  \n",
       "78269  An Israeli crowd control stink bomb which smel...  \n",
       "82133  The Indian Air Force's Advanced Light Helicopt...  \n",
       "92801  Malaysia Airlines will become the world's firs...  \n",
       "56743  Microsoft has pledged $50 million over the nex...  \n",
       "67351  Brenda Hale has been sworn in as the first fem...  \n",
       "26199  Former J&K CM and PDP chief Mehbooba Mufti on ...  "
      ]
     },
     "execution_count": 154,
     "metadata": {},
     "output_type": "execute_result"
    }
   ],
   "source": [
    "data.sample(10)"
   ]
  },
  {
   "cell_type": "markdown",
   "id": "adjusted-soviet",
   "metadata": {},
   "source": [
    "* 데이터의 형태 확인. 원문과 헤드라인으로 구성 되어 있다."
   ]
  },
  {
   "cell_type": "code",
   "execution_count": 155,
   "id": "infectious-great",
   "metadata": {},
   "outputs": [
    {
     "data": {
      "text/plain": [
       "98401"
      ]
     },
     "execution_count": 155,
     "metadata": {},
     "output_type": "execute_result"
    }
   ],
   "source": [
    "# 전체 데이터 수\n",
    "len(data)"
   ]
  },
  {
   "cell_type": "markdown",
   "id": "union-equipment",
   "metadata": {},
   "source": [
    "### Step 2. 데이터 전처리"
   ]
  },
  {
   "cell_type": "code",
   "execution_count": 156,
   "id": "excessive-torture",
   "metadata": {},
   "outputs": [
    {
     "name": "stdout",
     "output_type": "stream",
     "text": [
      "Text 열에서 중복을 배제한 유일한 샘플의 수 : 98360\n",
      "Headlines 열에서 중복을 배제한 유일한 샘플의 수 : 98280\n"
     ]
    }
   ],
   "source": [
    "# 중복 제외 데이터 수\n",
    "print('Text 열에서 중복을 배제한 유일한 샘플의 수 :', data['text'].nunique())\n",
    "print('Headlines 열에서 중복을 배제한 유일한 샘플의 수 :', data['headlines'].nunique())"
   ]
  },
  {
   "cell_type": "code",
   "execution_count": 157,
   "id": "efficient-juice",
   "metadata": {},
   "outputs": [
    {
     "name": "stdout",
     "output_type": "stream",
     "text": [
      "전체 샘플수 : 98360\n"
     ]
    }
   ],
   "source": [
    "# text column 중복 제거\n",
    "data.drop_duplicates(subset = ['text'], inplace=True)\n",
    "print('전체 샘플수 :', (len(data)))"
   ]
  },
  {
   "cell_type": "code",
   "execution_count": 158,
   "id": "settled-demographic",
   "metadata": {
    "scrolled": true
   },
   "outputs": [
    {
     "name": "stdout",
     "output_type": "stream",
     "text": [
      "headlines    0\n",
      "text         0\n",
      "dtype: int64\n"
     ]
    }
   ],
   "source": [
    "# null 확인\n",
    "print(data.isnull().sum())"
   ]
  },
  {
   "cell_type": "markdown",
   "id": "involved-multiple",
   "metadata": {},
   "source": [
    "* 전체 데이터에서 중복을 제거하고 null 값의 유무 확인"
   ]
  },
  {
   "cell_type": "markdown",
   "id": "economic-excess",
   "metadata": {},
   "source": [
    "#### 정규화 사전"
   ]
  },
  {
   "cell_type": "code",
   "execution_count": 159,
   "id": "freelance-stack",
   "metadata": {},
   "outputs": [
    {
     "name": "stdout",
     "output_type": "stream",
     "text": [
      "정규화 사전의 수:  120\n"
     ]
    }
   ],
   "source": [
    "# 텍스트 정규화를 위한 정규화 사전 구성\n",
    "contractions = {\"ain't\": \"is not\", \"aren't\": \"are not\",\"can't\": \"cannot\", \"'cause\": \"because\", \"could've\": \"could have\", \"couldn't\": \"could not\",\n",
    "                           \"didn't\": \"did not\",  \"doesn't\": \"does not\", \"don't\": \"do not\", \"hadn't\": \"had not\", \"hasn't\": \"has not\", \"haven't\": \"have not\",\n",
    "                           \"he'd\": \"he would\",\"he'll\": \"he will\", \"he's\": \"he is\", \"how'd\": \"how did\", \"how'd'y\": \"how do you\", \"how'll\": \"how will\", \"how's\": \"how is\",\n",
    "                           \"I'd\": \"I would\", \"I'd've\": \"I would have\", \"I'll\": \"I will\", \"I'll've\": \"I will have\",\"I'm\": \"I am\", \"I've\": \"I have\", \"i'd\": \"i would\",\n",
    "                           \"i'd've\": \"i would have\", \"i'll\": \"i will\",  \"i'll've\": \"i will have\",\"i'm\": \"i am\", \"i've\": \"i have\", \"isn't\": \"is not\", \"it'd\": \"it would\",\n",
    "                           \"it'd've\": \"it would have\", \"it'll\": \"it will\", \"it'll've\": \"it will have\",\"it's\": \"it is\", \"let's\": \"let us\", \"ma'am\": \"madam\",\n",
    "                           \"mayn't\": \"may not\", \"might've\": \"might have\",\"mightn't\": \"might not\",\"mightn't've\": \"might not have\", \"must've\": \"must have\",\n",
    "                           \"mustn't\": \"must not\", \"mustn't've\": \"must not have\", \"needn't\": \"need not\", \"needn't've\": \"need not have\",\"o'clock\": \"of the clock\",\n",
    "                           \"oughtn't\": \"ought not\", \"oughtn't've\": \"ought not have\", \"shan't\": \"shall not\", \"sha'n't\": \"shall not\", \"shan't've\": \"shall not have\",\n",
    "                           \"she'd\": \"she would\", \"she'd've\": \"she would have\", \"she'll\": \"she will\", \"she'll've\": \"she will have\", \"she's\": \"she is\",\n",
    "                           \"should've\": \"should have\", \"shouldn't\": \"should not\", \"shouldn't've\": \"should not have\", \"so've\": \"so have\",\"so's\": \"so as\",\n",
    "                           \"this's\": \"this is\",\"that'd\": \"that would\", \"that'd've\": \"that would have\", \"that's\": \"that is\", \"there'd\": \"there would\",\n",
    "                           \"there'd've\": \"there would have\", \"there's\": \"there is\", \"here's\": \"here is\",\"they'd\": \"they would\", \"they'd've\": \"they would have\",\n",
    "                           \"they'll\": \"they will\", \"they'll've\": \"they will have\", \"they're\": \"they are\", \"they've\": \"they have\", \"to've\": \"to have\",\n",
    "                           \"wasn't\": \"was not\", \"we'd\": \"we would\", \"we'd've\": \"we would have\", \"we'll\": \"we will\", \"we'll've\": \"we will have\", \"we're\": \"we are\",\n",
    "                           \"we've\": \"we have\", \"weren't\": \"were not\", \"what'll\": \"what will\", \"what'll've\": \"what will have\", \"what're\": \"what are\",\n",
    "                           \"what's\": \"what is\", \"what've\": \"what have\", \"when's\": \"when is\", \"when've\": \"when have\", \"where'd\": \"where did\", \"where's\": \"where is\",\n",
    "                           \"where've\": \"where have\", \"who'll\": \"who will\", \"who'll've\": \"who will have\", \"who's\": \"who is\", \"who've\": \"who have\",\n",
    "                           \"why's\": \"why is\", \"why've\": \"why have\", \"will've\": \"will have\", \"won't\": \"will not\", \"won't've\": \"will not have\",\n",
    "                           \"would've\": \"would have\", \"wouldn't\": \"would not\", \"wouldn't've\": \"would not have\", \"y'all\": \"you all\",\n",
    "                           \"y'all'd\": \"you all would\",\"y'all'd've\": \"you all would have\",\"y'all're\": \"you all are\",\"y'all've\": \"you all have\",\n",
    "                           \"you'd\": \"you would\", \"you'd've\": \"you would have\", \"you'll\": \"you will\", \"you'll've\": \"you will have\",\n",
    "                           \"you're\": \"you are\", \"you've\": \"you have\"}\n",
    "\n",
    "print(\"정규화 사전의 수: \", len(contractions))"
   ]
  },
  {
   "cell_type": "markdown",
   "id": "stuck-conviction",
   "metadata": {},
   "source": [
    "* 연산 속도를 높이기 위한 정규화 사전 생성. 문장의 형식을 통일화 시킨다"
   ]
  },
  {
   "cell_type": "markdown",
   "id": "centered-huntington",
   "metadata": {},
   "source": [
    "#### 불용어 확인, 제거"
   ]
  },
  {
   "cell_type": "code",
   "execution_count": 160,
   "id": "banner-bubble",
   "metadata": {},
   "outputs": [
    {
     "name": "stdout",
     "output_type": "stream",
     "text": [
      "불용어 개수 : 179\n",
      "['i', 'me', 'my', 'myself', 'we', 'our', 'ours', 'ourselves', 'you', \"you're\", \"you've\", \"you'll\", \"you'd\", 'your', 'yours', 'yourself', 'yourselves', 'he', 'him', 'his', 'himself', 'she', \"she's\", 'her', 'hers', 'herself', 'it', \"it's\", 'its', 'itself', 'they', 'them', 'their', 'theirs', 'themselves', 'what', 'which', 'who', 'whom', 'this', 'that', \"that'll\", 'these', 'those', 'am', 'is', 'are', 'was', 'were', 'be', 'been', 'being', 'have', 'has', 'had', 'having', 'do', 'does', 'did', 'doing', 'a', 'an', 'the', 'and', 'but', 'if', 'or', 'because', 'as', 'until', 'while', 'of', 'at', 'by', 'for', 'with', 'about', 'against', 'between', 'into', 'through', 'during', 'before', 'after', 'above', 'below', 'to', 'from', 'up', 'down', 'in', 'out', 'on', 'off', 'over', 'under', 'again', 'further', 'then', 'once', 'here', 'there', 'when', 'where', 'why', 'how', 'all', 'any', 'both', 'each', 'few', 'more', 'most', 'other', 'some', 'such', 'no', 'nor', 'not', 'only', 'own', 'same', 'so', 'than', 'too', 'very', 's', 't', 'can', 'will', 'just', 'don', \"don't\", 'should', \"should've\", 'now', 'd', 'll', 'm', 'o', 're', 've', 'y', 'ain', 'aren', \"aren't\", 'couldn', \"couldn't\", 'didn', \"didn't\", 'doesn', \"doesn't\", 'hadn', \"hadn't\", 'hasn', \"hasn't\", 'haven', \"haven't\", 'isn', \"isn't\", 'ma', 'mightn', \"mightn't\", 'mustn', \"mustn't\", 'needn', \"needn't\", 'shan', \"shan't\", 'shouldn', \"shouldn't\", 'wasn', \"wasn't\", 'weren', \"weren't\", 'won', \"won't\", 'wouldn', \"wouldn't\"]\n"
     ]
    }
   ],
   "source": [
    "# 불용어 (stopwords) 확인\n",
    "print('불용어 개수 :', len(stopwords.words('english') ))\n",
    "print(stopwords.words('english'))"
   ]
  },
  {
   "cell_type": "code",
   "execution_count": 161,
   "id": "cross-progressive",
   "metadata": {},
   "outputs": [],
   "source": [
    "# 데이터 전처리 함수\n",
    "def preprocess_sentence(sentence, remove_stopwords=True):\n",
    "    sentence = sentence.lower() # 텍스트 소문자화\n",
    "    sentence = BeautifulSoup(sentence, \"lxml\").text # <br />, <a href = ...> 등의 html 태그 제거\n",
    "    sentence = re.sub(r'\\([^)]*\\)', '', sentence) # 괄호로 닫힌 문자열 (...) 제거 Ex) my husband (and myself!) for => my husband for\n",
    "    sentence = re.sub('\"','', sentence) # 쌍따옴표 \" 제거\n",
    "    sentence = ' '.join([contractions[t] if t in contractions else t for t in sentence.split(\" \")]) # 약어 정규화\n",
    "    sentence = re.sub(r\"'s\\b\",\"\", sentence) # 소유격 제거. Ex) roland's -> roland\n",
    "    sentence = re.sub(\"[^a-zA-Z]\", \" \", sentence) # 영어 외 문자(숫자, 특수문자 등) 공백으로 변환\n",
    "    sentence = re.sub('[m]{2,}', 'mm', sentence) # m이 3개 이상이면 2개로 변경. Ex) ummmmmmm yeah -> umm yeah\n",
    "    \n",
    "    # 불용어 제거 (Text)\n",
    "    if remove_stopwords:\n",
    "        tokens = ' '.join(word for word in sentence.split() if not word in stopwords.words('english') if len(word) > 1)\n",
    "    # 불용어 미제거 (Summary)\n",
    "    else:\n",
    "        tokens = ' '.join(word for word in sentence.split() if len(word) > 1)\n",
    "    return tokens"
   ]
  },
  {
   "cell_type": "code",
   "execution_count": 162,
   "id": "micro-hearts",
   "metadata": {},
   "outputs": [
    {
     "name": "stdout",
     "output_type": "stream",
     "text": [
      "everything bought great infact ordered twice third ordered wasfor mother father\n",
      "great way to start the day\n"
     ]
    }
   ],
   "source": [
    "# 데이터 전처리 함수 작동 확인\n",
    "temp_text = 'Everything I bought was great, infact I ordered twice and the third ordered was<br />for my mother and father.'\n",
    "temp_summary = 'Great way to start (or finish) the day!!!'\n",
    "\n",
    "print(preprocess_sentence(temp_text))\n",
    "print(preprocess_sentence(temp_summary, False))  # 불용어를 제거하지 않습니다."
   ]
  },
  {
   "cell_type": "markdown",
   "id": "missing-naples",
   "metadata": {},
   "source": [
    "* 각 문장에 대한 각종 전처리를 진행. 임의의 텍스트를 통한 정상 처리 여부 확인"
   ]
  },
  {
   "cell_type": "code",
   "execution_count": 163,
   "id": "wireless-doubt",
   "metadata": {},
   "outputs": [
    {
     "name": "stdout",
     "output_type": "stream",
     "text": [
      "177.30295276641846  seconds\n",
      "['saurav kant alumnus upgrad iiit pg program machine learning artificial intelligence sr systems engineer infosys almost years work experience program upgrad degree career support helped transition data scientist tech mahindra salary hike upgrad online power learning powered lakh careers'\n",
      " 'kunal shah credit card bill payment platform cred gave users chance win free food swiggy one year pranav kaushik delhi techie bagged reward spending cred coins users get one cred coin per rupee bill paid used avail rewards brands like ixigo bookmyshow ubereats cult fit'\n",
      " 'new zealand defeated india wickets fourth odi hamilton thursday win first match five match odi series india lost international match rohit sharma captaincy consecutive victories dating back march match witnessed india getting seventh lowest total odi cricket history'\n",
      " ...\n",
      " 'according reports new version science fiction film matrix development michael jordan reportedly play lead role film screenwriter zak penn talks write script film reports added actor keanu reeves starred original film followed two sequels'\n",
      " 'new music video shows rapper snoop dogg aiming toy gun clown character parodying us president donald trump video also shows tv airing news conference headline ronald klump wants deport doggs airing live clown house video remixed version song lavender'\n",
      " 'madhesi morcha alliance seven political parties withdrawn support pm pushpa kamal dahal led nepal government failed meet seven day ultimatum fulfil demands including endorsement revised constitution amendment bill morcha seats parliament despite withdrawal support immediate threat government']\n",
      "6.067165851593018  seconds\n",
      "['upgrad learner switches to career in ml al with salary hike'\n",
      " 'delhi techie wins free food from swiggy for one year on cred'\n",
      " 'new zealand end rohit sharma led india match winning streak' ...\n",
      " 'the matrix film to get reboot reports'\n",
      " 'snoop dogg aims gun at clown dressed as trump in new video'\n",
      " 'madhesi morcha withdraws support to nepalese government']\n"
     ]
    }
   ],
   "source": [
    "import multiprocessing as mp   # 멀티 프로세싱으로 전처리 속도를 획기적으로 줄여봅시다\n",
    "from multiprocessing import Pool\n",
    "import numpy as np\n",
    "import time\n",
    "from functools import partial  # map을 할 때 함수에 여러 인자를 넣어줄 수 있도록 합니다\n",
    "\n",
    "start = time.time()\n",
    "\n",
    "# num_cores 만큼 쪼개진 데이터를 전처리하여 반환합니다\n",
    "def appendTexts(sentences, remove_stopwords):\n",
    "  texts = []\n",
    "  for s in sentences:\n",
    "    texts += preprocess_sentence(s, remove_stopwords),\n",
    "  return texts\n",
    "\n",
    "def preprocess_data(data, remove_stopwords=True):\n",
    "  start_time = time.time()\n",
    "  num_cores = mp.cpu_count()  # 컴퓨터의 코어 수를 구합니다\n",
    "\n",
    "  text_data_split = np.array_split(data, num_cores)  # 코어 수만큼 데이터를 배분하여 병렬적으로 처리할 수 있게 합니다\n",
    "  pool = Pool(num_cores)\n",
    "\n",
    "  processed_data = np.concatenate(pool.map(partial(appendTexts, remove_stopwords=remove_stopwords), text_data_split))  # 각자 작업한 데이터를 하나로 합쳐줍니다\n",
    "  pool.close()\n",
    "  pool.join()\n",
    "  print(time.time() - start_time, \" seconds\")\n",
    "  return processed_data\n",
    "\n",
    "# text 전처리\n",
    "clean_text = preprocess_data(data['text'])\n",
    "print(clean_text)\n",
    "\n",
    "# headlines 전처리\n",
    "clean_summary = preprocess_data(data['headlines'], remove_stopwords=False)\n",
    "print(clean_summary)"
   ]
  },
  {
   "cell_type": "code",
   "execution_count": 164,
   "id": "welcome-cinema",
   "metadata": {},
   "outputs": [],
   "source": [
    "# 기존의 data를 전처리 된 data로 치환\n",
    "data['text'] = clean_text\n",
    "data['headlines'] = clean_summary\n",
    "\n",
    "# 빈 값을 Null 값으로 변환\n",
    "data.replace('', np.nan, inplace=True)"
   ]
  },
  {
   "cell_type": "code",
   "execution_count": 165,
   "id": "careful-analysis",
   "metadata": {},
   "outputs": [
    {
     "data": {
      "text/plain": [
       "headlines    0\n",
       "text         0\n",
       "dtype: int64"
      ]
     },
     "execution_count": 165,
     "metadata": {},
     "output_type": "execute_result"
    }
   ],
   "source": [
    "# null 값 재 확인\n",
    "data.isnull().sum()"
   ]
  },
  {
   "cell_type": "code",
   "execution_count": 166,
   "id": "loved-arkansas",
   "metadata": {},
   "outputs": [
    {
     "name": "stdout",
     "output_type": "stream",
     "text": [
      "전체 샘플수 : 98360\n"
     ]
    }
   ],
   "source": [
    "data.dropna(axis=0, inplace=True)\n",
    "print('전체 샘플수 :', (len(data)))"
   ]
  },
  {
   "cell_type": "markdown",
   "id": "published-commonwealth",
   "metadata": {},
   "source": [
    "* 불용어 제거 및 각종 처리 된 문장의 null 값 재확인. 전체 샘플수 재확인"
   ]
  },
  {
   "cell_type": "code",
   "execution_count": 167,
   "id": "altered-mathematics",
   "metadata": {},
   "outputs": [
    {
     "name": "stdout",
     "output_type": "stream",
     "text": [
      "텍스트의 최소 길이 : 1\n",
      "텍스트의 최대 길이 : 60\n",
      "텍스트의 평균 길이 : 35.09968483123221\n",
      "헤드라인의 최소 길이 : 1\n",
      "헤드라인의 최대 길이 : 16\n",
      "헤드라인의 평균 길이 : 9.299532330215534\n"
     ]
    },
    {
     "data": {
      "image/png": "[encoded data removed]",
      "text/plain": [
       "<Figure size 432x288 with 2 Axes>"
      ]
     },
     "metadata": {
      "needs_background": "light"
     },
     "output_type": "display_data"
    },
    {
     "data": {
      "image/png": "[encoded data removed]",
      "text/plain": [
       "<Figure size 432x288 with 1 Axes>"
      ]
     },
     "metadata": {
      "needs_background": "light"
     },
     "output_type": "display_data"
    },
    {
     "data": {
      "image/png": "[encoded data removed]",
      "text/plain": [
       "<Figure size 432x288 with 1 Axes>"
      ]
     },
     "metadata": {
      "needs_background": "light"
     },
     "output_type": "display_data"
    }
   ],
   "source": [
    "# 길이 분포 출력\n",
    "import matplotlib.pyplot as plt\n",
    "\n",
    "text_len = [len(s.split()) for s in data['text']]\n",
    "headlines_len = [len(s.split()) for s in data['headlines']]\n",
    "\n",
    "print('텍스트의 최소 길이 : {}'.format(np.min(text_len)))\n",
    "print('텍스트의 최대 길이 : {}'.format(np.max(text_len)))\n",
    "print('텍스트의 평균 길이 : {}'.format(np.mean(text_len)))\n",
    "print('헤드라인의 최소 길이 : {}'.format(np.min(headlines_len)))\n",
    "print('헤드라인의 최대 길이 : {}'.format(np.max(headlines_len)))\n",
    "print('헤드라인의 평균 길이 : {}'.format(np.mean(headlines_len)))\n",
    "\n",
    "plt.subplot(1,2,1)\n",
    "plt.boxplot(headlines_len)\n",
    "plt.title('Headlines')\n",
    "plt.subplot(1,2,2)\n",
    "plt.boxplot(text_len)\n",
    "plt.title('Text')\n",
    "plt.tight_layout()\n",
    "plt.show()\n",
    "\n",
    "plt.title('Headlines')\n",
    "plt.hist(headlines_len, bins = 40)\n",
    "plt.xlabel('length of samples')\n",
    "plt.ylabel('number of samples')\n",
    "plt.show()\n",
    "\n",
    "plt.title('Text')\n",
    "plt.hist(text_len, bins = 40)\n",
    "plt.xlabel('length of samples')\n",
    "plt.ylabel('number of samples')\n",
    "plt.show()"
   ]
  },
  {
   "cell_type": "markdown",
   "id": "italian-narrow",
   "metadata": {},
   "source": [
    "* sample들의 길이가 정규분포의 형태를 띄고, 크게 벗어나는 값이 없어서 사용할 데이터의 길이를 제한하지 않고 그대로 사용하였다."
   ]
  },
  {
   "cell_type": "code",
   "execution_count": 168,
   "id": "headed-paragraph",
   "metadata": {
    "scrolled": true
   },
   "outputs": [
    {
     "data": {
      "text/html": [
       "<div>\n",
       "<style scoped>\n",
       "    .dataframe tbody tr th:only-of-type {\n",
       "        vertical-align: middle;\n",
       "    }\n",
       "\n",
       "    .dataframe tbody tr th {\n",
       "        vertical-align: top;\n",
       "    }\n",
       "\n",
       "    .dataframe thead th {\n",
       "        text-align: right;\n",
       "    }\n",
       "</style>\n",
       "<table border=\"1\" class=\"dataframe\">\n",
       "  <thead>\n",
       "    <tr style=\"text-align: right;\">\n",
       "      <th></th>\n",
       "      <th>headlines</th>\n",
       "      <th>text</th>\n",
       "      <th>decoder_input</th>\n",
       "      <th>decoder_target</th>\n",
       "    </tr>\n",
       "  </thead>\n",
       "  <tbody>\n",
       "    <tr>\n",
       "      <th>0</th>\n",
       "      <td>upgrad learner switches to career in ml al wit...</td>\n",
       "      <td>saurav kant alumnus upgrad iiit pg program mac...</td>\n",
       "      <td>sostoken upgrad learner switches to career in ...</td>\n",
       "      <td>upgrad learner switches to career in ml al wit...</td>\n",
       "    </tr>\n",
       "    <tr>\n",
       "      <th>1</th>\n",
       "      <td>delhi techie wins free food from swiggy for on...</td>\n",
       "      <td>kunal shah credit card bill payment platform c...</td>\n",
       "      <td>sostoken delhi techie wins free food from swig...</td>\n",
       "      <td>delhi techie wins free food from swiggy for on...</td>\n",
       "    </tr>\n",
       "    <tr>\n",
       "      <th>2</th>\n",
       "      <td>new zealand end rohit sharma led india match w...</td>\n",
       "      <td>new zealand defeated india wickets fourth odi ...</td>\n",
       "      <td>sostoken new zealand end rohit sharma led indi...</td>\n",
       "      <td>new zealand end rohit sharma led india match w...</td>\n",
       "    </tr>\n",
       "    <tr>\n",
       "      <th>3</th>\n",
       "      <td>aegon life iterm insurance plan helps customer...</td>\n",
       "      <td>aegon life iterm insurance plan customers enjo...</td>\n",
       "      <td>sostoken aegon life iterm insurance plan helps...</td>\n",
       "      <td>aegon life iterm insurance plan helps customer...</td>\n",
       "    </tr>\n",
       "    <tr>\n",
       "      <th>4</th>\n",
       "      <td>have known hirani for yrs what if metoo claims...</td>\n",
       "      <td>speaking sexual harassment allegations rajkuma...</td>\n",
       "      <td>sostoken have known hirani for yrs what if met...</td>\n",
       "      <td>have known hirani for yrs what if metoo claims...</td>\n",
       "    </tr>\n",
       "  </tbody>\n",
       "</table>\n",
       "</div>"
      ],
      "text/plain": [
       "                                           headlines  \\\n",
       "0  upgrad learner switches to career in ml al wit...   \n",
       "1  delhi techie wins free food from swiggy for on...   \n",
       "2  new zealand end rohit sharma led india match w...   \n",
       "3  aegon life iterm insurance plan helps customer...   \n",
       "4  have known hirani for yrs what if metoo claims...   \n",
       "\n",
       "                                                text  \\\n",
       "0  saurav kant alumnus upgrad iiit pg program mac...   \n",
       "1  kunal shah credit card bill payment platform c...   \n",
       "2  new zealand defeated india wickets fourth odi ...   \n",
       "3  aegon life iterm insurance plan customers enjo...   \n",
       "4  speaking sexual harassment allegations rajkuma...   \n",
       "\n",
       "                                       decoder_input  \\\n",
       "0  sostoken upgrad learner switches to career in ...   \n",
       "1  sostoken delhi techie wins free food from swig...   \n",
       "2  sostoken new zealand end rohit sharma led indi...   \n",
       "3  sostoken aegon life iterm insurance plan helps...   \n",
       "4  sostoken have known hirani for yrs what if met...   \n",
       "\n",
       "                                      decoder_target  \n",
       "0  upgrad learner switches to career in ml al wit...  \n",
       "1  delhi techie wins free food from swiggy for on...  \n",
       "2  new zealand end rohit sharma led india match w...  \n",
       "3  aegon life iterm insurance plan helps customer...  \n",
       "4  have known hirani for yrs what if metoo claims...  "
      ]
     },
     "execution_count": 168,
     "metadata": {},
     "output_type": "execute_result"
    }
   ],
   "source": [
    "# 요약 데이터에는 시작 토큰과 종료 토큰을 추가한다.\n",
    "data['decoder_input'] = data['headlines'].apply(lambda x : 'sostoken '+ x)\n",
    "data['decoder_target'] = data['headlines'].apply(lambda x : x + ' eostoken')\n",
    "data.head()"
   ]
  },
  {
   "cell_type": "markdown",
   "id": "several-fossil",
   "metadata": {},
   "source": [
    "* 'decoder_input'의 앞에 'sostoken' 을 추가, 'decoder_target'의 끝에는 'eostoken'을 추가"
   ]
  },
  {
   "cell_type": "markdown",
   "id": "korean-airline",
   "metadata": {},
   "source": [
    "#### Train, Test set 분리"
   ]
  },
  {
   "cell_type": "code",
   "execution_count": 169,
   "id": "structured-thought",
   "metadata": {},
   "outputs": [],
   "source": [
    "# numpy 형태로 변경\n",
    "encoder_input = np.array(data['text']) # 인코더의 입력\n",
    "decoder_input = np.array(data['decoder_input']) # 디코더의 입력\n",
    "decoder_target = np.array(data['decoder_target']) # 디코더의 레이블"
   ]
  },
  {
   "cell_type": "code",
   "execution_count": 170,
   "id": "bronze-protest",
   "metadata": {},
   "outputs": [
    {
     "name": "stdout",
     "output_type": "stream",
     "text": [
      "(98360,)\n",
      "(98360,)\n",
      "(98360,)\n"
     ]
    }
   ],
   "source": [
    "# shape 확인\n",
    "print(encoder_input.shape)\n",
    "print(decoder_input.shape)\n",
    "print(decoder_target.shape)"
   ]
  },
  {
   "cell_type": "code",
   "execution_count": 171,
   "id": "every-imperial",
   "metadata": {},
   "outputs": [
    {
     "name": "stdout",
     "output_type": "stream",
     "text": [
      "[25015 88124 89348 ... 67353 22171 70491]\n",
      "98360\n"
     ]
    }
   ],
   "source": [
    "# 랜덤으로 값을 배분하기 위한 shuffle 진행\n",
    "indices = np.arange(encoder_input.shape[0])\n",
    "np.random.shuffle(indices)\n",
    "print(indices)\n",
    "print(len(indices))"
   ]
  },
  {
   "cell_type": "code",
   "execution_count": 172,
   "id": "forty-delaware",
   "metadata": {},
   "outputs": [],
   "source": [
    "# shuffle 된 값으로 치환\n",
    "encoder_input = encoder_input[indices]\n",
    "decoder_input = decoder_input[indices]\n",
    "decoder_target = decoder_target[indices]"
   ]
  },
  {
   "cell_type": "code",
   "execution_count": 173,
   "id": "young-knowing",
   "metadata": {},
   "outputs": [
    {
     "name": "stdout",
     "output_type": "stream",
     "text": [
      "테스트 데이터의 수 : 19672\n",
      "훈련 데이터의 개수 : 78688\n",
      "훈련 레이블의 개수 : 78688\n",
      "테스트 데이터의 개수 : 19672\n",
      "테스트 레이블의 개수 : 19672\n"
     ]
    }
   ],
   "source": [
    "# 'train : test = 8 : 2' 비율로  set 구성\n",
    "n_of_val = int(len(encoder_input)*0.2)\n",
    "print('테스트 데이터의 수 :', n_of_val)\n",
    "\n",
    "# train set\n",
    "encoder_input_train = encoder_input[:-n_of_val]\n",
    "decoder_input_train = decoder_input[:-n_of_val]\n",
    "decoder_target_train = decoder_target[:-n_of_val]\n",
    "\n",
    "# test set\n",
    "encoder_input_test = encoder_input[-n_of_val:]\n",
    "decoder_input_test = decoder_input[-n_of_val:]\n",
    "decoder_target_test = decoder_target[-n_of_val:]\n",
    "\n",
    "print('훈련 데이터의 개수 :', len(encoder_input_train))\n",
    "print('훈련 레이블의 개수 :', len(decoder_input_train))\n",
    "print('테스트 데이터의 개수 :', len(encoder_input_test))\n",
    "print('테스트 레이블의 개수 :', len(decoder_input_test))"
   ]
  },
  {
   "cell_type": "markdown",
   "id": "functioning-comment",
   "metadata": {},
   "source": [
    "#### 단어집합 (vocabulary) 만들기 : Tokenization"
   ]
  },
  {
   "cell_type": "code",
   "execution_count": 174,
   "id": "animated-april",
   "metadata": {},
   "outputs": [],
   "source": [
    "# 'Text' 에 대한 처리 시작\n",
    "src_tokenizer = Tokenizer() # 토크나이저 정의\n",
    "src_tokenizer.fit_on_texts(encoder_input_train) # 입력된 데이터로부터 단어 집합 생성"
   ]
  },
  {
   "cell_type": "code",
   "execution_count": 175,
   "id": "signed-kennedy",
   "metadata": {
    "scrolled": true
   },
   "outputs": [
    {
     "data": {
      "text/plain": [
       "[('said', 1),\n",
       " ('india', 2),\n",
       " ('year', 3),\n",
       " ('added', 4),\n",
       " ('us', 5),\n",
       " ('also', 6),\n",
       " ('first', 7),\n",
       " ('government', 8),\n",
       " ('police', 9),\n",
       " ('people', 10)]"
      ]
     },
     "execution_count": 175,
     "metadata": {},
     "output_type": "execute_result"
    }
   ],
   "source": [
    "# 토큰화가 잘 되었는지 확인\n",
    "list(src_tokenizer.word_index.items())[:10]"
   ]
  },
  {
   "cell_type": "markdown",
   "id": "mobile-relief",
   "metadata": {},
   "source": [
    "* 전체 중에 가장 앞쪽의 10개 정도만 출력해서 key, value 값을 확인 해 보면 정상적으로 입력 되어 있음을 알 수 있다."
   ]
  },
  {
   "cell_type": "code",
   "execution_count": 26,
   "id": "stock-shepherd",
   "metadata": {
    "scrolled": true
   },
   "outputs": [
    {
     "name": "stdout",
     "output_type": "stream",
     "text": [
      "단어 집합(vocabulary)의 크기 : 69561\n",
      "등장 빈도가 6번 이하인 희귀 단어의 수: 47377\n",
      "단어 집합에서 희귀 단어를 제외시킬 경우의 단어 집합의 크기 22184\n",
      "단어 집합에서 희귀 단어의 비율: 68.10856658184903\n",
      "전체 등장 빈도에서 희귀 단어 등장 빈도 비율: 3.485688079438317\n"
     ]
    }
   ],
   "source": [
    "# 빈도수에 따른 단어의 중요도 확인\n",
    "\n",
    "threshold = 7 # 빈도수 제한 : 7 미만\n",
    "total_cnt = len(src_tokenizer.word_index) # 단어의 수\n",
    "rare_cnt = 0 # 등장 빈도수가 threshold보다 작은 단어의 개수를 카운트\n",
    "total_freq = 0 # 훈련 데이터의 전체 단어 빈도수 총 합\n",
    "rare_freq = 0 # 등장 빈도수가 threshold보다 작은 단어의 등장 빈도수의 총 합\n",
    "\n",
    "# 단어와 빈도수의 쌍(pair)을 key와 value로 받는다.\n",
    "for key, value in src_tokenizer.word_counts.items():\n",
    "    total_freq = total_freq + value\n",
    "\n",
    "    # 단어의 등장 빈도수가 threshold보다 작으면\n",
    "    if(value < threshold):\n",
    "        rare_cnt = rare_cnt + 1\n",
    "        rare_freq = rare_freq + value\n",
    "\n",
    "print('단어 집합(vocabulary)의 크기 :', total_cnt)\n",
    "print('등장 빈도가 %s번 이하인 희귀 단어의 수: %s'%(threshold - 1, rare_cnt))\n",
    "print('단어 집합에서 희귀 단어를 제외시킬 경우의 단어 집합의 크기 %s'%(total_cnt - rare_cnt))\n",
    "print(\"단어 집합에서 희귀 단어의 비율:\", (rare_cnt / total_cnt)*100)\n",
    "print(\"전체 등장 빈도에서 희귀 단어 등장 빈도 비율:\", (rare_freq / total_freq)*100)"
   ]
  },
  {
   "cell_type": "markdown",
   "id": "fifth-migration",
   "metadata": {},
   "source": [
    "* 단어 집합에서는 희귀 단어의 비율이 70% 정도를 차지하는 반면 전체 단어의 등장 빈도수 대비 희귀 단어는 3.5% 정도 밖에 되지 않기 때문에 제거하고 단어집합의 크기를 대폭 낮추는 방향으로 진행하도록 한다."
   ]
  },
  {
   "cell_type": "code",
   "execution_count": 27,
   "id": "heated-grocery",
   "metadata": {},
   "outputs": [],
   "source": [
    "src_vocab = 22000 # 단어 집합크기 제한\n",
    "src_tokenizer = Tokenizer(num_words=src_vocab) # 단어 집합의 크기를 22,000로 제한\n",
    "src_tokenizer.fit_on_texts(encoder_input_train) # 단어 집합 재생성."
   ]
  },
  {
   "cell_type": "markdown",
   "id": "cloudy-tomorrow",
   "metadata": {},
   "source": [
    "* 단어 집합의 크기는 희귀 단어가 제거 됐을 때의 단어 집합 크기를 고려하여 22000개로 제한한다"
   ]
  },
  {
   "cell_type": "code",
   "execution_count": 28,
   "id": "civic-string",
   "metadata": {},
   "outputs": [
    {
     "name": "stdout",
     "output_type": "stream",
     "text": [
      "[[316, 751, 14817, 1259, 1304, 1493, 1718, 1, 1259, 318, 2270, 1352, 201, 215, 1493, 1, 4653, 3544, 5499, 1390, 165, 10738, 4654, 1, 6, 14817, 1259, 594, 793, 1133, 273, 779], [549, 1218, 52, 15383, 1194, 354, 142, 867, 312, 473, 1066, 197, 91, 8874, 846, 2700, 2088, 145, 197, 8131, 15383, 1369, 243, 696, 71, 799, 1260, 4503, 10034, 4503, 1476, 672, 197, 6, 8131, 15383, 110, 6402, 5882, 12964, 13796, 1369], [5, 16, 126, 44, 1183, 14818, 15384, 40, 371, 5235, 3020, 10035, 244, 1756, 16, 233, 14284, 674, 983, 586, 278, 16700, 672, 233, 1756, 16, 13797, 15384, 1, 10035, 2097, 1050, 10486, 339, 44, 529]]\n"
     ]
    }
   ],
   "source": [
    "# 텍스트 시퀀스를 정수 시퀀스로 변환\n",
    "encoder_input_train = src_tokenizer.texts_to_sequences(encoder_input_train) \n",
    "encoder_input_test = src_tokenizer.texts_to_sequences(encoder_input_test)\n",
    "\n",
    "# 잘 진행되었는지 샘플 출력\n",
    "print(encoder_input_train[:3])"
   ]
  },
  {
   "cell_type": "code",
   "execution_count": 29,
   "id": "laughing-potter",
   "metadata": {},
   "outputs": [],
   "source": [
    "# 'Headlines' 에 대해 동일하게 처리\n",
    "tar_tokenizer = Tokenizer()\n",
    "tar_tokenizer.fit_on_texts(decoder_input_train)"
   ]
  },
  {
   "cell_type": "code",
   "execution_count": 30,
   "id": "different-vancouver",
   "metadata": {},
   "outputs": [
    {
     "name": "stdout",
     "output_type": "stream",
     "text": [
      "단어 집합(vocabulary)의 크기 : 30070\n",
      "등장 빈도가 6번 이하인 희귀 단어의 수: 20563\n",
      "단어 집합에서 희귀 단어를 제외시킬 경우의 단어 집합의 크기 9507\n",
      "단어 집합에서 희귀 단어의 비율: 68.3837712005321\n",
      "전체 등장 빈도에서 희귀 단어 등장 빈도 비율: 5.309128423328426\n"
     ]
    }
   ],
   "source": [
    "threshold = 7\n",
    "total_cnt = len(tar_tokenizer.word_index) # 단어의 수\n",
    "rare_cnt = 0 # 등장 빈도수가 threshold보다 작은 단어의 개수를 카운트\n",
    "total_freq = 0 # 훈련 데이터의 전체 단어 빈도수 총 합\n",
    "rare_freq = 0 # 등장 빈도수가 threshold보다 작은 단어의 등장 빈도수의 총 합\n",
    "\n",
    "# 단어와 빈도수의 쌍(pair)을 key와 value로 받는다.\n",
    "for key, value in tar_tokenizer.word_counts.items():\n",
    "    total_freq = total_freq + value\n",
    "\n",
    "    # 단어의 등장 빈도수가 threshold보다 작으면\n",
    "    if(value < threshold):\n",
    "        rare_cnt = rare_cnt + 1\n",
    "        rare_freq = rare_freq + value\n",
    "\n",
    "print('단어 집합(vocabulary)의 크기 :', total_cnt)\n",
    "print('등장 빈도가 %s번 이하인 희귀 단어의 수: %s'%(threshold - 1, rare_cnt))\n",
    "print('단어 집합에서 희귀 단어를 제외시킬 경우의 단어 집합의 크기 %s'%(total_cnt - rare_cnt))\n",
    "print(\"단어 집합에서 희귀 단어의 비율:\", (rare_cnt / total_cnt)*100)\n",
    "print(\"전체 등장 빈도에서 희귀 단어 등장 빈도 비율:\", (rare_freq / total_freq)*100)"
   ]
  },
  {
   "cell_type": "markdown",
   "id": "labeled-catch",
   "metadata": {},
   "source": [
    "* 'text'와 마찬가지로 'headlines' 데이터에 대해서도 단어 집합의 크기를 9500으로 재조정한다."
   ]
  },
  {
   "cell_type": "code",
   "execution_count": 31,
   "id": "minus-citizenship",
   "metadata": {},
   "outputs": [],
   "source": [
    "tar_vocab = 9500 # 위의 결과에 따라 설정\n",
    "tar_tokenizer = Tokenizer(num_words=tar_vocab) \n",
    "tar_tokenizer.fit_on_texts(decoder_input_train)\n",
    "tar_tokenizer.fit_on_texts(decoder_target_train)"
   ]
  },
  {
   "cell_type": "code",
   "execution_count": 182,
   "id": "radio-corrections",
   "metadata": {},
   "outputs": [
    {
     "name": "stdout",
     "output_type": "stream",
     "text": [
      "input\n",
      "input  [[1, 9, 141, 143, 6, 859, 463, 1198], [1, 5420, 92, 4, 1224, 52, 2487, 4, 101, 209, 2208], [1, 44, 697, 2970, 7, 158, 1294, 659, 193], [1, 84, 1558, 3331, 5, 2862], [1, 65, 2971, 924, 202, 1008, 1387, 96, 1033]]\n",
      "target\n",
      "decoder  [[9, 141, 143, 6, 859, 463, 1198, 2], [5420, 92, 4, 1224, 52, 2487, 4, 101, 209, 2208, 2], [44, 697, 2970, 7, 158, 1294, 659, 193, 2], [84, 1558, 3331, 5, 2862, 2], [65, 2971, 924, 202, 1008, 1387, 96, 1033, 2]]\n"
     ]
    }
   ],
   "source": [
    "# 텍스트 시퀀스를 정수 시퀀스로 변환\n",
    "decoder_input_train = tar_tokenizer.texts_to_sequences(decoder_input_train) \n",
    "decoder_target_train = tar_tokenizer.texts_to_sequences(decoder_target_train)\n",
    "decoder_input_test = tar_tokenizer.texts_to_sequences(decoder_input_test)\n",
    "decoder_target_test = tar_tokenizer.texts_to_sequences(decoder_target_test)\n",
    "\n",
    "# 잘 변환되었는지 확인\n",
    "print('input')\n",
    "print('input ',decoder_input_train[:5])\n",
    "print('target')\n",
    "print('decoder ',decoder_target_train[:5])"
   ]
  },
  {
   "cell_type": "markdown",
   "id": "committed-circular",
   "metadata": {},
   "source": [
    "* 'input' 에는 1 이 처음에 들어가있고, 'target' 에는 2 가 끝에 들어가 있는 것을 볼 수 있다. 각각 sostoken, eostoken 을 뜻한다."
   ]
  },
  {
   "cell_type": "code",
   "execution_count": 183,
   "id": "uniform-margin",
   "metadata": {},
   "outputs": [
    {
     "name": "stdout",
     "output_type": "stream",
     "text": [
      "삭제할 훈련 데이터의 개수 : 1\n",
      "삭제할 테스트 데이터의 개수 : 0\n"
     ]
    }
   ],
   "source": [
    "# 문장의 길이가 1 인 것들은 'sostoken' or 'eostoken' 만 남은 것이므로 제거\n",
    "drop_train = [index for index, sentence in enumerate(decoder_input_train) if len(sentence) == 1]\n",
    "drop_test = [index for index, sentence in enumerate(decoder_input_test) if len(sentence) == 1]\n",
    "\n",
    "print('삭제할 훈련 데이터의 개수 :', len(drop_train))\n",
    "print('삭제할 테스트 데이터의 개수 :', len(drop_test))"
   ]
  },
  {
   "cell_type": "code",
   "execution_count": 184,
   "id": "fluid-crossing",
   "metadata": {},
   "outputs": [
    {
     "name": "stdout",
     "output_type": "stream",
     "text": [
      "훈련 데이터의 개수 : 78687\n",
      "훈련 레이블의 개수 : 78687\n",
      "테스트 데이터의 개수 : 19672\n",
      "테스트 레이블의 개수 : 19672\n"
     ]
    },
    {
     "name": "stderr",
     "output_type": "stream",
     "text": [
      "/opt/conda/lib/python3.7/site-packages/numpy/core/_asarray.py:83: VisibleDeprecationWarning: Creating an ndarray from ragged nested sequences (which is a list-or-tuple of lists-or-tuples-or ndarrays with different lengths or shapes) is deprecated. If you meant to do this, you must specify 'dtype=object' when creating the ndarray\n",
      "  return array(a, dtype, copy=False, order=order)\n"
     ]
    }
   ],
   "source": [
    "# drop_train, drop_test 에 대한 값을 제거\n",
    "encoder_input_train = np.delete(encoder_input_train, drop_train, axis=0)\n",
    "decoder_input_train = np.delete(decoder_input_train, drop_train, axis=0)\n",
    "decoder_target_train = np.delete(decoder_target_train, drop_train, axis=0)\n",
    "\n",
    "encoder_input_test = np.delete(encoder_input_test, drop_test, axis=0)\n",
    "decoder_input_test = np.delete(decoder_input_test, drop_test, axis=0)\n",
    "decoder_target_test = np.delete(decoder_target_test, drop_test, axis=0)\n",
    "\n",
    "print('훈련 데이터의 개수 :', len(encoder_input_train))\n",
    "print('훈련 레이블의 개수 :', len(decoder_input_train))\n",
    "print('테스트 데이터의 개수 :', len(encoder_input_test))\n",
    "print('테스트 레이블의 개수 :', len(decoder_input_test))"
   ]
  },
  {
   "cell_type": "markdown",
   "id": "premium-greensboro",
   "metadata": {},
   "source": [
    "#### 패딩 추가"
   ]
  },
  {
   "cell_type": "code",
   "execution_count": 185,
   "id": "insured-voluntary",
   "metadata": {},
   "outputs": [],
   "source": [
    "text_max_len = 60\n",
    "headlines_max_len = 16\n",
    "encoder_input_train = pad_sequences(encoder_input_train, maxlen=text_max_len, padding='post')\n",
    "encoder_input_test = pad_sequences(encoder_input_test, maxlen=text_max_len, padding='post')\n",
    "decoder_input_train = pad_sequences(decoder_input_train, maxlen=headlines_max_len, padding='post')\n",
    "decoder_target_train = pad_sequences(decoder_target_train, maxlen=headlines_max_len, padding='post')\n",
    "decoder_input_test = pad_sequences(decoder_input_test, maxlen=headlines_max_len, padding='post')\n",
    "decoder_target_test = pad_sequences(decoder_target_test, maxlen=headlines_max_len, padding='post')"
   ]
  },
  {
   "cell_type": "code",
   "execution_count": 186,
   "id": "monthly-adapter",
   "metadata": {},
   "outputs": [
    {
     "data": {
      "text/plain": [
       "array([[   2, 2433,  733, ...,    0,    0,    0],\n",
       "       [ 211,  353,  196, ...,    0,    0,    0],\n",
       "       [ 536,  137, 1171, ...,    0,    0,    0],\n",
       "       ...,\n",
       "       [ 156,   56,  425, ...,    0,    0,    0],\n",
       "       [2471, 2761, 3906, ...,    0,    0,    0],\n",
       "       [  76,   36, 2310, ...,    0,    0,    0]], dtype=int32)"
      ]
     },
     "execution_count": 186,
     "metadata": {},
     "output_type": "execute_result"
    }
   ],
   "source": [
    "encoder_input_train # 확인"
   ]
  },
  {
   "cell_type": "markdown",
   "id": "considered-folks",
   "metadata": {},
   "source": [
    "* post 에 패딩이 추가 된 것을 확인 할 수 있다."
   ]
  },
  {
   "cell_type": "markdown",
   "id": "minimal-magnitude",
   "metadata": {},
   "source": [
    "#### Model 설계 (Encoder, decoder 설계)"
   ]
  },
  {
   "cell_type": "code",
   "execution_count": 187,
   "id": "reserved-session",
   "metadata": {},
   "outputs": [
    {
     "name": "stdout",
     "output_type": "stream",
     "text": [
      "WARNING:tensorflow:Layer lstm_16 will not use cuDNN kernel since it doesn't meet the cuDNN kernel criteria. It will use generic GPU kernel as fallback when running on GPU\n",
      "WARNING:tensorflow:Layer lstm_17 will not use cuDNN kernel since it doesn't meet the cuDNN kernel criteria. It will use generic GPU kernel as fallback when running on GPU\n",
      "WARNING:tensorflow:Layer lstm_18 will not use cuDNN kernel since it doesn't meet the cuDNN kernel criteria. It will use generic GPU kernel as fallback when running on GPU\n"
     ]
    }
   ],
   "source": [
    "from tensorflow.keras.layers import Input, LSTM, Embedding, Dense, Concatenate\n",
    "from tensorflow.keras.models import Model\n",
    "from tensorflow.keras.callbacks import EarlyStopping, ModelCheckpoint\n",
    "\n",
    "\n",
    "# 인코더 설계 시작\n",
    "embedding_dim = 128\n",
    "hidden_size = 256 # LSTM 의 capacity에 해당(뉴런의 갯수) but 크다고 항상 좋지않다.\n",
    "\n",
    "# 인코더\n",
    "encoder_inputs = Input(shape=(text_max_len,))\n",
    "\n",
    "# 인코더의 임베딩 층\n",
    "enc_emb = Embedding(src_vocab, embedding_dim)(encoder_inputs)\n",
    "\n",
    "# 인코더의 LSTM 1\n",
    "encoder_lstm1 = LSTM(hidden_size, return_sequences=True, return_state=True ,dropout = 0.4, recurrent_dropout = 0.4)\n",
    "encoder_output1, state_h1, state_c1 = encoder_lstm1(enc_emb)\n",
    "\n",
    "# 인코더의 LSTM 2\n",
    "encoder_lstm2 = LSTM(hidden_size, return_sequences=True, return_state=True, dropout=0.4, recurrent_dropout=0.4)\n",
    "encoder_output2, state_h2, state_c2 = encoder_lstm2(encoder_output1)\n",
    "\n",
    "# 인코더의 LSTM 3\n",
    "encoder_lstm3 = LSTM(hidden_size, return_state=True, return_sequences=True, dropout=0.4, recurrent_dropout=0.4)\n",
    "encoder_outputs, state_h, state_c= encoder_lstm3(encoder_output2)"
   ]
  },
  {
   "cell_type": "code",
   "execution_count": 188,
   "id": "domestic-sacrifice",
   "metadata": {},
   "outputs": [
    {
     "name": "stdout",
     "output_type": "stream",
     "text": [
      "WARNING:tensorflow:Layer lstm_19 will not use cuDNN kernel since it doesn't meet the cuDNN kernel criteria. It will use generic GPU kernel as fallback when running on GPU\n"
     ]
    }
   ],
   "source": [
    "# 디코더 설계\n",
    "decoder_inputs = Input(shape=(None,))\n",
    "\n",
    "# 디코더의 임베딩 층\n",
    "dec_emb_layer = Embedding(tar_vocab, embedding_dim)\n",
    "dec_emb = dec_emb_layer(decoder_inputs)\n",
    "\n",
    "# 디코더의 LSTM\n",
    "decoder_lstm = LSTM(hidden_size, return_sequences=True, return_state=True, dropout=0.4, recurrent_dropout=0.2)\n",
    "decoder_outputs, _, _ = decoder_lstm(dec_emb, initial_state=[state_h, state_c])"
   ]
  },
  {
   "cell_type": "code",
   "execution_count": 189,
   "id": "quantitative-brooks",
   "metadata": {},
   "outputs": [
    {
     "name": "stdout",
     "output_type": "stream",
     "text": [
      "Model: \"model_8\"\n",
      "__________________________________________________________________________________________________\n",
      "Layer (type)                    Output Shape         Param #     Connected to                     \n",
      "==================================================================================================\n",
      "input_9 (InputLayer)            [(None, 60)]         0                                            \n",
      "__________________________________________________________________________________________________\n",
      "embedding_8 (Embedding)         (None, 60, 128)      1280000     input_9[0][0]                    \n",
      "__________________________________________________________________________________________________\n",
      "lstm_16 (LSTM)                  [(None, 60, 256), (N 394240      embedding_8[0][0]                \n",
      "__________________________________________________________________________________________________\n",
      "input_10 (InputLayer)           [(None, None)]       0                                            \n",
      "__________________________________________________________________________________________________\n",
      "lstm_17 (LSTM)                  [(None, 60, 256), (N 525312      lstm_16[0][0]                    \n",
      "__________________________________________________________________________________________________\n",
      "embedding_9 (Embedding)         (None, None, 128)    768000      input_10[0][0]                   \n",
      "__________________________________________________________________________________________________\n",
      "lstm_18 (LSTM)                  [(None, 60, 256), (N 525312      lstm_17[0][0]                    \n",
      "__________________________________________________________________________________________________\n",
      "lstm_19 (LSTM)                  [(None, None, 256),  394240      embedding_9[0][0]                \n",
      "                                                                 lstm_18[0][1]                    \n",
      "                                                                 lstm_18[0][2]                    \n",
      "__________________________________________________________________________________________________\n",
      "dense_8 (Dense)                 (None, None, 6000)   1542000     lstm_19[0][0]                    \n",
      "==================================================================================================\n",
      "Total params: 5,429,104\n",
      "Trainable params: 5,429,104\n",
      "Non-trainable params: 0\n",
      "__________________________________________________________________________________________________\n"
     ]
    }
   ],
   "source": [
    "# 디코더의 출력층\n",
    "decoder_softmax_layer = Dense(tar_vocab, activation='softmax')\n",
    "decoder_softmax_outputs = decoder_softmax_layer(decoder_outputs) \n",
    "\n",
    "# 모델 정의\n",
    "model = Model([encoder_inputs, decoder_inputs], decoder_softmax_outputs)\n",
    "model.summary()"
   ]
  },
  {
   "cell_type": "markdown",
   "id": "hazardous-information",
   "metadata": {},
   "source": [
    "* 기본적인 인코더, 디코더를 설정했다"
   ]
  },
  {
   "cell_type": "markdown",
   "id": "hidden-design",
   "metadata": {},
   "source": [
    "### Step 3. Attention 함수 추가"
   ]
  },
  {
   "cell_type": "code",
   "execution_count": 190,
   "id": "conservative-boutique",
   "metadata": {},
   "outputs": [],
   "source": [
    "# Attention 함수 참조\n",
    "urllib.request.urlretrieve(\"https://raw.githubusercontent.com/thushv89/attention_keras/master/src/layers/attention.py\", filename=\"attention.py\")\n",
    "from attention import AttentionLayer"
   ]
  },
  {
   "cell_type": "code",
   "execution_count": 191,
   "id": "tribal-charger",
   "metadata": {},
   "outputs": [
    {
     "name": "stdout",
     "output_type": "stream",
     "text": [
      "Model: \"model_9\"\n",
      "__________________________________________________________________________________________________\n",
      "Layer (type)                    Output Shape         Param #     Connected to                     \n",
      "==================================================================================================\n",
      "input_9 (InputLayer)            [(None, 60)]         0                                            \n",
      "__________________________________________________________________________________________________\n",
      "embedding_8 (Embedding)         (None, 60, 128)      1280000     input_9[0][0]                    \n",
      "__________________________________________________________________________________________________\n",
      "lstm_16 (LSTM)                  [(None, 60, 256), (N 394240      embedding_8[0][0]                \n",
      "__________________________________________________________________________________________________\n",
      "input_10 (InputLayer)           [(None, None)]       0                                            \n",
      "__________________________________________________________________________________________________\n",
      "lstm_17 (LSTM)                  [(None, 60, 256), (N 525312      lstm_16[0][0]                    \n",
      "__________________________________________________________________________________________________\n",
      "embedding_9 (Embedding)         (None, None, 128)    768000      input_10[0][0]                   \n",
      "__________________________________________________________________________________________________\n",
      "lstm_18 (LSTM)                  [(None, 60, 256), (N 525312      lstm_17[0][0]                    \n",
      "__________________________________________________________________________________________________\n",
      "lstm_19 (LSTM)                  [(None, None, 256),  394240      embedding_9[0][0]                \n",
      "                                                                 lstm_18[0][1]                    \n",
      "                                                                 lstm_18[0][2]                    \n",
      "__________________________________________________________________________________________________\n",
      "attention_layer (AttentionLayer ((None, None, 256),  131328      lstm_18[0][0]                    \n",
      "                                                                 lstm_19[0][0]                    \n",
      "__________________________________________________________________________________________________\n",
      "concat_layer (Concatenate)      (None, None, 512)    0           lstm_19[0][0]                    \n",
      "                                                                 attention_layer[0][0]            \n",
      "__________________________________________________________________________________________________\n",
      "dense_9 (Dense)                 (None, None, 6000)   3078000     concat_layer[0][0]               \n",
      "==================================================================================================\n",
      "Total params: 7,096,432\n",
      "Trainable params: 7,096,432\n",
      "Non-trainable params: 0\n",
      "__________________________________________________________________________________________________\n"
     ]
    }
   ],
   "source": [
    "# 어텐션 층(어텐션 함수)\n",
    "attn_layer = AttentionLayer(name='attention_layer')\n",
    "# 인코더와 디코더의 모든 time step의 hidden state를 어텐션 층에 전달하고 결과를 리턴\n",
    "attn_out, attn_states = attn_layer([encoder_outputs, decoder_outputs])\n",
    "\n",
    "# 어텐션의 결과와 디코더의 hidden state들을 연결\n",
    "decoder_concat_input = Concatenate(axis=-1, name='concat_layer')([decoder_outputs, attn_out])\n",
    "\n",
    "# 디코더의 출력층\n",
    "decoder_softmax_layer = Dense(tar_vocab, activation='softmax')\n",
    "decoder_softmax_outputs = decoder_softmax_layer(decoder_concat_input)\n",
    "\n",
    "# 모델 정의\n",
    "model = Model([encoder_inputs, decoder_inputs], decoder_softmax_outputs)\n",
    "model.summary()"
   ]
  },
  {
   "cell_type": "markdown",
   "id": "straight-association",
   "metadata": {},
   "source": [
    "#### Model 훈련"
   ]
  },
  {
   "cell_type": "code",
   "execution_count": 44,
   "id": "sensitive-surfing",
   "metadata": {},
   "outputs": [
    {
     "name": "stdout",
     "output_type": "stream",
     "text": [
      "Epoch 1/50\n",
      "308/308 [==============================] - 306s 958ms/step - loss: 4.6453 - val_loss: 3.9140\n",
      "Epoch 2/50\n",
      "308/308 [==============================] - 299s 972ms/step - loss: 3.8513 - val_loss: 3.5880\n",
      "Epoch 3/50\n",
      "308/308 [==============================] - 297s 965ms/step - loss: 3.5442 - val_loss: 3.4020\n",
      "Epoch 4/50\n",
      "308/308 [==============================] - 297s 965ms/step - loss: 3.3347 - val_loss: 3.2594\n",
      "Epoch 5/50\n",
      "308/308 [==============================] - 295s 959ms/step - loss: 3.1714 - val_loss: 3.1454\n",
      "Epoch 6/50\n",
      "308/308 [==============================] - 293s 951ms/step - loss: 3.0413 - val_loss: 3.0650\n",
      "Epoch 7/50\n",
      "308/308 [==============================] - 289s 939ms/step - loss: 2.9212 - val_loss: 3.0016\n",
      "Epoch 8/50\n",
      "308/308 [==============================] - 290s 940ms/step - loss: 2.8276 - val_loss: 2.9360\n",
      "Epoch 9/50\n",
      "308/308 [==============================] - 292s 949ms/step - loss: 2.7297 - val_loss: 2.8886\n",
      "Epoch 10/50\n",
      "308/308 [==============================] - 290s 941ms/step - loss: 2.6618 - val_loss: 2.8506\n",
      "Epoch 11/50\n",
      "308/308 [==============================] - 291s 946ms/step - loss: 2.5929 - val_loss: 2.8170\n",
      "Epoch 12/50\n",
      "308/308 [==============================] - 294s 954ms/step - loss: 2.5312 - val_loss: 2.7878\n",
      "Epoch 13/50\n",
      "308/308 [==============================] - 291s 946ms/step - loss: 2.4681 - val_loss: 2.7659\n",
      "Epoch 14/50\n",
      "308/308 [==============================] - 292s 949ms/step - loss: 2.4200 - val_loss: 2.7409\n",
      "Epoch 15/50\n",
      "308/308 [==============================] - 291s 944ms/step - loss: 2.3665 - val_loss: 2.7240\n",
      "Epoch 16/50\n",
      "308/308 [==============================] - 294s 954ms/step - loss: 2.3312 - val_loss: 2.7205\n",
      "Epoch 17/50\n",
      "308/308 [==============================] - 292s 947ms/step - loss: 2.2887 - val_loss: 2.7048\n",
      "Epoch 18/50\n",
      "308/308 [==============================] - 292s 948ms/step - loss: 2.2530 - val_loss: 2.6881\n",
      "Epoch 19/50\n",
      "308/308 [==============================] - 292s 949ms/step - loss: 2.2159 - val_loss: 2.6806\n",
      "Epoch 20/50\n",
      "308/308 [==============================] - 293s 950ms/step - loss: 2.1880 - val_loss: 2.6741\n",
      "Epoch 21/50\n",
      "308/308 [==============================] - 293s 951ms/step - loss: 2.1526 - val_loss: 2.6691\n",
      "Epoch 22/50\n",
      "308/308 [==============================] - 292s 947ms/step - loss: 2.1238 - val_loss: 2.6633\n",
      "Epoch 23/50\n",
      "308/308 [==============================] - 293s 952ms/step - loss: 2.1006 - val_loss: 2.6547\n",
      "Epoch 24/50\n",
      "308/308 [==============================] - 294s 955ms/step - loss: 2.0729 - val_loss: 2.6504\n",
      "Epoch 25/50\n",
      "308/308 [==============================] - 293s 951ms/step - loss: 2.0470 - val_loss: 2.6493\n",
      "Epoch 26/50\n",
      "308/308 [==============================] - 291s 946ms/step - loss: 2.0252 - val_loss: 2.6461\n",
      "Epoch 27/50\n",
      "308/308 [==============================] - 291s 946ms/step - loss: 2.0017 - val_loss: 2.6394\n",
      "Epoch 28/50\n",
      "308/308 [==============================] - 291s 944ms/step - loss: 1.9847 - val_loss: 2.6421\n",
      "Epoch 29/50\n",
      "308/308 [==============================] - 293s 952ms/step - loss: 1.9643 - val_loss: 2.6416\n",
      "Epoch 00029: early stopping\n"
     ]
    }
   ],
   "source": [
    "model.compile(optimizer='rmsprop', loss='sparse_categorical_crossentropy')\n",
    "es = EarlyStopping(monitor='val_loss', patience=2, verbose=1) # 조기 종료 조건 설정\n",
    "history = model.fit(x=[encoder_input_train, decoder_input_train], y=decoder_target_train, \\\n",
    "          validation_data=([encoder_input_test, decoder_input_test], decoder_target_test), \\\n",
    "          batch_size=256, callbacks=[es], epochs=50)"
   ]
  },
  {
   "cell_type": "markdown",
   "id": "interracial-poison",
   "metadata": {},
   "source": [
    "* EarlyStopping 을 추가하여 진행 중에 loss 값이 감소가 아닌 증가가 2회 일어나는 경우, 조기 종료하도록 설정"
   ]
  },
  {
   "cell_type": "code",
   "execution_count": 45,
   "id": "about-clone",
   "metadata": {
    "scrolled": false
   },
   "outputs": [
    {
     "data": {
      "image/png": "[encoded data removed]",
      "text/plain": [
       "<Figure size 432x288 with 1 Axes>"
      ]
     },
     "metadata": {
      "needs_background": "light"
     },
     "output_type": "display_data"
    }
   ],
   "source": [
    "plt.plot(history.history['loss'], label='train')\n",
    "plt.plot(history.history['val_loss'], label='test')\n",
    "plt.legend()\n",
    "plt.show()"
   ]
  },
  {
   "cell_type": "markdown",
   "id": "bottom-closer",
   "metadata": {},
   "source": [
    "* test 의 loss 값이 줄어들지 않는 문제가 생긴것을 볼 수 있다 (overfitting or 다른 문제).\n",
    "* 일단 결과값까지 확인 해 보고 다시 학습 할 필요가 있다고 생각 되면 parameter 들을 조절 해 보려고 한다."
   ]
  },
  {
   "cell_type": "code",
   "execution_count": 194,
   "id": "polar-denial",
   "metadata": {},
   "outputs": [],
   "source": [
    "src_index_to_word = src_tokenizer.index_word # 원문 단어 집합에서 정수 -> 단어를 얻음\n",
    "tar_word_to_index = tar_tokenizer.word_index # 요약 단어 집합에서 단어 -> 정수를 얻음\n",
    "tar_index_to_word = tar_tokenizer.index_word # 요약 단어 집합에서 정수 -> 단어를 얻음"
   ]
  },
  {
   "cell_type": "code",
   "execution_count": 195,
   "id": "focused-fields",
   "metadata": {},
   "outputs": [],
   "source": [
    "# 인코더 설계\n",
    "encoder_model = Model(inputs=encoder_inputs, outputs=[encoder_outputs, state_h, state_c])\n",
    "\n",
    "# 이전 시점의 상태들을 저장하는 텐서\n",
    "decoder_state_input_h = Input(shape=(hidden_size,))\n",
    "decoder_state_input_c = Input(shape=(hidden_size,))\n",
    "\n",
    "dec_emb2 = dec_emb_layer(decoder_inputs)\n",
    "\n",
    "# 문장의 다음 단어를 예측하기 위해서 초기 상태(initial_state)를 이전 시점의 상태로 사용. 이는 뒤의 함수 decode_sequence()에 구현\n",
    "# 훈련 과정에서와 달리 LSTM의 리턴하는 은닉 상태와 셀 상태인 state_h와 state_c를 버리지 않음.\n",
    "decoder_outputs2, state_h2, state_c2 = decoder_lstm(dec_emb2, initial_state=[decoder_state_input_h, decoder_state_input_c])"
   ]
  },
  {
   "cell_type": "code",
   "execution_count": 196,
   "id": "intended-indication",
   "metadata": {},
   "outputs": [],
   "source": [
    "# 어텐션 함수\n",
    "decoder_hidden_state_input = Input(shape=(text_max_len, hidden_size))\n",
    "attn_out_inf, attn_states_inf = attn_layer([decoder_hidden_state_input, decoder_outputs2])\n",
    "decoder_inf_concat = Concatenate(axis=-1, name='concat')([decoder_outputs2, attn_out_inf])\n",
    "\n",
    "# 디코더의 출력층\n",
    "decoder_outputs2 = decoder_softmax_layer(decoder_inf_concat) \n",
    "\n",
    "# 최종 디코더 모델\n",
    "decoder_model = Model(\n",
    "    [decoder_inputs] + [decoder_hidden_state_input,decoder_state_input_h, decoder_state_input_c],\n",
    "    [decoder_outputs2] + [state_h2, state_c2])"
   ]
  },
  {
   "cell_type": "code",
   "execution_count": 197,
   "id": "protecting-walker",
   "metadata": {},
   "outputs": [],
   "source": [
    "def decode_sequence(input_seq):\n",
    "    # 입력으로부터 인코더의 상태를 얻음\n",
    "    e_out, e_h, e_c = encoder_model.predict(input_seq)\n",
    "\n",
    "     # <SOS>에 해당하는 토큰 생성\n",
    "    target_seq = np.zeros((1,1))\n",
    "    target_seq[0, 0] = tar_word_to_index['sostoken']\n",
    "\n",
    "    stop_condition = False\n",
    "    decoded_sentence = ''\n",
    "    while not stop_condition: # stop_condition이 True가 될 때까지 루프 반복\n",
    "\n",
    "        output_tokens, h, c = decoder_model.predict([target_seq] + [e_out, e_h, e_c])\n",
    "        sampled_token_index = np.argmax(output_tokens[0, -1, :])\n",
    "        sampled_token = tar_index_to_word[sampled_token_index]\n",
    "\n",
    "        if (sampled_token!='eostoken'):\n",
    "            decoded_sentence += ' '+sampled_token\n",
    "\n",
    "        #  <eos>에 도달하거나 최대 길이를 넘으면 중단.\n",
    "        if (sampled_token == 'eostoken'  or len(decoded_sentence.split()) >= (headlines_max_len-1)):\n",
    "            stop_condition = True\n",
    "\n",
    "        # 길이가 1인 타겟 시퀀스를 업데이트\n",
    "        target_seq = np.zeros((1,1))\n",
    "        target_seq[0, 0] = sampled_token_index\n",
    "\n",
    "        # 상태를 업데이트 합니다.\n",
    "        e_h, e_c = h, c\n",
    "\n",
    "    return decoded_sentence"
   ]
  },
  {
   "cell_type": "markdown",
   "id": "embedded-mayor",
   "metadata": {},
   "source": [
    "### Step 4. 실제 결과와 요약문 비교\n",
    "#### Model test ( attractive summary )"
   ]
  },
  {
   "cell_type": "code",
   "execution_count": 50,
   "id": "intense-solid",
   "metadata": {},
   "outputs": [],
   "source": [
    "# 원문의 정수 시퀀스를 텍스트 시퀀스로 변환\n",
    "def seq2text(input_seq):\n",
    "    temp=''\n",
    "    for i in input_seq:\n",
    "        if (i!=0):\n",
    "            temp = temp + src_index_to_word[i]+' '\n",
    "    return temp\n",
    "\n",
    "# 요약문의 정수 시퀀스를 텍스트 시퀀스로 변환\n",
    "def seq2headlines(input_seq):\n",
    "    temp=''\n",
    "    for i in input_seq:\n",
    "        if ((i!=0 and i!=tar_word_to_index['sostoken']) and i!=tar_word_to_index['eostoken']):\n",
    "            temp = temp + tar_index_to_word[i] + ' '\n",
    "    return temp"
   ]
  },
  {
   "cell_type": "code",
   "execution_count": 51,
   "id": "dependent-specific",
   "metadata": {},
   "outputs": [
    {
     "name": "stdout",
     "output_type": "stream",
     "text": [
      "<원문> : legendary spinner shane warne sent home day world cup banned year testing positive banned ex nz captain stephen fleming suspended brief period found guilty using marijuana early ex england rounder ian handed day ban using cannabis \n",
      "[실제 요약] : which int cricketers have been banned for drug use \n",
      "[예측 요약] :  shane warne warne to ban on wc final ban\n",
      "\n",
      "\n",
      "<원문> : uruguayan forward luis su rez bit italian defender shoulder group stage match fifa world cup third time su rez career bit opponent first offence coming second su rez suspended football related activity four months following repeat offences \n",
      "[실제 요약] : player once bit his rival during world cup match \n",
      "[예측 요약] :  player pulls out of wc wc after wc exit from wc\n",
      "\n",
      "\n",
      "<원문> : bjp appointed kg bopaiah protem speaker ahead karnataka assembly floor test saturday congress spokesperson randeep surjewala termed legislator tainted stating bjp broke convention appointing senior mla protem speaker surjewala alleged bopaiah violated norms disqualified rebel mlas save bjp government \n",
      "[실제 요약] : bjp appointed speaker is congress \n",
      "[예측 요약] :  bjp wins seats in goa assembly polls\n",
      "\n",
      "\n",
      "<원문> : indian railways plans category stations private participation railways minister suresh prabhu said stations generally located major cities important tourist destinations prabhu said cost redevelopment met commercial development spare railway land air space around station \n",
      "[실제 요약] : indian railways to major stations \n",
      "[예측 요약] :  railways to launch railway stations in trains\n",
      "\n",
      "\n",
      "<원문> : west bengal police detained man son recovered body wife refrigerator inside house son preserved body woman refrigerator two years according reports investigation matter underway \n",
      "[실제 요약] : son detained for mother body in fridge for yrs \n",
      "[예측 요약] :  man kills wife over throwing liquor with wife in west bengal\n",
      "\n",
      "\n",
      "<원문> : bjp leader indore mayor malini function residence monday garlanded photos pm narendra modi madhya pradesh cm shivraj singh chouhan along late husband photo part hindu ritual photo person garlanded passed away congress condemned mayor act \n",
      "[실제 요약] : indore mayor pm cm pics with late husband pic \n",
      "[예측 요약] :  bjp leader performs his birthday to attend pm modi birthday\n",
      "\n",
      "\n",
      "<원문> : islamic state monday claimed responsibility attack police convoy egypt sinai peninsula attack killed police officials left seven others injured militants detonated improvised explosive device destroyed four armoured vehicles signal vehicle officials said \n",
      "[실제 요약] : is claims responsibility for police convoy attack in egypt \n",
      "[예측 요약] :  isis claims responsibility for attack on barcelona\n",
      "\n",
      "\n",
      "<원문> : uk court cleared extradition year old bookie sanjeev chawla key accused match fixing scandal involving late south africa captain india accused moved uk obtained british passport comes uk high court accepted given india regarding tihar jail condition \n",
      "[실제 요약] : uk court clears extradition of accused in match fixing scandal \n",
      "[예측 요약] :  uk court allows uk to trial for anti sikh guilty\n",
      "\n",
      "\n",
      "<원문> : british budget chain claimed shape longer distinctive enough valid trademark made remarks legal documents defending right launch bar last month forced delay launch twin peaks bar legal threat brand owner mondelez \n",
      "[실제 요약] : shape not for trademark \n",
      "[예측 요약] :  uk firm bans legal rules on complaints\n",
      "\n",
      "\n",
      "<원문> : talking google former employee morgan said google air dirty laundry awful project team adding google told would working chrome instead put god piece sh said still \n",
      "[실제 요약] : google project and exec team was former employee \n",
      "[예측 요약] :  google employee claims google employee\n",
      "\n",
      "\n"
     ]
    }
   ],
   "source": [
    "for i in range(10):\n",
    "    print(\"<원문> :\", seq2text(encoder_input_test[i]))\n",
    "    print(\"[실제 요약] :\", seq2headlines(decoder_input_test[i]))\n",
    "    print(\"[예측 요약] :\", decode_sequence(encoder_input_test[i].reshape(1, text_max_len)))\n",
    "    print(\"\\n\")"
   ]
  },
  {
   "cell_type": "markdown",
   "id": "cubic-keeping",
   "metadata": {},
   "source": [
    "* 10개 정도 출력해서 비교해 본 결과 '실제요약'문과 '예측요약'문에 비슷한 단어들이 주로 사용된 경우도 있고 완전 다른 형태로 요약된 경우들도 보인다.\n",
    "* 전반적으로 예측 된 요약문 만을 가지고는 원문의 내용을 추측하기 힘들었다.\n",
    "* 따라서 위에서 loss 값을 시각화 하면서 앞서 언급 한 대로 좀더 학습의 정확도를 높일 필요가 있어보인다."
   ]
  },
  {
   "cell_type": "markdown",
   "id": "whole-camping",
   "metadata": {},
   "source": [
    "#### Model 재설정 -1 : optimizer 변경"
   ]
  },
  {
   "cell_type": "code",
   "execution_count": 42,
   "id": "accepting-ordinary",
   "metadata": {},
   "outputs": [
    {
     "name": "stdout",
     "output_type": "stream",
     "text": [
      "Epoch 1/10\n",
      "308/308 [==============================] - 301s 944ms/step - loss: 4.9976 - val_loss: 4.0414\n",
      "Epoch 2/10\n",
      "308/308 [==============================] - 298s 969ms/step - loss: 4.0152 - val_loss: 3.7537\n",
      "Epoch 3/10\n",
      "308/308 [==============================] - 298s 967ms/step - loss: 3.6857 - val_loss: 3.4270\n",
      "Epoch 4/10\n",
      "308/308 [==============================] - 295s 957ms/step - loss: 3.3466 - val_loss: 3.2123\n",
      "Epoch 5/10\n",
      "308/308 [==============================] - 291s 944ms/step - loss: 3.0995 - val_loss: 3.0789\n",
      "Epoch 6/10\n",
      "308/308 [==============================] - 291s 945ms/step - loss: 2.9126 - val_loss: 2.9721\n",
      "Epoch 7/10\n",
      "308/308 [==============================] - 289s 939ms/step - loss: 2.7586 - val_loss: 2.8989\n",
      "Epoch 8/10\n",
      "308/308 [==============================] - 290s 941ms/step - loss: 2.6235 - val_loss: 2.8398\n",
      "Epoch 9/10\n",
      "308/308 [==============================] - 291s 945ms/step - loss: 2.5090 - val_loss: 2.7942\n",
      "Epoch 10/10\n",
      "308/308 [==============================] - 290s 943ms/step - loss: 2.4078 - val_loss: 2.7588\n"
     ]
    }
   ],
   "source": [
    "model.compile(optimizer='adam', loss='sparse_categorical_crossentropy') # optimizer -> adam 으로 변경\n",
    "es = EarlyStopping(monitor='val_loss', patience=2, verbose=1) # 조기 종료 조건 설정\n",
    "history = model.fit(x=[encoder_input_train, decoder_input_train], y=decoder_target_train, \\\n",
    "          validation_data=([encoder_input_test, decoder_input_test], decoder_target_test), \\\n",
    "          batch_size=256, callbacks=[es], epochs=10)"
   ]
  },
  {
   "cell_type": "code",
   "execution_count": 43,
   "id": "european-rachel",
   "metadata": {},
   "outputs": [
    {
     "data": {
      "image/png": "[encoded data removed]",
      "text/plain": [
       "<Figure size 432x288 with 1 Axes>"
      ]
     },
     "metadata": {
      "needs_background": "light"
     },
     "output_type": "display_data"
    }
   ],
   "source": [
    "plt.plot(history.history['loss'], label='train')\n",
    "plt.plot(history.history['val_loss'], label='test')\n",
    "plt.legend()\n",
    "plt.show()"
   ]
  },
  {
   "cell_type": "markdown",
   "id": "streaming-cherry",
   "metadata": {},
   "source": [
    "* 10 epochs 기준 'rmsprop' 을 사용했을 때 보다 'adam'을 사용했을 때 loss 값이 조금 더 낮아지는 것을 확인 할 수 있었다.\n",
    "* 하지만 전체적인 그래프의 성향은 optimizer를 바꿔봐도 크게 달라지는게 없었다."
   ]
  },
  {
   "cell_type": "markdown",
   "id": "lasting-chuck",
   "metadata": {},
   "source": [
    "#### Model 재설정 -2\n",
    "- 지금 가지고 있는 데이터는 하나하나의 원문의 길이가 그렇게 길지 않다. 하지만 그에 반해 비교하는 단어의 수는 몇 만개가 되기 때문에 상대적으로 accuracy가 낮아질 수 밖에 없는 구조라고 생각된다. 따라서 vocabulary(단어사전) 사이즈를 최대한 줄여서 재실험 해보고자 한다."
   ]
  },
  {
   "cell_type": "code",
   "execution_count": 176,
   "id": "institutional-swaziland",
   "metadata": {
    "scrolled": true
   },
   "outputs": [
    {
     "name": "stdout",
     "output_type": "stream",
     "text": [
      "단어 집합(vocabulary)의 크기 : 69457\n",
      "등장 빈도가 24번 이하인 희귀 단어의 수: 58455\n",
      "단어 집합에서 희귀 단어를 제외시킬 경우의 단어 집합의 크기 11002\n",
      "단어 집합에서 희귀 단어의 비율: 84.15998387491541\n",
      "전체 등장 빈도에서 희귀 단어 등장 빈도 비율: 8.684501249767806\n"
     ]
    }
   ],
   "source": [
    "threshold = 25 # 빈도수 제한 : 7 미만 -> 25 로 설정한다\n",
    "total_cnt = len(src_tokenizer.word_index) # 단어의 수\n",
    "rare_cnt = 0 # 등장 빈도수가 threshold보다 작은 단어의 개수를 카운트\n",
    "total_freq = 0 # 훈련 데이터의 전체 단어 빈도수 총 합\n",
    "rare_freq = 0 # 등장 빈도수가 threshold보다 작은 단어의 등장 빈도수의 총 합\n",
    "\n",
    "# 단어와 빈도수의 쌍(pair)을 key와 value로 받는다.\n",
    "for key, value in src_tokenizer.word_counts.items():\n",
    "    total_freq = total_freq + value\n",
    "\n",
    "    # 단어의 등장 빈도수가 threshold보다 작으면\n",
    "    if(value < threshold):\n",
    "        rare_cnt = rare_cnt + 1\n",
    "        rare_freq = rare_freq + value\n",
    "\n",
    "print('단어 집합(vocabulary)의 크기 :', total_cnt)\n",
    "print('등장 빈도가 %s번 이하인 희귀 단어의 수: %s'%(threshold - 1, rare_cnt))\n",
    "print('단어 집합에서 희귀 단어를 제외시킬 경우의 단어 집합의 크기 %s'%(total_cnt - rare_cnt))\n",
    "print(\"단어 집합에서 희귀 단어의 비율:\", (rare_cnt / total_cnt)*100)\n",
    "print(\"전체 등장 빈도에서 희귀 단어 등장 빈도 비율:\", (rare_freq / total_freq)*100)"
   ]
  },
  {
   "cell_type": "markdown",
   "id": "registered-bottle",
   "metadata": {},
   "source": [
    "* threshold를 25로 설정해 봤더니 단어집합의 크기가 10000 정도 까지 떨어졌다.\n",
    "* 희귀 단어의 빈도가 8% 정도 이기 때문에 이 단어들이 생략된다 하더라도 큰 문제는 없을 것 이라 생각 된다."
   ]
  },
  {
   "cell_type": "code",
   "execution_count": 177,
   "id": "twelve-vampire",
   "metadata": {},
   "outputs": [],
   "source": [
    "src_vocab = 10000 # 단어 집합크기 제한\n",
    "src_tokenizer = Tokenizer(num_words=src_vocab)\n",
    "src_tokenizer.fit_on_texts(encoder_input_train) # 단어 집합 재생성."
   ]
  },
  {
   "cell_type": "code",
   "execution_count": 178,
   "id": "bronze-vocabulary",
   "metadata": {},
   "outputs": [],
   "source": [
    "# 텍스트 시퀀스를 정수 시퀀스로 변환\n",
    "encoder_input_train = src_tokenizer.texts_to_sequences(encoder_input_train) \n",
    "encoder_input_test = src_tokenizer.texts_to_sequences(encoder_input_test)"
   ]
  },
  {
   "cell_type": "code",
   "execution_count": 179,
   "id": "catholic-system",
   "metadata": {},
   "outputs": [],
   "source": [
    "# 'Headlines' 에 대해 동일하게 처리\n",
    "tar_tokenizer = Tokenizer()\n",
    "tar_tokenizer.fit_on_texts(decoder_input_train)"
   ]
  },
  {
   "cell_type": "code",
   "execution_count": 180,
   "id": "executive-armor",
   "metadata": {},
   "outputs": [
    {
     "name": "stdout",
     "output_type": "stream",
     "text": [
      "단어 집합(vocabulary)의 크기 : 30100\n",
      "등장 빈도가 12번 이하인 희귀 단어의 수: 23610\n",
      "단어 집합에서 희귀 단어를 제외시킬 경우의 단어 집합의 크기 6490\n",
      "단어 집합에서 희귀 단어의 비율: 78.43853820598007\n",
      "전체 등장 빈도에서 희귀 단어 등장 빈도 비율: 8.698544175158053\n"
     ]
    }
   ],
   "source": [
    "threshold = 13 # 기존의 7 -> 13 로 설정한다\n",
    "total_cnt = len(tar_tokenizer.word_index) # 단어의 수\n",
    "rare_cnt = 0 # 등장 빈도수가 threshold보다 작은 단어의 개수를 카운트\n",
    "total_freq = 0 # 훈련 데이터의 전체 단어 빈도수 총 합\n",
    "rare_freq = 0 # 등장 빈도수가 threshold보다 작은 단어의 등장 빈도수의 총 합\n",
    "\n",
    "# 단어와 빈도수의 쌍(pair)을 key와 value로 받는다.\n",
    "for key, value in tar_tokenizer.word_counts.items():\n",
    "    total_freq = total_freq + value\n",
    "\n",
    "    # 단어의 등장 빈도수가 threshold보다 작으면\n",
    "    if(value < threshold):\n",
    "        rare_cnt = rare_cnt + 1\n",
    "        rare_freq = rare_freq + value\n",
    "\n",
    "print('단어 집합(vocabulary)의 크기 :', total_cnt)\n",
    "print('등장 빈도가 %s번 이하인 희귀 단어의 수: %s'%(threshold - 1, rare_cnt))\n",
    "print('단어 집합에서 희귀 단어를 제외시킬 경우의 단어 집합의 크기 %s'%(total_cnt - rare_cnt))\n",
    "print(\"단어 집합에서 희귀 단어의 비율:\", (rare_cnt / total_cnt)*100)\n",
    "print(\"전체 등장 빈도에서 희귀 단어 등장 빈도 비율:\", (rare_freq / total_freq)*100)"
   ]
  },
  {
   "cell_type": "markdown",
   "id": "catholic-victoria",
   "metadata": {},
   "source": [
    "* target 데이터 셋에 대해서도 희귀 단어 빈도를 위와 비슷한 8% 대로 맞춰 주기 위해서 threshold를 13으로 설정하였다."
   ]
  },
  {
   "cell_type": "code",
   "execution_count": 181,
   "id": "royal-activity",
   "metadata": {},
   "outputs": [],
   "source": [
    "tar_vocab = 6000 # 위의 결과에 따라 설정\n",
    "tar_tokenizer = Tokenizer(num_words=tar_vocab) \n",
    "tar_tokenizer.fit_on_texts(decoder_input_train)\n",
    "tar_tokenizer.fit_on_texts(decoder_target_train)"
   ]
  },
  {
   "cell_type": "markdown",
   "id": "generous-adaptation",
   "metadata": {},
   "source": [
    "* 이 뒤로는 'Model 훈련' 전 까지 위의 기존의 코드로 동일하게 진행한다."
   ]
  },
  {
   "cell_type": "code",
   "execution_count": 148,
   "id": "fitting-nation",
   "metadata": {},
   "outputs": [
    {
     "name": "stdout",
     "output_type": "stream",
     "text": [
      "Epoch 1/10\n",
      "308/308 [==============================] - 284s 889ms/step - loss: 4.6076 - val_loss: 3.7514\n",
      "Epoch 2/10\n",
      "308/308 [==============================] - 281s 912ms/step - loss: 3.7218 - val_loss: 3.5069\n",
      "Epoch 3/10\n",
      "308/308 [==============================] - 282s 916ms/step - loss: 3.4414 - val_loss: 3.1996\n",
      "Epoch 4/10\n",
      "308/308 [==============================] - 282s 914ms/step - loss: 3.1279 - val_loss: 2.9859\n",
      "Epoch 5/10\n",
      "308/308 [==============================] - 282s 915ms/step - loss: 2.9029 - val_loss: 2.8524\n",
      "Epoch 6/10\n",
      "308/308 [==============================] - 282s 914ms/step - loss: 2.7400 - val_loss: 2.7481\n",
      "Epoch 7/10\n",
      "308/308 [==============================] - 283s 919ms/step - loss: 2.6047 - val_loss: 2.6701\n",
      "Epoch 8/10\n",
      "308/308 [==============================] - 282s 917ms/step - loss: 2.4894 - val_loss: 2.6103\n",
      "Epoch 9/10\n",
      "308/308 [==============================] - 283s 919ms/step - loss: 2.3920 - val_loss: 2.5653\n",
      "Epoch 10/10\n",
      "308/308 [==============================] - 283s 918ms/step - loss: 2.3034 - val_loss: 2.5277\n"
     ]
    }
   ],
   "source": [
    "# 변경 된 vocabulary를 이용한 모델 재 훈련\n",
    "model.compile(optimizer='adam', loss='sparse_categorical_crossentropy') # optimizer = adam\n",
    "es = EarlyStopping(monitor='val_loss', patience=2, verbose=1) # 조기 종료 조건 설정\n",
    "history = model.fit(x=[encoder_input_train, decoder_input_train], y=decoder_target_train, \\\n",
    "          validation_data=([encoder_input_test, decoder_input_test], decoder_target_test), \\\n",
    "          batch_size=256, callbacks=[es], epochs=10) # epochs 10으로 테스트"
   ]
  },
  {
   "cell_type": "code",
   "execution_count": 149,
   "id": "broad-ability",
   "metadata": {
    "scrolled": true
   },
   "outputs": [
    {
     "data": {
      "image/png": "[encoded data removed]",
      "text/plain": [
       "<Figure size 432x288 with 1 Axes>"
      ]
     },
     "metadata": {
      "needs_background": "light"
     },
     "output_type": "display_data"
    }
   ],
   "source": [
    "plt.plot(history.history['loss'], label='train')\n",
    "plt.plot(history.history['val_loss'], label='test')\n",
    "plt.legend()\n",
    "plt.show()"
   ]
  },
  {
   "cell_type": "markdown",
   "id": "skilled-shipping",
   "metadata": {},
   "source": [
    "* loss 값이 더 줄어 드는 것을 볼 수 있고, 두 데이터가 좀 더 fitting 되는 것을 볼 수 있다. 이어서 epochs를 늘려서 테스트를 해보도록 한다."
   ]
  },
  {
   "cell_type": "code",
   "execution_count": 192,
   "id": "behind-branch",
   "metadata": {},
   "outputs": [
    {
     "name": "stdout",
     "output_type": "stream",
     "text": [
      "Epoch 1/50\n",
      "308/308 [==============================] - 286s 894ms/step - loss: 4.6025 - val_loss: 3.7558\n",
      "Epoch 2/50\n",
      "308/308 [==============================] - 281s 912ms/step - loss: 3.7344 - val_loss: 3.5685\n",
      "Epoch 3/50\n",
      "308/308 [==============================] - 283s 920ms/step - loss: 3.5217 - val_loss: 3.3503\n",
      "Epoch 4/50\n",
      "308/308 [==============================] - 283s 919ms/step - loss: 3.3025 - val_loss: 3.1495\n",
      "Epoch 5/50\n",
      "308/308 [==============================] - 284s 923ms/step - loss: 3.0845 - val_loss: 2.9949\n",
      "Epoch 6/50\n",
      "308/308 [==============================] - 284s 921ms/step - loss: 2.9008 - val_loss: 2.8751\n",
      "Epoch 7/50\n",
      "308/308 [==============================] - 281s 913ms/step - loss: 2.7581 - val_loss: 2.7949\n",
      "Epoch 8/50\n",
      "308/308 [==============================] - 281s 912ms/step - loss: 2.6385 - val_loss: 2.7280\n",
      "Epoch 9/50\n",
      "308/308 [==============================] - 281s 912ms/step - loss: 2.5346 - val_loss: 2.6727\n",
      "Epoch 10/50\n",
      "308/308 [==============================] - 281s 913ms/step - loss: 2.4428 - val_loss: 2.6300\n",
      "Epoch 11/50\n",
      "308/308 [==============================] - 281s 914ms/step - loss: 2.3609 - val_loss: 2.6020\n",
      "Epoch 12/50\n",
      "308/308 [==============================] - 281s 914ms/step - loss: 2.2871 - val_loss: 2.5758\n",
      "Epoch 13/50\n",
      "308/308 [==============================] - 281s 913ms/step - loss: 2.2187 - val_loss: 2.5541\n",
      "Epoch 14/50\n",
      "308/308 [==============================] - 281s 913ms/step - loss: 2.1558 - val_loss: 2.5398\n",
      "Epoch 15/50\n",
      "308/308 [==============================] - 282s 915ms/step - loss: 2.1047 - val_loss: 2.5265\n",
      "Epoch 16/50\n",
      "308/308 [==============================] - 282s 915ms/step - loss: 2.0545 - val_loss: 2.5175\n",
      "Epoch 17/50\n",
      "308/308 [==============================] - 281s 914ms/step - loss: 2.0062 - val_loss: 2.5136\n",
      "Epoch 18/50\n",
      "308/308 [==============================] - 281s 913ms/step - loss: 1.9629 - val_loss: 2.5104\n",
      "Epoch 19/50\n",
      "308/308 [==============================] - 282s 916ms/step - loss: 1.9225 - val_loss: 2.5082\n",
      "Epoch 20/50\n",
      "308/308 [==============================] - 282s 915ms/step - loss: 1.8815 - val_loss: 2.5108\n",
      "Epoch 21/50\n",
      "308/308 [==============================] - 281s 914ms/step - loss: 1.8450 - val_loss: 2.5108\n",
      "Epoch 00021: early stopping\n"
     ]
    }
   ],
   "source": [
    "# 변경 된 vocabulary를 이용한 모델 재 훈련\n",
    "model.compile(optimizer='adam', loss='sparse_categorical_crossentropy') # optimizer = adam\n",
    "es = EarlyStopping(monitor='val_loss', patience=2, verbose=1) # 조기 종료 조건 설정\n",
    "history = model.fit(x=[encoder_input_train, decoder_input_train], y=decoder_target_train, \\\n",
    "          validation_data=([encoder_input_test, decoder_input_test], decoder_target_test), \\\n",
    "          batch_size=256, callbacks=[es], epochs=50) # epochs 10으로 테스트"
   ]
  },
  {
   "cell_type": "code",
   "execution_count": 193,
   "id": "ordinary-northeast",
   "metadata": {
    "scrolled": true
   },
   "outputs": [
    {
     "data": {
      "image/png": "[encoded data removed]",
      "text/plain": [
       "<Figure size 432x288 with 1 Axes>"
      ]
     },
     "metadata": {
      "needs_background": "light"
     },
     "output_type": "display_data"
    }
   ],
   "source": [
    "plt.plot(history.history['loss'], label='train')\n",
    "plt.plot(history.history['val_loss'], label='test')\n",
    "plt.legend()\n",
    "plt.show()"
   ]
  },
  {
   "cell_type": "markdown",
   "id": "humanitarian-opera",
   "metadata": {},
   "source": [
    "* epoch의 수가 증가함에 따라 비슷한 문제가 다시 발생하는 것을 확인하였다.\n",
    "* optimizer를 다른 것으로 바꾸거나, 원문의 길이를 늘리는 방식을 통해 어느정도 해결 할 수  있을 것 같다는 생각이 든다."
   ]
  },
  {
   "cell_type": "markdown",
   "id": "social-tennis",
   "metadata": {},
   "source": [
    "#### Model Test -2"
   ]
  },
  {
   "cell_type": "code",
   "execution_count": 198,
   "id": "threatened-smart",
   "metadata": {},
   "outputs": [],
   "source": [
    "# 원문의 정수 시퀀스를 텍스트 시퀀스로 변환\n",
    "def seq2text(input_seq):\n",
    "    temp=''\n",
    "    for i in input_seq:\n",
    "        if (i!=0):\n",
    "            temp = temp + src_index_to_word[i]+' '\n",
    "    return temp\n",
    "\n",
    "# 요약문의 정수 시퀀스를 텍스트 시퀀스로 변환\n",
    "def seq2headlines(input_seq):\n",
    "    temp=''\n",
    "    for i in input_seq:\n",
    "        if ((i!=0 and i!=tar_word_to_index['sostoken']) and i!=tar_word_to_index['eostoken']):\n",
    "            temp = temp + tar_index_to_word[i] + ' '\n",
    "    return temp"
   ]
  },
  {
   "cell_type": "code",
   "execution_count": 199,
   "id": "green-breed",
   "metadata": {},
   "outputs": [
    {
     "name": "stdout",
     "output_type": "stream",
     "text": [
      "<원문> : sharing deepika padukone pictures puja home ahead wedding wrote love moon back happy cannot wait start another picture deepika captioned new deepika get married ranveer singh november \n",
      "[실제 요약] : deepika organises puja at home ahead of wedding with ranveer \n",
      "[예측 요약] :  deepika ranveer to be held at ranveer\n",
      "\n",
      "\n",
      "<원문> : janhvi kapoor talking late mother actress sridevi said acting like breathing mother knowledge cinema acting think never gave tips watching everything even daily life added janhvi said energy around \n",
      "[실제 요약] : acting was like for mom janhvi on sridevi \n",
      "[예측 요약] :  wish janhvi khushi is my dream janhvi\n",
      "\n",
      "\n",
      "<원문> : beats co founders rapper dr jimmy lost million lawsuit steven early developer making company ruled entitled royalties earned headphones based original studio model claimed worked headphones falling founders \n",
      "[실제 요약] : beats co founders lose million lawsuit \n",
      "[예측 요약] :  billionaire to pay mn to us for mn\n",
      "\n",
      "\n",
      "<원문> : manchester united first premier league loss season town saturday first loss side since town without premier league win since august united enjoyed percent possession three shots target sitting five points behind league leaders manchester city \n",
      "[실제 요약] : man united lost to town for st time in yrs \n",
      "[예측 요약] :  manchester united defeat to go points in their st time\n",
      "\n",
      "\n",
      "<원문> : speaking changing trends films actress deepika padukone said see trend films led women much better creative person would like make like male led female led added deepika said film success script \n",
      "[실제 요약] : films led by women are doing much better deepika padukone \n",
      "[예측 요약] :  deepika is not directed to be opened in yrs karan\n",
      "\n",
      "\n",
      "<원문> : two border security force personnel martyred fire pakistani forces late saturday according bsf least villagers injured heavy added comes four days pakistani director general military operations called indian counterpart restore ceasefire agreement \n",
      "[실제 요약] : bsf personnel martyred in ceasefire violation by pakistan \n",
      "[예측 요약] :  bsf kills pak soldiers ceasefire in firing\n",
      "\n",
      "\n",
      "<원문> : jack dorsey ceo twitter payments company square said internet deserves native currency hope bitcoin added square decision let people trade bitcoin mobile app pretty move within company dorsey said technology fundamental shift world \n",
      "[실제 요약] : hope bitcoin will be internet currency twitter ceo \n",
      "[예측 요약] :  twitter ceo admits he is its own stock\n",
      "\n",
      "\n",
      "<원문> : pm narendra modi kerala resident mp said beard look like modi people misusing picture happening said comedy group aib posted picture alongside modi create meme also said often gets selfie requests \n",
      "[실제 요약] : will off my beard modi lookalike after aib meme \n",
      "[예측 요약] :  pm modi praises modi ji on twitter\n",
      "\n",
      "\n",
      "<원문> : haryana power distribution companies announced working towards providing power supply rural areas gurugram august urban areas gurugram already getting power supply added earlier haryana government said aims make gurugram districts power cut free august \n",
      "[실제 요약] : rural areas in gurugram to get power supply from aug \n",
      "[예측 요약] :  noida to get lakh per litre diesel by\n",
      "\n",
      "\n",
      "<원문> : russian became first human space making minute flight april launched aboard spacecraft reached maximum height kilometres craft carried provisions ten days case engines failed required wait orbit naturally \n",
      "[실제 요약] : years since became first man to go to space \n",
      "[예측 요약] :  space station completes st time in space\n",
      "\n",
      "\n"
     ]
    }
   ],
   "source": [
    "for i in range(10):\n",
    "    print(\"<원문> :\", seq2text(encoder_input_test[i]))\n",
    "    print(\"[실제 요약] :\", seq2headlines(decoder_input_test[i]))\n",
    "    print(\"[예측 요약] :\", decode_sequence(encoder_input_test[i].reshape(1, text_max_len)))\n",
    "    print(\"\\n\")"
   ]
  },
  {
   "cell_type": "markdown",
   "id": "intelligent-neighborhood",
   "metadata": {},
   "source": [
    "* 두 번째 모델 테스트의 결과 또한 첫 번 째와 크게 다르지 않아 보인다. \n",
    "* 적당한 문장으로 만들어진 경우도 있지만 그렇지 않은 경우도 많이 보인다.\n"
   ]
  },
  {
   "cell_type": "markdown",
   "id": "stuffed-barcelona",
   "metadata": {},
   "source": [
    "### Step 5. Summa 사용\n",
    "#### Extractive summary"
   ]
  },
  {
   "cell_type": "code",
   "execution_count": 52,
   "id": "primary-venice",
   "metadata": {},
   "outputs": [],
   "source": [
    "import requests\n",
    "from summa.summarizer import summarize # Extractive summary를 위한 library"
   ]
  },
  {
   "cell_type": "code",
   "execution_count": 54,
   "id": "differential-level",
   "metadata": {},
   "outputs": [],
   "source": [
    "data2 = pd.read_csv('news_summary_more.csv', encoding='iso-8859-1')"
   ]
  },
  {
   "cell_type": "code",
   "execution_count": 62,
   "id": "personalized-windows",
   "metadata": {},
   "outputs": [
    {
     "name": "stdout",
     "output_type": "stream",
     "text": [
      "<Original_1:> \n",
      "Saurav Kant, an alumnus of upGrad and IIIT-B's PG Program in Machine learning and Artificial Intelligence, was a Sr Systems Engineer at Infosys with almost 5 years of work experience. The program and upGrad's 360-degree career support helped him transition to a Data Scientist at Tech Mahindra with 90% salary hike. upGrad's Online Power Learning has powered 3 lakh+ careers.\n",
      "[Summary:] \n",
      "The program and upGrad's 360-degree career support helped him transition to a Data Scientist at Tech Mahindra with 90% salary hike.\n",
      "upGrad's Online Power Learning has powered 3 lakh+ careers.\n",
      "\n",
      "<Original_2:> \n",
      "Kunal Shah's credit card bill payment platform, CRED, gave users a chance to win free food from Swiggy for one year. Pranav Kaushik, a Delhi techie, bagged this reward after spending 2000 CRED coins. Users get one CRED coin per rupee of bill paid, which can be used to avail rewards from brands like Ixigo, BookMyShow, UberEats, Cult.Fit and more.\n",
      "[Summary:] \n",
      "Users get one CRED coin per rupee of bill paid, which can be used to avail rewards from brands like Ixigo, BookMyShow, UberEats, Cult.Fit and more.\n",
      "\n",
      "<Original_3:> \n",
      "New Zealand defeated India by 8 wickets in the fourth ODI at Hamilton on Thursday to win their first match of the five-match ODI series. India lost an international match under Rohit Sharma's captaincy after 12 consecutive victories dating back to March 2018. The match witnessed India getting all out for 92, their seventh lowest total in ODI cricket history.\n",
      "[Summary:] \n",
      "The match witnessed India getting all out for 92, their seventh lowest total in ODI cricket history.\n",
      "\n",
      "<Original_4:> \n",
      "With Aegon Life iTerm Insurance plan, customers can enjoy tax benefits on your premiums paid and save up to Ã¢ÂÂ¹46,800^ on taxes. The plan provides life cover up to the age of 100 years. Also, customers have options to insure against Critical Illnesses, Disability and Accidental Death Benefit Rider with a life cover up to the age of 80 years.\n",
      "[Summary:] \n",
      "Also, customers have options to insure against Critical Illnesses, Disability and Accidental Death Benefit Rider with a life cover up to the age of 80 years.\n",
      "\n",
      "<Original_5:> \n",
      "Speaking about the sexual harassment allegations against Rajkumar Hirani, Sonam Kapoor said, \"I've known Hirani for many years...What if it's not true, the [#MeToo] movement will get derailed.\" \"In the #MeToo movement, I always believe a woman. But in this case, we need to reserve our judgment,\" she added. Hirani has been accused by an assistant who worked in 'Sanju'.\n",
      "[Summary:] \n",
      "Speaking about the sexual harassment allegations against Rajkumar Hirani, Sonam Kapoor said, \"I've known Hirani for many years...What if it's not true, the [#MeToo] movement will get derailed.\" \"In the #MeToo movement, I always believe a woman.\n",
      "\n",
      "<Original_6:> \n",
      "Pakistani singer Rahat Fateh Ali Khan has denied receiving any notice from the Enforcement Directorate over allegedly smuggling foreign currency out of India. \"It would have been better if the authorities would have served the notice first if any and then publicised this,\" reads a press release issued on behalf of Rahat. The statement further called the allegation \"bizarre\".\n",
      "[Summary:] \n",
      "Pakistani singer Rahat Fateh Ali Khan has denied receiving any notice from the Enforcement Directorate over allegedly smuggling foreign currency out of India.\n",
      "\n",
      "<Original_7:> \n",
      "India recorded their lowest ODI total in New Zealand after getting all out for 92 runs in 30.5 overs in the fourth ODI at Hamilton on Thursday. Seven of India's batsmen were dismissed for single-digit scores, while their number ten batsman Yuzvendra Chahal top-scored with 18*(37). India's previous lowest ODI total in New Zealand was 108.\n",
      "[Summary:] \n",
      "India's previous lowest ODI total in New Zealand was 108.\n",
      "\n",
      "<Original_8:> \n",
      "Weeks after ex-CBI Director Alok Verma told the Department of Personnel and Training to consider him retired, the Home Ministry asked him to join work on the last day of his fixed tenure as Director on Thursday. The ministry directed him to immediately join as DG, Fire Services, the post he was transferred to after his removal as CBI chief.\n",
      "[Summary:] \n",
      "Weeks after ex-CBI Director Alok Verma told the Department of Personnel and Training to consider him retired, the Home Ministry asked him to join work on the last day of his fixed tenure as Director on Thursday.\n",
      "\n",
      "<Original_9:> \n",
      "Andhra Pradesh CM N Chandrababu Naidu has said, \"When I met then US President Bill Clinton, I addressed him as Mr Clinton, not as 'sir'. (PM Narendra) Modi is my junior in politics...I addressed him as sir 10 times.\" \"I did this...to satisfy his ego in the hope that he will do justice to the state,\" he added.\n",
      "[Summary:] \n",
      "Andhra Pradesh CM N Chandrababu Naidu has said, \"When I met then US President Bill Clinton, I addressed him as Mr Clinton, not as 'sir'.\n",
      "\n",
      "<Original_10:> \n",
      "Congress candidate Shafia Zubair won the Ramgarh Assembly seat in Rajasthan, by defeating BJP's Sukhwant Singh with a margin of 12,228 votes in the bypoll. With this victory, Congress has taken its total to 100 seats in the 200-member assembly. The election to the Ramgarh seat was delayed due to the death of sitting MLA and BSP candidate Laxman Singh.\n",
      "[Summary:] \n",
      "Congress candidate Shafia Zubair won the Ramgarh Assembly seat in Rajasthan, by defeating BJP's Sukhwant Singh with a margin of 12,228 votes in the bypoll.\n",
      "\n"
     ]
    }
   ],
   "source": [
    "for idx, text in enumerate(data2['text'][:10]):\n",
    "    print(f'<Original_{idx+1}:> \\n{text}')\n",
    "    print(f'[Summary:] \\n{summarize(text, words=20)}\\n')"
   ]
  },
  {
   "cell_type": "markdown",
   "id": "negative-hands",
   "metadata": {},
   "source": [
    "* 각 original text 에서 핵심이라고 생각되는 문장들을 그대로 가져온다.\n",
    "* 따라서 문장을 새롭게 요약한다기 보다는 중요한 문장을 구분해 내는 classification 과 같은 메커니즘을 따른 다는 것으로 볼 수 있다.\n",
    "* 위 10개의 예제 중, Original_8 번 텍스트 처럼 길이가 긴 문장들이 핵심인 경우, 문장을 그대로 가져오기 때문에 원문의 절반 이상이 요약문으로 표시 된다. 따라서 summarizer를 사용하는 방식은 전문의 길이가 짧은 text에서는 유용하지 않다고 생각 된다."
   ]
  },
  {
   "cell_type": "markdown",
   "id": "technical-identifier",
   "metadata": {},
   "source": [
    "### Attractive vs. Extractive\n",
    "\n",
    "**Att** <br>\n",
    "[원문] <br>\n",
    "jack dorsey ceo twitter payments company square said internet deserves native currency hope bitcoin added square decision let people trade bitcoin mobile app pretty move within company dorsey said technology fundamental shift world <br>\n",
    "[실제 요약] : hope bitcoin will be internet currency twitter ceo <br>\n",
    "[예측 요약] :  twitter ceo admits he is its own stock <br>\n",
    "\n",
    "**Ext** <br>\n",
    "[원문] <br>\n",
    "New Zealand defeated India by 8 wickets in the fourth ODI at Hamilton on Thursday to win their first match of the five-match ODI series. India lost an international match under Rohit Sharma's captaincy after 12 consecutive victories dating back to March 2018. The match witnessed India getting all out for 92, their seventh lowest total in ODI cricket history. <br>\n",
    "[요약:] <br>\n",
    "The match witnessed India getting all out for 92, their seventh lowest total in ODI cricket history. <br>\n",
    "\n",
    "**각각의 test 결과에서 하나 씩 예문을 가져와 요약 된 정도 및 완성도를 비교해 보고자 한다.**\n",
    "\n",
    "1. 먼저 Attractive 의 원문을 보면 대략 jack dorsey 라는 twitter ceo가 bitcoin이 currency로 인정되길 바란다는 내용이다. 실제 요약된 문장은 이 내용을 상당히 잘 반영하고 있고, 따라서 적절하게 요약되었다고 할 수 있다. 하지만 예측 요약으로 만들어진 문장을 보면 twitter ceo 를 언급하고 있기는 하지만 핵심단어인 bitcoin이 빠져있고 대신 stock이라는 단어가 들어가 있는 것을 볼 수 있다. 그리고 내용도 우리가 원했던 요약문과는 조금 다른 것을 알 수 있다. 따라서 적절히 요약 된 형태가 아니라고 볼 수 있겠다. 현재 만족할 만한 수준으로 학습 된 상태가 아니라는 것을 앞의 그래프와 val_loss 값을 통해 확인 한 상태이기 때문에, 이런 결과가 나온 것이 어쩌면 당연하다고 볼 수 있다. 하지만 만약 학습이 제대로 이뤄지고 [예측 요약] 문장이 [실제 요약] 문장 정도의 정확도를 가지게 된다면 attractive summary 방식이 문장을 요약하는데 있어 상당히 유용하게 사용 될 수 있을 것이라는 사실은 충분 히 알 수 있다. <br> <br>\n",
    "\n",
    "2. Extractive 의 경우, New zealand 와 India 그리고 cricket 이라는 스포츠에 대한 내용인데 원문에서 마지막 문장의 내용이 핵심이라고 할 수 있다. 실제 extractive summary 방식을 통해 요약 된 결과를 보더라도 마지막 문장이 선택되어 출력된 것을 볼 수 있다. 따라서 method는 제대로 작동을 하고 있다는 것을 알 수 있으며, 원문을 모르는 사람이 요약문만을 읽어 본 경우에도 나름 필요한 내용은 알 수 있게 된다. 하지만 역시 원문 전체가 요약 된 형태인 attractive summary의 요약문에 비해서는 그 정보의 양이 상당히 부족할 수 있고 따라서 결국 부족한 정보를 얻기 위해서는 원문을 다시 볼 수 밖에 없는 경우가 많을 것이라 생각 된다. <br> <br>\n",
    "\n",
    "3. 결론적으로 원문 전체의 내용을 요약해서 담고 있는 문장은 attractive summary를 통해 만들어진 문장이라고 볼 수 있으며, 이 경우 정말 필요한 경우가 아니라면 원문을 굳이 확인 해 볼 필요가 없이 요약문 만으로도 필요한 정보를 얻을 수 있을 거라고 생각한다. 하지만 그만큼 정확한 문장을 만들어 내기 위해 많은 양의 학습이 필요하고 높은 수준의 accuracy를 가져야만 가능 할 것이다. 반면에 extractive summary를 이용해 핵심 문장만을 가져오는 경우, 중요하다고 생각되는 한 두 문장을 제공하여 읽는 사람으로 하여금 관심이 있다면 원문을 읽어 볼 수 있도록 유도하는 형태의 성격을 가지는 것으로 보인다. 따라서 다량의 text를 처리 해야하는 경우 라던지, 원문의 길이가 상당히 긴 경우에 사용하기에 적합 해 보인다. 즉, 두 가지 방식이 제공하는 요약문의 성격이 다르며 그에 따라 사용처도 각각 다르다고 할 수 있겠다. <br>\n"
   ]
  },
  {
   "cell_type": "markdown",
   "id": "subsequent-temperature",
   "metadata": {},
   "source": [
    "### Step 6. 회고\n",
    "* Attractive summary 와 Extractive summary 의 두가지 방식으로 요약문을 생성 해 보았다.\n",
    "* 전체 과정을 진행하면서, 만들어진 단어집합에서 등장 빈도가 낮은 단어들을 대량으로 제거 하여 빈도수가 높은 단어들만으로 다시 단어집합을 만드는 부분이 새롭게 느껴졌다.\n",
    "* 개인적으로 생각하기에는 빈도수가 낮은 단어들은 대다수의 경우 고유명사일 가능성이 높다고 생각되는데, 이런 단어들이 제거 되었을 때 정확한 의미를 가진 요약문이 만들어 질 것인지에 대해 의문이 생긴다. 하지만 그렇다고 모든 단어를 그대로 사용하기에는 학습량이 너무 많아 질 것이다. 이 부분에 대한 적절한 조절이 필요 해 보인다.\n",
    "* attractive 와 extractive 방식을 비교해 보자면 학습이 최상으로 이루어 진다는 전제하에 attractive 방식이 유리해 보이고, 원문이 짧은 경우에도 attractive 방식이 적합해 보인다.\n",
    "* 반면 원문이 상당히 긴 경우에는 extractive 방식이 적합할 수도 있다고 보는데, 원문에서 핵심 문장을 그대로 가져오기 때문에 잘못 된 문장이 구성 되어 의미가 바뀌어 버리는 등의 문제가 일어나지 않을 것이고, 따라서 요약된 문장 자체를 이해하기에는 훨씬 수월할 것이다. 물론 가져온 문장들 간의 내용이 매끄럽게 이어지지 않을 수도 있지만, 문장 하나하나를 이해하기가 쉬운만큼 추출 된 각 문장들을 통해 전반적인 내용을 어느정도는 추측할 수 있을 것이라 생각한다.\n",
    "* 하지만 attractive 방식의 학습이 최상으로 이뤄진 상태라면, 따라서 정확하게 요약문을 만들어 낼 수 있는 상태라면 attractive 방식이 더 자연스러운 요약문을 만들어낼 것이라고 본다.\n",
    "* 결국 attractive summary 방식을 사용하고자 한다면 어디까지 학습의 accuracy를 높일 수 있는지가 관건이라고 할 수 있다.\n",
    "* 그리고 개인적으로는 위에서 언급한대로 두 방식이 만들어 내는 요약문의 성격이 다르다고 생각하기에 결국 각각의 방식이 적절하게 사용 될 수 있는 상황이 별개로 존재 한다고 보는 것이 맞지않을까 한다.\n",
    "* Model test를 진행하면서 optimizer의 변경이라던지 threshold 의 조절 같은 간단한 변화들을 주면서 결과값을 비교 해 봤을 때, 문제점들이 한번에 개선될 정도의 큰 변화는 없었다. val_loss 값이 낮아지지 않는 이유는 위에서도 언급했듯이 원문의 길이가 너무 짧고, 상대적으로 비교하는 단어들의 개수는 엄청 많기 때문에 오차가 날 수 밖에 없는 구조라고 본다. 따라서 원문을 여러개 합쳐서 길이를 늘린 상태로 학습을 해보며 추가적으로 optimizer들의 변화를 주는 식으로 test를 여러번 진행 해 보면 val_loss 값을 우리가 원하는 수치 까지 낮출 수 있을 것이라 생각된다. 하지만 시간관계상 그 모든 테스트를 다 해볼 수 는 없었다.\n",
    "* 이번 노드가 지금까지의 NLP 관련 노드중에 가장 어려웠다. 하지만 그 만큼 한 단계 더 나아간 언어처리 방식을 공부할 수 있게 된 것 같아 개인적으로는 만족스럽다. 특히 기존의 LSTM에 attention mechanism 을 추가하는 방식은 앞으로 상당히 다양하게 사용할 수 있어 보인다."
   ]
  }
 ],
 "metadata": {
  "kernelspec": {
   "display_name": "Python 3",
   "language": "python",
   "name": "python3"
  },
  "language_info": {
   "codemirror_mode": {
    "name": "ipython",
    "version": 3
   },
   "file_extension": ".py",
   "mimetype": "text/x-python",
   "name": "python",
   "nbconvert_exporter": "python",
   "pygments_lexer": "ipython3",
   "version": "3.7.9"
  }
 },
 "nbformat": 4,
 "nbformat_minor": 5
}
